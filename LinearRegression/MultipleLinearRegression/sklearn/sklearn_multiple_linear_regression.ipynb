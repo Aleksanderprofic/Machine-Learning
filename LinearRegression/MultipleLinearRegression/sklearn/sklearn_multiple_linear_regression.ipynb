{
  "nbformat": 4,
  "nbformat_minor": 0,
  "metadata": {
    "colab": {
      "name": "sklearn-multiple-linear-regression.ipynb",
      "provenance": [],
      "collapsed_sections": [],
      "toc_visible": true,
      "authorship_tag": "ABX9TyOViMLrjKJ/VCs/dV7fiduI",
      "include_colab_link": true
    },
    "kernelspec": {
      "name": "python3",
      "display_name": "Python 3"
    }
  },
  "cells": [
    {
      "cell_type": "markdown",
      "metadata": {
        "id": "view-in-github",
        "colab_type": "text"
      },
      "source": [
        "<a href=\"https://colab.research.google.com/github/Aleksanderprofic/Machine-Learning/blob/master/LinearRegression/MultipleLinearRegression/sklearn/sklearn_multiple_linear_regression.ipynb\" target=\"_parent\"><img src=\"https://colab.research.google.com/assets/colab-badge.svg\" alt=\"Open In Colab\"/></a>"
      ]
    },
    {
      "cell_type": "markdown",
      "metadata": {
        "id": "9JT3u-Nv9kVB",
        "colab_type": "text"
      },
      "source": [
        "# Multiple Linear Regression <a name=\"mlr\"></a>"
      ]
    },
    {
      "cell_type": "markdown",
      "metadata": {
        "id": "Ohm9Bwp42Yqr",
        "colab_type": "text"
      },
      "source": [
        "## Data loading and data visualisation <a name=\"dladv\"></a>\n",
        "\n"
      ]
    },
    {
      "cell_type": "markdown",
      "metadata": {
        "id": "6XusqfjVZzaZ",
        "colab_type": "text"
      },
      "source": [
        "### Data loading <a name=\"dl\"></a>"
      ]
    },
    {
      "cell_type": "code",
      "metadata": {
        "id": "sBB5BOmI4Hdo",
        "colab_type": "code",
        "outputId": "009bf415-ad79-4dd7-c5d9-c61bd5d5529c",
        "colab": {
          "base_uri": "https://localhost:8080/",
          "height": 204
        }
      },
      "source": [
        "import pandas as pd\n",
        "import matplotlib.pyplot as plt\n",
        "import numpy as np\n",
        "\n",
        "startups_data = pd.read_csv('50_Startups.csv')\n",
        "startups_data.head()"
      ],
      "execution_count": 0,
      "outputs": [
        {
          "output_type": "execute_result",
          "data": {
            "text/html": [
              "<div>\n",
              "<style scoped>\n",
              "    .dataframe tbody tr th:only-of-type {\n",
              "        vertical-align: middle;\n",
              "    }\n",
              "\n",
              "    .dataframe tbody tr th {\n",
              "        vertical-align: top;\n",
              "    }\n",
              "\n",
              "    .dataframe thead th {\n",
              "        text-align: right;\n",
              "    }\n",
              "</style>\n",
              "<table border=\"1\" class=\"dataframe\">\n",
              "  <thead>\n",
              "    <tr style=\"text-align: right;\">\n",
              "      <th></th>\n",
              "      <th>R&amp;D Spend</th>\n",
              "      <th>Administration</th>\n",
              "      <th>Marketing Spend</th>\n",
              "      <th>State</th>\n",
              "      <th>Profit</th>\n",
              "    </tr>\n",
              "  </thead>\n",
              "  <tbody>\n",
              "    <tr>\n",
              "      <th>0</th>\n",
              "      <td>165349.20</td>\n",
              "      <td>136897.80</td>\n",
              "      <td>471784.10</td>\n",
              "      <td>New York</td>\n",
              "      <td>192261.83</td>\n",
              "    </tr>\n",
              "    <tr>\n",
              "      <th>1</th>\n",
              "      <td>162597.70</td>\n",
              "      <td>151377.59</td>\n",
              "      <td>443898.53</td>\n",
              "      <td>California</td>\n",
              "      <td>191792.06</td>\n",
              "    </tr>\n",
              "    <tr>\n",
              "      <th>2</th>\n",
              "      <td>153441.51</td>\n",
              "      <td>101145.55</td>\n",
              "      <td>407934.54</td>\n",
              "      <td>Florida</td>\n",
              "      <td>191050.39</td>\n",
              "    </tr>\n",
              "    <tr>\n",
              "      <th>3</th>\n",
              "      <td>144372.41</td>\n",
              "      <td>118671.85</td>\n",
              "      <td>383199.62</td>\n",
              "      <td>New York</td>\n",
              "      <td>182901.99</td>\n",
              "    </tr>\n",
              "    <tr>\n",
              "      <th>4</th>\n",
              "      <td>142107.34</td>\n",
              "      <td>91391.77</td>\n",
              "      <td>366168.42</td>\n",
              "      <td>Florida</td>\n",
              "      <td>166187.94</td>\n",
              "    </tr>\n",
              "  </tbody>\n",
              "</table>\n",
              "</div>"
            ],
            "text/plain": [
              "   R&D Spend  Administration  Marketing Spend       State     Profit\n",
              "0  165349.20       136897.80        471784.10    New York  192261.83\n",
              "1  162597.70       151377.59        443898.53  California  191792.06\n",
              "2  153441.51       101145.55        407934.54     Florida  191050.39\n",
              "3  144372.41       118671.85        383199.62    New York  182901.99\n",
              "4  142107.34        91391.77        366168.42     Florida  166187.94"
            ]
          },
          "metadata": {
            "tags": []
          },
          "execution_count": 38
        }
      ]
    },
    {
      "cell_type": "markdown",
      "metadata": {
        "id": "x662rfL8BMux",
        "colab_type": "text"
      },
      "source": [
        "#### Taking care of eventual missing values"
      ]
    },
    {
      "cell_type": "code",
      "metadata": {
        "id": "MyDZ2ffJBMYb",
        "colab_type": "code",
        "outputId": "adf5bf24-0148-457e-c173-53845a2f2555",
        "colab": {
          "base_uri": "https://localhost:8080/",
          "height": 102
        }
      },
      "source": [
        "number_of_rows = len(startups_data)\n",
        "\n",
        "for column in startups_data:\n",
        "    column_series = startups_data[column]  \n",
        "    number_of_correct_values = column_series.describe()['count']\n",
        "    number_of_NaNs = number_of_correct_values - number_of_rows\n",
        "    print(f\"Number of missing values in {column}: {number_of_NaNs}\")"
      ],
      "execution_count": 85,
      "outputs": [
        {
          "output_type": "stream",
          "text": [
            "Number of missing values in R&D Spend: 0.0\n",
            "Number of missing values in Administration: 0.0\n",
            "Number of missing values in Marketing Spend: 0.0\n",
            "Number of missing values in State: 0\n",
            "Number of missing values in Profit: 0.0\n"
          ],
          "name": "stdout"
        }
      ]
    },
    {
      "cell_type": "code",
      "metadata": {
        "id": "ypBLHczcSCch",
        "colab_type": "code",
        "colab": {
          "base_uri": "https://localhost:8080/",
          "height": 170
        },
        "outputId": "bab91794-90b8-4421-a4e1-ccb9794d3dea"
      },
      "source": [
        "print(startups_data['R&D Spend'].describe())"
      ],
      "execution_count": 87,
      "outputs": [
        {
          "output_type": "stream",
          "text": [
            "count        50.000000\n",
            "mean      73721.615600\n",
            "std       45902.256482\n",
            "min           0.000000\n",
            "25%       39936.370000\n",
            "50%       73051.080000\n",
            "75%      101602.800000\n",
            "max      165349.200000\n",
            "Name: R&D Spend, dtype: float64\n"
          ],
          "name": "stdout"
        }
      ]
    },
    {
      "cell_type": "markdown",
      "metadata": {
        "id": "qOIBlpel99PX",
        "colab_type": "text"
      },
      "source": [
        "Dataset doesn't contain missing values"
      ]
    },
    {
      "cell_type": "markdown",
      "metadata": {
        "id": "eGM2d9P37iui",
        "colab_type": "text"
      },
      "source": [
        "### Data Visualisation"
      ]
    },
    {
      "cell_type": "markdown",
      "metadata": {
        "id": "JwP7gmrl2B2n",
        "colab_type": "text"
      },
      "source": [
        "#### R&D Spend vs Profit <a name=\"rdsvp\"></a>"
      ]
    },
    {
      "cell_type": "code",
      "metadata": {
        "id": "IP7i0PFD2vdL",
        "colab_type": "code",
        "outputId": "76624e91-53d9-4221-89a8-7b3aaa2a2256",
        "colab": {
          "base_uri": "https://localhost:8080/",
          "height": 295
        }
      },
      "source": [
        "startups_data = startups_data.sort_values('R&D Spend')\n",
        "plt.plot(startups_data['R&D Spend'], startups_data.Profit)\n",
        "plt.title('R&D Spend vs Profit')\n",
        "plt.xlabel('R&D Spend')\n",
        "plt.ylabel('Profit')\n",
        "plt.show()"
      ],
      "execution_count": 0,
      "outputs": [
        {
          "output_type": "display_data",
          "data": {
            "image/png": "[encoded data removed]",
            "text/plain": [
              "<Figure size 432x288 with 1 Axes>"
            ]
          },
          "metadata": {
            "tags": [],
            "needs_background": "light"
          }
        }
      ]
    },
    {
      "cell_type": "code",
      "metadata": {
        "id": "GI0C5EyO4XHM",
        "colab_type": "code",
        "outputId": "6106863b-2b33-4899-b016-a0a78c35c524",
        "colab": {
          "base_uri": "https://localhost:8080/",
          "height": 34
        }
      },
      "source": [
        "startups_data['R&D Spend'].corr(startups_data.Profit)"
      ],
      "execution_count": 0,
      "outputs": [
        {
          "output_type": "execute_result",
          "data": {
            "text/plain": [
              "0.9729004656594825"
            ]
          },
          "metadata": {
            "tags": []
          },
          "execution_count": 42
        }
      ]
    },
    {
      "cell_type": "markdown",
      "metadata": {
        "id": "D39_Pkb3_wVL",
        "colab_type": "text"
      },
      "source": [
        "*Strong Correlation between R&D Spend and Profit*"
      ]
    },
    {
      "cell_type": "markdown",
      "metadata": {
        "id": "f-60wU3t4FQ0",
        "colab_type": "text"
      },
      "source": [
        "#### Administration vs Profit <a name=\"avp\"></a>"
      ]
    },
    {
      "cell_type": "code",
      "metadata": {
        "id": "3bAjq1Jc4E-A",
        "colab_type": "code",
        "outputId": "6de61b11-76ec-4f88-fe9d-10412c1f81f3",
        "colab": {
          "base_uri": "https://localhost:8080/",
          "height": 295
        }
      },
      "source": [
        "startups_data = startups_data.sort_values('Administration')\n",
        "plt.plot(startups_data.Administration, startups_data.Profit)\n",
        "plt.title('Administration Spend vs Profit')\n",
        "plt.xlabel('Administration Spend')\n",
        "plt.ylabel('Profit')\n",
        "plt.show()"
      ],
      "execution_count": 0,
      "outputs": [
        {
          "output_type": "display_data",
          "data": {
            "image/png": "[encoded data removed]",
            "text/plain": [
              "<Figure size 432x288 with 1 Axes>"
            ]
          },
          "metadata": {
            "tags": [],
            "needs_background": "light"
          }
        }
      ]
    },
    {
      "cell_type": "code",
      "metadata": {
        "id": "qIGArrVA5SS2",
        "colab_type": "code",
        "outputId": "02e525cd-c52a-4023-bc47-7404a13d2a3b",
        "colab": {
          "base_uri": "https://localhost:8080/",
          "height": 34
        }
      },
      "source": [
        "startups_data.Administration.corr(startups_data.Profit)"
      ],
      "execution_count": 0,
      "outputs": [
        {
          "output_type": "execute_result",
          "data": {
            "text/plain": [
              "0.2007165682687214"
            ]
          },
          "metadata": {
            "tags": []
          },
          "execution_count": 41
        }
      ]
    },
    {
      "cell_type": "markdown",
      "metadata": {
        "id": "3mnXx59JABYO",
        "colab_type": "text"
      },
      "source": [
        "*Weak Correlation between Administration and Profit*"
      ]
    },
    {
      "cell_type": "markdown",
      "metadata": {
        "id": "475HxBum5hS4",
        "colab_type": "text"
      },
      "source": [
        "#### Marketing Spend vs Profit <a name=\"msvp\"></a>"
      ]
    },
    {
      "cell_type": "code",
      "metadata": {
        "id": "ZDyVli205gkZ",
        "colab_type": "code",
        "outputId": "7a3b5f3d-d809-441e-a3bf-1a15ac94e4b3",
        "colab": {
          "base_uri": "https://localhost:8080/",
          "height": 295
        }
      },
      "source": [
        "startups_data = startups_data.sort_values('Marketing Spend')\n",
        "plt.plot(startups_data['Marketing Spend'], startups_data.Profit)\n",
        "plt.title('Marketing Spend vs Profit')\n",
        "plt.xlabel('Marketing Spend')\n",
        "plt.ylabel('Profit')\n",
        "plt.show()"
      ],
      "execution_count": 0,
      "outputs": [
        {
          "output_type": "display_data",
          "data": {
            "image/png": "[encoded data removed]",
            "text/plain": [
              "<Figure size 432x288 with 1 Axes>"
            ]
          },
          "metadata": {
            "tags": [],
            "needs_background": "light"
          }
        }
      ]
    },
    {
      "cell_type": "code",
      "metadata": {
        "id": "AxjCYb785gGy",
        "colab_type": "code",
        "outputId": "528255ee-91b4-4c81-9571-9b0fa88a632c",
        "colab": {
          "base_uri": "https://localhost:8080/",
          "height": 34
        }
      },
      "source": [
        "startups_data['Marketing Spend'].corr(startups_data.Profit)"
      ],
      "execution_count": 0,
      "outputs": [
        {
          "output_type": "execute_result",
          "data": {
            "text/plain": [
              "0.7477657217414767"
            ]
          },
          "metadata": {
            "tags": []
          },
          "execution_count": 44
        }
      ]
    },
    {
      "cell_type": "markdown",
      "metadata": {
        "id": "E2K4d5-gAUqt",
        "colab_type": "text"
      },
      "source": [
        "*Strong Correlation between Marketing Spend and Profit*"
      ]
    },
    {
      "cell_type": "markdown",
      "metadata": {
        "id": "hpQelEYW6V_n",
        "colab_type": "text"
      },
      "source": [
        "#### Does State matter? <a name=\"dsm\"></a>"
      ]
    },
    {
      "cell_type": "markdown",
      "metadata": {
        "id": "j1ZgFA_t-foD",
        "colab_type": "text"
      },
      "source": [
        "##### Profit by State <a name=\"pbs\"></a>"
      ]
    },
    {
      "cell_type": "code",
      "metadata": {
        "id": "RePfIFfS6WQI",
        "colab_type": "code",
        "outputId": "46b47fcd-275c-487d-96dc-d4f0bc2611a0",
        "colab": {
          "base_uri": "https://localhost:8080/",
          "height": 281
        }
      },
      "source": [
        "x = range(3)\n",
        "\n",
        "sum_bystate_startups_data = startups_data.groupby('State').sum()\n",
        "\n",
        "plt.bar(x, sum_bystate_startups_data.Profit, width=0.7, edgecolor='black')\n",
        "plt.xticks(x, sum_bystate_startups_data.index)\n",
        "plt.title('Profit by State')\n",
        "plt.show()"
      ],
      "execution_count": 0,
      "outputs": [
        {
          "output_type": "display_data",
          "data": {
            "image/png": "[encoded data removed]",
            "text/plain": [
              "<Figure size 432x288 with 1 Axes>"
            ]
          },
          "metadata": {
            "tags": [],
            "needs_background": "light"
          }
        }
      ]
    },
    {
      "cell_type": "markdown",
      "metadata": {
        "id": "U7QfhKtC-ePy",
        "colab_type": "text"
      },
      "source": [
        "##### Mean Profit by State <a name=\"mpbs\"></a>"
      ]
    },
    {
      "cell_type": "code",
      "metadata": {
        "id": "dz-Qk36S-enQ",
        "colab_type": "code",
        "outputId": "4ff8876a-35e5-4d43-bedd-60933de85202",
        "colab": {
          "base_uri": "https://localhost:8080/",
          "height": 281
        }
      },
      "source": [
        "mean_bystate_startups_data = startups_data.groupby('State').mean()\n",
        "\n",
        "plt.bar(x, mean_bystate_startups_data.Profit, width=0.7, edgecolor='black')\n",
        "plt.xticks(x, mean_bystate_startups_data.index)\n",
        "plt.title('Mean Profit by State')\n",
        "plt.show()"
      ],
      "execution_count": 0,
      "outputs": [
        {
          "output_type": "display_data",
          "data": {
            "image/png": "[encoded data removed]",
            "text/plain": [
              "<Figure size 432x288 with 1 Axes>"
            ]
          },
          "metadata": {
            "tags": [],
            "needs_background": "light"
          }
        }
      ]
    },
    {
      "cell_type": "markdown",
      "metadata": {
        "id": "mOqITpcl9GPa",
        "colab_type": "text"
      },
      "source": [
        "*It seems like State matters only a little in terms of future startup's Profit*\n",
        "\n",
        "---\n",
        "\n"
      ]
    },
    {
      "cell_type": "markdown",
      "metadata": {
        "id": "6-trt6G59pR7",
        "colab_type": "text"
      },
      "source": [
        "## Data preprocessing <a name=\"dp\"></a>"
      ]
    },
    {
      "cell_type": "markdown",
      "metadata": {
        "id": "Yg9h1KJG-0Ut",
        "colab_type": "text"
      },
      "source": [
        "### Extracting dependent and independent variables <a name=\"edaiv\"></a>"
      ]
    },
    {
      "cell_type": "code",
      "metadata": {
        "id": "54kat5hV-1Ea",
        "colab_type": "code",
        "colab": {}
      },
      "source": [
        "X = startups_data.iloc[:, :-1].values\n",
        "y = startups_data.iloc[:, -1].values"
      ],
      "execution_count": 0,
      "outputs": []
    },
    {
      "cell_type": "markdown",
      "metadata": {
        "id": "7H2C69wi-HF0",
        "colab_type": "text"
      },
      "source": [
        "### OneHotEncoding categorical variables <a name=\"ohecv\"></a>"
      ]
    },
    {
      "cell_type": "code",
      "metadata": {
        "id": "9yOH9bjr-Dik",
        "colab_type": "code",
        "colab": {}
      },
      "source": [
        "from sklearn.compose import ColumnTransformer\n",
        "from sklearn.preprocessing import OneHotEncoder\n",
        "\n",
        "ct = ColumnTransformer([('State', OneHotEncoder(), [3])], remainder='passthrough')\n",
        "X = ct.fit_transform(X)"
      ],
      "execution_count": 0,
      "outputs": []
    },
    {
      "cell_type": "markdown",
      "metadata": {
        "id": "pOOc-TRLTwFK",
        "colab_type": "text"
      },
      "source": [
        "We don't have to get rid of dummy variable trap because Multiple Linear Regression model will do it automatically"
      ]
    },
    {
      "cell_type": "markdown",
      "metadata": {
        "id": "5o3wQ1BIByhO",
        "colab_type": "text"
      },
      "source": [
        "### Splitting dataset into the Training Set and the Test Set <a name=\"dlasdittsatts\"></a>"
      ]
    },
    {
      "cell_type": "code",
      "metadata": {
        "id": "W_kc2F3EB2mK",
        "colab_type": "code",
        "colab": {}
      },
      "source": [
        "from sklearn.model_selection import train_test_split\n",
        "\n",
        "X_train, X_test, y_train, y_test = train_test_split(X, y, test_size=0.2, random_state=0)"
      ],
      "execution_count": 0,
      "outputs": []
    },
    {
      "cell_type": "markdown",
      "metadata": {
        "id": "rl5uYGunVSZ7",
        "colab_type": "text"
      },
      "source": [
        "## Training, prediction and results visualisation <a name=\"tparv\"></a>"
      ]
    },
    {
      "cell_type": "markdown",
      "metadata": {
        "id": "RV_MJfpVAy5x",
        "colab_type": "text"
      },
      "source": [
        "### Training the Multiple Linear Regression model on the Training set <a name=\"ttmlrmotts\"></a>"
      ]
    },
    {
      "cell_type": "code",
      "metadata": {
        "id": "EqZA45SpAzLL",
        "colab_type": "code",
        "outputId": "8a384ecc-d4fb-47ec-d268-03d8d69e91dd",
        "colab": {
          "base_uri": "https://localhost:8080/",
          "height": 34
        }
      },
      "source": [
        "from sklearn.linear_model import LinearRegression\n",
        "\n",
        "regressor = LinearRegression()\n",
        "regressor.fit(X_train, y_train)"
      ],
      "execution_count": 0,
      "outputs": [
        {
          "output_type": "execute_result",
          "data": {
            "text/plain": [
              "LinearRegression(copy_X=True, fit_intercept=True, n_jobs=None, normalize=False)"
            ]
          },
          "metadata": {
            "tags": []
          },
          "execution_count": 50
        }
      ]
    },
    {
      "cell_type": "markdown",
      "metadata": {
        "id": "eP8jZUsIVNIQ",
        "colab_type": "text"
      },
      "source": [
        "### Predicting the Test set results <a name=\"pttsr\"></a>"
      ]
    },
    {
      "cell_type": "code",
      "metadata": {
        "id": "VLBBfDiGVdSe",
        "colab_type": "code",
        "outputId": "19762573-2f58-4353-a323-31dc41003cc5",
        "colab": {
          "base_uri": "https://localhost:8080/",
          "height": 187
        }
      },
      "source": [
        "y_pred = regressor.predict(X_test)\n",
        "np.set_printoptions(precision=2)\n",
        "print(np.concatenate((\n",
        "    y_pred.reshape(len(y_pred), 1), \n",
        "    y_test.reshape(len(y_test), 1), \n",
        "    (y_pred - y_test).reshape(len(y_pred), 1)), \n",
        "    axis=1))"
      ],
      "execution_count": 0,
      "outputs": [
        {
          "output_type": "stream",
          "text": [
            "[[127277.35 141585.52 -14308.17]\n",
            " [ 99104.96 103282.38  -4177.42]\n",
            " [102670.92 101004.64   1666.28]\n",
            " [153067.63 152211.77    855.86]\n",
            " [ 45215.22  42559.73   2655.49]\n",
            " [135832.95 144259.4   -8426.45]\n",
            " [112395.03 110352.25   2042.78]\n",
            " [147859.45 129917.04  17942.41]\n",
            " [ 72412.38  90708.19 -18295.81]\n",
            " [ 63450.68  65200.33  -1749.65]]\n"
          ],
          "name": "stdout"
        }
      ]
    },
    {
      "cell_type": "markdown",
      "metadata": {
        "id": "v9QM2YyFbcqs",
        "colab_type": "text"
      },
      "source": [
        "*   1st column - Predicted values\n",
        "*   2nd column - Actual values\n",
        "*   3rd column - Difference between Predicted and Actual values"
      ]
    },
    {
      "cell_type": "markdown",
      "metadata": {
        "id": "PfVjDWj1WKKi",
        "colab_type": "text"
      },
      "source": [
        "### Visualising the Test set predictions and actual values <a name=\"vttspaav\"></a>"
      ]
    },
    {
      "cell_type": "code",
      "metadata": {
        "id": "ZRXbUpkTVnIM",
        "colab_type": "code",
        "outputId": "8acc6b08-b6cb-4649-8357-0a7f4dfb9491",
        "colab": {
          "base_uri": "https://localhost:8080/",
          "height": 295
        }
      },
      "source": [
        "x = range(len(y_test))\n",
        "plt.plot(x, y_test, color='red')\n",
        "plt.plot(x, y_pred, color='blue')\n",
        "plt.legend(['Actual values', 'Predicted values'])\n",
        "plt.xticks(x)\n",
        "plt.xlabel('Entry from array')\n",
        "plt.ylabel('Profit')\n",
        "plt.title('Predictions vs Actual values')\n",
        "plt.show()"
      ],
      "execution_count": 0,
      "outputs": [
        {
          "output_type": "display_data",
          "data": {
            "image/png": "[encoded data removed]",
            "text/plain": [
              "<Figure size 432x288 with 1 Axes>"
            ]
          },
          "metadata": {
            "tags": [],
            "needs_background": "light"
          }
        }
      ]
    },
    {
      "cell_type": "markdown",
      "metadata": {
        "id": "7gOXgC6zxGJU",
        "colab_type": "text"
      },
      "source": [
        "### The final equation of Multiple Linear Regression <a name=\"tfeomlr\"></a>"
      ]
    },
    {
      "cell_type": "code",
      "metadata": {
        "id": "RakBNBmjxKhI",
        "colab_type": "code",
        "outputId": "3452a324-51ac-4411-a32f-14d8532bf49a",
        "colab": {
          "base_uri": "https://localhost:8080/",
          "height": 51
        }
      },
      "source": [
        "print(regressor.coef_)\n",
        "print(regressor.intercept_)"
      ],
      "execution_count": 0,
      "outputs": [
        {
          "output_type": "stream",
          "text": [
            "[ 5.54e+01 -1.58e+03  1.52e+03  8.23e-01 -3.71e-02  2.45e-02]\n",
            "50178.07502887831\n"
          ],
          "name": "stdout"
        }
      ]
    },
    {
      "cell_type": "markdown",
      "metadata": {
        "id": "mMXYYf3IKcnk",
        "colab_type": "text"
      },
      "source": [
        "The equation of our multiple linear regression model is:\n",
        "\n",
        "$$\\textrm{Profit} = 55.4 \\times \\textrm{Dummy State 1} - 1580 \\times \\textrm{Dummy State 2} + 1520 \\times \\textrm{Dummy State 3} + 0.823 \\times \\textrm{R&D Spend} - 0.0371 \\times \\textrm{Administration} + 0.0245 \\times \\textrm{Marketing Spend} + 50178.07$$"
      ]
    }
  ]
}