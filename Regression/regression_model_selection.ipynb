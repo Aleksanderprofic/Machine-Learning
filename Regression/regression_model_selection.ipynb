{
  "nbformat": 4,
  "nbformat_minor": 0,
  "metadata": {
    "colab": {
      "name": "regression-model-selection.ipynb",
      "provenance": [],
      "collapsed_sections": [],
      "toc_visible": true,
      "authorship_tag": "ABX9TyP/r8Q1aGTNgdE3a1SJOftC",
      "include_colab_link": true
    },
    "kernelspec": {
      "name": "python3",
      "display_name": "Python 3"
    }
  },
  "cells": [
    {
      "cell_type": "markdown",
      "metadata": {
        "id": "view-in-github",
        "colab_type": "text"
      },
      "source": [
        "<a href=\"https://colab.research.google.com/github/Aleksanderprofic/Machine-Learning/blob/master/Regression/regression_model_selection.ipynb\" target=\"_parent\"><img src=\"https://colab.research.google.com/assets/colab-badge.svg\" alt=\"Open In Colab\"/></a>"
      ]
    },
    {
      "cell_type": "markdown",
      "metadata": {
        "id": "XB4Li99G8YxP",
        "colab_type": "text"
      },
      "source": [
        "# Regression model selection"
      ]
    },
    {
      "cell_type": "markdown",
      "metadata": {
        "id": "FGMGycwY8a4u",
        "colab_type": "text"
      },
      "source": [
        "### Selecting the best model for particular problem out of all available regression models:\n",
        "* Linear Regression, \n",
        "* Polynomial Regression, \n",
        "* Support Vector Regression,\n",
        "* Decision Trees,\n",
        "* Random Forests\n"
      ]
    },
    {
      "cell_type": "markdown",
      "metadata": {
        "id": "_jrQ6Hxp9OoI",
        "colab_type": "text"
      },
      "source": [
        "## Data loading and visualisation"
      ]
    },
    {
      "cell_type": "markdown",
      "metadata": {
        "id": "yk4WGsVh9Rfr",
        "colab_type": "text"
      },
      "source": [
        "### Data loading"
      ]
    },
    {
      "cell_type": "code",
      "metadata": {
        "id": "RCN3TVcT79fr",
        "colab_type": "code",
        "colab": {
          "base_uri": "https://localhost:8080/",
          "height": 204
        },
        "outputId": "d8a17d7f-5bfd-49d7-dcbd-6d490f66989e"
      },
      "source": [
        "import pandas as pd\n",
        "import matplotlib.pyplot as plt\n",
        "import numpy as np\n",
        "\n",
        "dataset = pd.read_csv('Data.csv')\n",
        "dataset.head()"
      ],
      "execution_count": 227,
      "outputs": [
        {
          "output_type": "execute_result",
          "data": {
            "text/html": [
              "<div>\n",
              "<style scoped>\n",
              "    .dataframe tbody tr th:only-of-type {\n",
              "        vertical-align: middle;\n",
              "    }\n",
              "\n",
              "    .dataframe tbody tr th {\n",
              "        vertical-align: top;\n",
              "    }\n",
              "\n",
              "    .dataframe thead th {\n",
              "        text-align: right;\n",
              "    }\n",
              "</style>\n",
              "<table border=\"1\" class=\"dataframe\">\n",
              "  <thead>\n",
              "    <tr style=\"text-align: right;\">\n",
              "      <th></th>\n",
              "      <th>AT</th>\n",
              "      <th>V</th>\n",
              "      <th>AP</th>\n",
              "      <th>RH</th>\n",
              "      <th>PE</th>\n",
              "    </tr>\n",
              "  </thead>\n",
              "  <tbody>\n",
              "    <tr>\n",
              "      <th>0</th>\n",
              "      <td>14.96</td>\n",
              "      <td>41.76</td>\n",
              "      <td>1024.07</td>\n",
              "      <td>73.17</td>\n",
              "      <td>463.26</td>\n",
              "    </tr>\n",
              "    <tr>\n",
              "      <th>1</th>\n",
              "      <td>25.18</td>\n",
              "      <td>62.96</td>\n",
              "      <td>1020.04</td>\n",
              "      <td>59.08</td>\n",
              "      <td>444.37</td>\n",
              "    </tr>\n",
              "    <tr>\n",
              "      <th>2</th>\n",
              "      <td>5.11</td>\n",
              "      <td>39.40</td>\n",
              "      <td>1012.16</td>\n",
              "      <td>92.14</td>\n",
              "      <td>488.56</td>\n",
              "    </tr>\n",
              "    <tr>\n",
              "      <th>3</th>\n",
              "      <td>20.86</td>\n",
              "      <td>57.32</td>\n",
              "      <td>1010.24</td>\n",
              "      <td>76.64</td>\n",
              "      <td>446.48</td>\n",
              "    </tr>\n",
              "    <tr>\n",
              "      <th>4</th>\n",
              "      <td>10.82</td>\n",
              "      <td>37.50</td>\n",
              "      <td>1009.23</td>\n",
              "      <td>96.62</td>\n",
              "      <td>473.90</td>\n",
              "    </tr>\n",
              "  </tbody>\n",
              "</table>\n",
              "</div>"
            ],
            "text/plain": [
              "      AT      V       AP     RH      PE\n",
              "0  14.96  41.76  1024.07  73.17  463.26\n",
              "1  25.18  62.96  1020.04  59.08  444.37\n",
              "2   5.11  39.40  1012.16  92.14  488.56\n",
              "3  20.86  57.32  1010.24  76.64  446.48\n",
              "4  10.82  37.50  1009.23  96.62  473.90"
            ]
          },
          "metadata": {
            "tags": []
          },
          "execution_count": 227
        }
      ]
    },
    {
      "cell_type": "markdown",
      "metadata": {
        "id": "GYxH6WZu9koI",
        "colab_type": "text"
      },
      "source": [
        "### Data Visualisation"
      ]
    },
    {
      "cell_type": "markdown",
      "metadata": {
        "id": "pKEe51ac_Jd9",
        "colab_type": "text"
      },
      "source": [
        "Taking smaller sample size than the whole dataset to make visualisation clearer"
      ]
    },
    {
      "cell_type": "code",
      "metadata": {
        "id": "I9ElXh0S_I7y",
        "colab_type": "code",
        "colab": {}
      },
      "source": [
        "smaller_dataset = dataset.sample(frac=0.3)"
      ],
      "execution_count": 228,
      "outputs": []
    },
    {
      "cell_type": "markdown",
      "metadata": {
        "id": "Qkhc0F7E9q__",
        "colab_type": "text"
      },
      "source": [
        "#### AT vs PE"
      ]
    },
    {
      "cell_type": "code",
      "metadata": {
        "id": "XHQkf9zm9nMA",
        "colab_type": "code",
        "colab": {
          "base_uri": "https://localhost:8080/",
          "height": 295
        },
        "outputId": "92f6ac27-4e36-4bd6-a273-790b3c23d5e4"
      },
      "source": [
        "plt.scatter(smaller_dataset.AT, smaller_dataset.PE, s=5)\n",
        "plt.title('AT vs PE')\n",
        "plt.xlabel('AT')\n",
        "plt.ylabel('PE')\n",
        "plt.show()"
      ],
      "execution_count": 229,
      "outputs": [
        {
          "output_type": "display_data",
          "data": {
            "image/png": "[encoded data removed]",
            "text/plain": [
              "<Figure size 432x288 with 1 Axes>"
            ]
          },
          "metadata": {
            "tags": [],
            "needs_background": "light"
          }
        }
      ]
    },
    {
      "cell_type": "code",
      "metadata": {
        "id": "yMSau2kc-KDr",
        "colab_type": "code",
        "colab": {
          "base_uri": "https://localhost:8080/",
          "height": 34
        },
        "outputId": "6d60ccd6-dffc-41a0-d560-10665a55839f"
      },
      "source": [
        "smaller_dataset.AT.corr(dataset.PE)"
      ],
      "execution_count": 230,
      "outputs": [
        {
          "output_type": "execute_result",
          "data": {
            "text/plain": [
              "-0.9501100555663285"
            ]
          },
          "metadata": {
            "tags": []
          },
          "execution_count": 230
        }
      ]
    },
    {
      "cell_type": "markdown",
      "metadata": {
        "id": "pqybo5q2-cMB",
        "colab_type": "text"
      },
      "source": [
        "Strong negative correlation between AT and PE"
      ]
    },
    {
      "cell_type": "markdown",
      "metadata": {
        "id": "KBEge98a-fHw",
        "colab_type": "text"
      },
      "source": [
        "#### V vs PE"
      ]
    },
    {
      "cell_type": "code",
      "metadata": {
        "id": "fkYfJUfU-hp7",
        "colab_type": "code",
        "colab": {
          "base_uri": "https://localhost:8080/",
          "height": 295
        },
        "outputId": "f1ceccfd-6105-43ff-c09f-1c1788b21e60"
      },
      "source": [
        "plt.scatter(smaller_dataset.V, smaller_dataset.PE, s=5)\n",
        "plt.title('V vs PE')\n",
        "plt.xlabel('V')\n",
        "plt.ylabel('PE')\n",
        "plt.show()"
      ],
      "execution_count": 231,
      "outputs": [
        {
          "output_type": "display_data",
          "data": {
            "image/png": "[encoded data removed]",
            "text/plain": [
              "<Figure size 432x288 with 1 Axes>"
            ]
          },
          "metadata": {
            "tags": [],
            "needs_background": "light"
          }
        }
      ]
    },
    {
      "cell_type": "code",
      "metadata": {
        "id": "dmecm85P-nGn",
        "colab_type": "code",
        "colab": {
          "base_uri": "https://localhost:8080/",
          "height": 34
        },
        "outputId": "030bcc01-dad3-4179-892a-5563fdcf8905"
      },
      "source": [
        "smaller_dataset.V.corr(dataset.PE)"
      ],
      "execution_count": 232,
      "outputs": [
        {
          "output_type": "execute_result",
          "data": {
            "text/plain": [
              "-0.8728306548389285"
            ]
          },
          "metadata": {
            "tags": []
          },
          "execution_count": 232
        }
      ]
    },
    {
      "cell_type": "markdown",
      "metadata": {
        "id": "nn51gkfT-ot0",
        "colab_type": "text"
      },
      "source": [
        "Strong negative correlation between V and PE"
      ]
    },
    {
      "cell_type": "markdown",
      "metadata": {
        "id": "5vqyEHcg-qyk",
        "colab_type": "text"
      },
      "source": [
        "#### AP vs PE"
      ]
    },
    {
      "cell_type": "code",
      "metadata": {
        "id": "rZnZueS8_i-4",
        "colab_type": "code",
        "colab": {
          "base_uri": "https://localhost:8080/",
          "height": 295
        },
        "outputId": "4289312a-4772-4d06-8d8f-6cf9559763b0"
      },
      "source": [
        "plt.scatter(smaller_dataset.AP, smaller_dataset.PE, s=5)\n",
        "plt.title('AP vs PE')\n",
        "plt.xlabel('AP')\n",
        "plt.ylabel('PE')\n",
        "plt.show()"
      ],
      "execution_count": 233,
      "outputs": [
        {
          "output_type": "display_data",
          "data": {
            "image/png": "[encoded data removed]",
            "text/plain": [
              "<Figure size 432x288 with 1 Axes>"
            ]
          },
          "metadata": {
            "tags": [],
            "needs_background": "light"
          }
        }
      ]
    },
    {
      "cell_type": "code",
      "metadata": {
        "id": "lH9Jl67t_oKn",
        "colab_type": "code",
        "colab": {
          "base_uri": "https://localhost:8080/",
          "height": 34
        },
        "outputId": "e03b573d-a7de-484b-85ed-fbb7954705c0"
      },
      "source": [
        "smaller_dataset.AP.corr(smaller_dataset.PE)"
      ],
      "execution_count": 234,
      "outputs": [
        {
          "output_type": "execute_result",
          "data": {
            "text/plain": [
              "0.5247409214569114"
            ]
          },
          "metadata": {
            "tags": []
          },
          "execution_count": 234
        }
      ]
    },
    {
      "cell_type": "markdown",
      "metadata": {
        "id": "yq6uFuqy_xE8",
        "colab_type": "text"
      },
      "source": [
        "There is some positive correlation between AP and PE"
      ]
    },
    {
      "cell_type": "markdown",
      "metadata": {
        "id": "4KtVmjWr_39F",
        "colab_type": "text"
      },
      "source": [
        "#### RH vs PE"
      ]
    },
    {
      "cell_type": "code",
      "metadata": {
        "id": "3LdRYd94_0w_",
        "colab_type": "code",
        "colab": {
          "base_uri": "https://localhost:8080/",
          "height": 295
        },
        "outputId": "4673ad63-a215-4487-9a9c-1be2de8ada30"
      },
      "source": [
        "plt.scatter(smaller_dataset.RH, smaller_dataset.PE, s=5)\n",
        "plt.title('RH vs PE')\n",
        "plt.xlabel('RH')\n",
        "plt.ylabel('PE')\n",
        "plt.show()"
      ],
      "execution_count": 235,
      "outputs": [
        {
          "output_type": "display_data",
          "data": {
            "image/png": "[encoded data removed]",
            "text/plain": [
              "<Figure size 432x288 with 1 Axes>"
            ]
          },
          "metadata": {
            "tags": [],
            "needs_background": "light"
          }
        }
      ]
    },
    {
      "cell_type": "code",
      "metadata": {
        "id": "CwiU9h3sAC16",
        "colab_type": "code",
        "colab": {
          "base_uri": "https://localhost:8080/",
          "height": 34
        },
        "outputId": "9ed9ad81-82dc-4bce-ecc0-1d2fa3371aeb"
      },
      "source": [
        "smaller_dataset.RH.corr(smaller_dataset.PE)"
      ],
      "execution_count": 236,
      "outputs": [
        {
          "output_type": "execute_result",
          "data": {
            "text/plain": [
              "0.395896409763594"
            ]
          },
          "metadata": {
            "tags": []
          },
          "execution_count": 236
        }
      ]
    },
    {
      "cell_type": "markdown",
      "metadata": {
        "id": "k_hkkCskAQfj",
        "colab_type": "text"
      },
      "source": [
        "There is a weak correlation between RH and PE"
      ]
    },
    {
      "cell_type": "markdown",
      "metadata": {
        "id": "-VAKwNnhAyww",
        "colab_type": "text"
      },
      "source": [
        "## Data preprocessing"
      ]
    },
    {
      "cell_type": "markdown",
      "metadata": {
        "id": "6i0-4gv0BChi",
        "colab_type": "text"
      },
      "source": [
        "### Extracting dependent and independent variables"
      ]
    },
    {
      "cell_type": "code",
      "metadata": {
        "id": "tuq_q8X3A7-A",
        "colab_type": "code",
        "colab": {}
      },
      "source": [
        "X = dataset.iloc[:, :-1].values\n",
        "y = dataset.iloc[:, -1].values"
      ],
      "execution_count": 237,
      "outputs": []
    },
    {
      "cell_type": "markdown",
      "metadata": {
        "id": "mpUmnKEgBsZP",
        "colab_type": "text"
      },
      "source": [
        "### Splitting dataset into the Training Set and the Test Set "
      ]
    },
    {
      "cell_type": "code",
      "metadata": {
        "id": "-mjeXHKiBtXc",
        "colab_type": "code",
        "colab": {}
      },
      "source": [
        "from sklearn.model_selection import train_test_split\n",
        "\n",
        "X_train, X_test, y_train, y_test = train_test_split(X, y, test_size=0.2, random_state=0)"
      ],
      "execution_count": 238,
      "outputs": []
    },
    {
      "cell_type": "markdown",
      "metadata": {
        "id": "1pF9b6LUCUfm",
        "colab_type": "text"
      },
      "source": [
        "## Training and predictions"
      ]
    },
    {
      "cell_type": "markdown",
      "metadata": {
        "id": "NEAb5RQECyr8",
        "colab_type": "text"
      },
      "source": [
        "### Multiple Linear Regression"
      ]
    },
    {
      "cell_type": "code",
      "metadata": {
        "id": "9h91bxzGCV3Z",
        "colab_type": "code",
        "colab": {
          "base_uri": "https://localhost:8080/",
          "height": 34
        },
        "outputId": "bdbd074e-4f40-448b-b7f2-041afe6621cf"
      },
      "source": [
        "from sklearn.linear_model import LinearRegression\n",
        "\n",
        "lin_regressor = LinearRegression()\n",
        "lin_regressor.fit(X_train, y_train)"
      ],
      "execution_count": 239,
      "outputs": [
        {
          "output_type": "execute_result",
          "data": {
            "text/plain": [
              "LinearRegression(copy_X=True, fit_intercept=True, n_jobs=None, normalize=False)"
            ]
          },
          "metadata": {
            "tags": []
          },
          "execution_count": 239
        }
      ]
    },
    {
      "cell_type": "code",
      "metadata": {
        "id": "yPGB3EvwDDjL",
        "colab_type": "code",
        "colab": {
          "base_uri": "https://localhost:8080/",
          "height": 34
        },
        "outputId": "55f64f85-76ce-4af7-96dd-c9a2150b1de4"
      },
      "source": [
        "lin_y_pred = lin_regressor.predict(X_test)\n",
        "lin_y_pred"
      ],
      "execution_count": 240,
      "outputs": [
        {
          "output_type": "execute_result",
          "data": {
            "text/plain": [
              "array([431.43, 458.56, 462.75, ..., 469.52, 442.42, 461.88])"
            ]
          },
          "metadata": {
            "tags": []
          },
          "execution_count": 240
        }
      ]
    },
    {
      "cell_type": "code",
      "metadata": {
        "id": "TpINuMMMbUKw",
        "colab_type": "code",
        "colab": {
          "base_uri": "https://localhost:8080/",
          "height": 136
        },
        "outputId": "f692a079-4192-41bd-f2a1-7f18f13b4ed5"
      },
      "source": [
        "np.set_printoptions(precision=2)\n",
        "\n",
        "print(np.concatenate((lin_y_pred.reshape(-1, 1), y_test.reshape(-1, 1)), 1))"
      ],
      "execution_count": 241,
      "outputs": [
        {
          "output_type": "stream",
          "text": [
            "[[431.43 431.23]\n",
            " [458.56 460.01]\n",
            " [462.75 461.14]\n",
            " ...\n",
            " [469.52 473.26]\n",
            " [442.42 438.  ]\n",
            " [461.88 463.28]]\n"
          ],
          "name": "stdout"
        }
      ]
    },
    {
      "cell_type": "markdown",
      "metadata": {
        "id": "aKserpuaJNED",
        "colab_type": "text"
      },
      "source": [
        "### Polynomial Regression"
      ]
    },
    {
      "cell_type": "code",
      "metadata": {
        "id": "K2Q60LyJJMvF",
        "colab_type": "code",
        "colab": {
          "base_uri": "https://localhost:8080/",
          "height": 34
        },
        "outputId": "0272613a-497e-466f-d18a-ef4b705afaf2"
      },
      "source": [
        "from sklearn.preprocessing import PolynomialFeatures\n",
        "\n",
        "poly_reg = PolynomialFeatures(degree=4)\n",
        "X_reg = poly_reg.fit_transform(X_train)\n",
        "\n",
        "poly_regressor = LinearRegression()\n",
        "poly_regressor.fit(X_reg, y_train)"
      ],
      "execution_count": 242,
      "outputs": [
        {
          "output_type": "execute_result",
          "data": {
            "text/plain": [
              "LinearRegression(copy_X=True, fit_intercept=True, n_jobs=None, normalize=False)"
            ]
          },
          "metadata": {
            "tags": []
          },
          "execution_count": 242
        }
      ]
    },
    {
      "cell_type": "code",
      "metadata": {
        "id": "z5vHpAvIUjuh",
        "colab_type": "code",
        "colab": {
          "base_uri": "https://localhost:8080/",
          "height": 34
        },
        "outputId": "3899c77e-b640-45ed-d690-730c3221b83e"
      },
      "source": [
        "poly_y_pred = poly_regressor.predict(poly_reg.transform(X_test))\n",
        "poly_y_pred"
      ],
      "execution_count": 243,
      "outputs": [
        {
          "output_type": "execute_result",
          "data": {
            "text/plain": [
              "array([433.94, 457.9 , 460.52, ..., 469.53, 438.27, 461.66])"
            ]
          },
          "metadata": {
            "tags": []
          },
          "execution_count": 243
        }
      ]
    },
    {
      "cell_type": "code",
      "metadata": {
        "id": "bDXEFk8BUs7Q",
        "colab_type": "code",
        "colab": {
          "base_uri": "https://localhost:8080/",
          "height": 136
        },
        "outputId": "c66399fd-27c6-41ed-b126-cb17fa229b98"
      },
      "source": [
        "print(np.concatenate((poly_y_pred.reshape(-1, 1), y_test.reshape(-1, 1)), 1))"
      ],
      "execution_count": 244,
      "outputs": [
        {
          "output_type": "stream",
          "text": [
            "[[433.94 431.23]\n",
            " [457.9  460.01]\n",
            " [460.52 461.14]\n",
            " ...\n",
            " [469.53 473.26]\n",
            " [438.27 438.  ]\n",
            " [461.66 463.28]]\n"
          ],
          "name": "stdout"
        }
      ]
    },
    {
      "cell_type": "markdown",
      "metadata": {
        "id": "n5zGH2_zQDXB",
        "colab_type": "text"
      },
      "source": [
        "### Support Vector Regression"
      ]
    },
    {
      "cell_type": "markdown",
      "metadata": {
        "id": "y__-X6lbXp15",
        "colab_type": "text"
      },
      "source": [
        "#### Feature scaling"
      ]
    },
    {
      "cell_type": "code",
      "metadata": {
        "id": "YwQ5urB-XrGk",
        "colab_type": "code",
        "colab": {}
      },
      "source": [
        "from sklearn.preprocessing import StandardScaler\n",
        "\n",
        "sc_X = StandardScaler()\n",
        "sc_y = StandardScaler()\n",
        "\n",
        "X_scaled = sc_X.fit_transform(X_train)\n",
        "y_scaled = sc_y.fit_transform(y_train.reshape(-1, 1))"
      ],
      "execution_count": 245,
      "outputs": []
    },
    {
      "cell_type": "markdown",
      "metadata": {
        "id": "BUNZ9FfAbzxM",
        "colab_type": "text"
      },
      "source": [
        "#### Training"
      ]
    },
    {
      "cell_type": "code",
      "metadata": {
        "id": "nEamTcoqQFcx",
        "colab_type": "code",
        "colab": {
          "base_uri": "https://localhost:8080/",
          "height": 105
        },
        "outputId": "ae037aef-ffae-4947-a464-a47049aaf791"
      },
      "source": [
        "from sklearn.svm import SVR\n",
        "\n",
        "svr_regressor = SVR(kernel='rbf')\n",
        "svr_regressor.fit(X_scaled, y_scaled)"
      ],
      "execution_count": 246,
      "outputs": [
        {
          "output_type": "stream",
          "text": [
            "/usr/local/lib/python3.6/dist-packages/sklearn/utils/validation.py:760: DataConversionWarning: A column-vector y was passed when a 1d array was expected. Please change the shape of y to (n_samples, ), for example using ravel().\n",
            "  y = column_or_1d(y, warn=True)\n"
          ],
          "name": "stderr"
        },
        {
          "output_type": "execute_result",
          "data": {
            "text/plain": [
              "SVR(C=1.0, cache_size=200, coef0=0.0, degree=3, epsilon=0.1, gamma='scale',\n",
              "    kernel='rbf', max_iter=-1, shrinking=True, tol=0.001, verbose=False)"
            ]
          },
          "metadata": {
            "tags": []
          },
          "execution_count": 246
        }
      ]
    },
    {
      "cell_type": "code",
      "metadata": {
        "id": "3faFuUWSQXDJ",
        "colab_type": "code",
        "colab": {
          "base_uri": "https://localhost:8080/",
          "height": 34
        },
        "outputId": "7e4a430d-f2e8-49eb-831e-46636d6ce740"
      },
      "source": [
        "svr_y_pred = sc_y.inverse_transform(svr_regressor.predict(sc_X.transform(X_test)))\n",
        "svr_y_pred"
      ],
      "execution_count": 247,
      "outputs": [
        {
          "output_type": "execute_result",
          "data": {
            "text/plain": [
              "array([434.05, 457.94, 461.03, ..., 470.6 , 439.42, 460.92])"
            ]
          },
          "metadata": {
            "tags": []
          },
          "execution_count": 247
        }
      ]
    },
    {
      "cell_type": "code",
      "metadata": {
        "id": "uFXZ7vHqb6js",
        "colab_type": "code",
        "colab": {
          "base_uri": "https://localhost:8080/",
          "height": 136
        },
        "outputId": "5b44eec3-ff0e-4476-99a9-62ae05791332"
      },
      "source": [
        "print(np.concatenate((svr_y_pred.reshape(-1, 1), y_test.reshape(-1, 1)), 1))"
      ],
      "execution_count": 248,
      "outputs": [
        {
          "output_type": "stream",
          "text": [
            "[[434.05 431.23]\n",
            " [457.94 460.01]\n",
            " [461.03 461.14]\n",
            " ...\n",
            " [470.6  473.26]\n",
            " [439.42 438.  ]\n",
            " [460.92 463.28]]\n"
          ],
          "name": "stdout"
        }
      ]
    },
    {
      "cell_type": "markdown",
      "metadata": {
        "id": "klQWZEvCQi1n",
        "colab_type": "text"
      },
      "source": [
        "### Decision Tree Regression"
      ]
    },
    {
      "cell_type": "code",
      "metadata": {
        "id": "vzwvrCLxQsaK",
        "colab_type": "code",
        "colab": {
          "base_uri": "https://localhost:8080/",
          "height": 119
        },
        "outputId": "ced23d07-2c47-4237-da10-44b6b8fa432c"
      },
      "source": [
        "from sklearn.tree import DecisionTreeRegressor\n",
        "\n",
        "tree_regressor = DecisionTreeRegressor()\n",
        "tree_regressor.fit(X_train, y_train)"
      ],
      "execution_count": 249,
      "outputs": [
        {
          "output_type": "execute_result",
          "data": {
            "text/plain": [
              "DecisionTreeRegressor(ccp_alpha=0.0, criterion='mse', max_depth=None,\n",
              "                      max_features=None, max_leaf_nodes=None,\n",
              "                      min_impurity_decrease=0.0, min_impurity_split=None,\n",
              "                      min_samples_leaf=1, min_samples_split=2,\n",
              "                      min_weight_fraction_leaf=0.0, presort='deprecated',\n",
              "                      random_state=None, splitter='best')"
            ]
          },
          "metadata": {
            "tags": []
          },
          "execution_count": 249
        }
      ]
    },
    {
      "cell_type": "code",
      "metadata": {
        "id": "h8fUQuFXQ-2b",
        "colab_type": "code",
        "colab": {
          "base_uri": "https://localhost:8080/",
          "height": 34
        },
        "outputId": "071fb411-ff94-43e3-cd49-1a2bd0d8acdf"
      },
      "source": [
        "tree_y_pred = tree_regressor.predict(X_test)\n",
        "tree_y_pred"
      ],
      "execution_count": 250,
      "outputs": [
        {
          "output_type": "execute_result",
          "data": {
            "text/plain": [
              "array([431.28, 459.59, 460.06, ..., 471.46, 437.76, 462.55])"
            ]
          },
          "metadata": {
            "tags": []
          },
          "execution_count": 250
        }
      ]
    },
    {
      "cell_type": "code",
      "metadata": {
        "id": "r0QDbR_Nb5Xk",
        "colab_type": "code",
        "colab": {
          "base_uri": "https://localhost:8080/",
          "height": 136
        },
        "outputId": "063f552d-f4e7-40e9-d70c-35d9cb4ef1b8"
      },
      "source": [
        "print(np.concatenate((tree_y_pred.reshape(-1, 1), y_test.reshape(-1, 1)), 1))"
      ],
      "execution_count": 251,
      "outputs": [
        {
          "output_type": "stream",
          "text": [
            "[[431.28 431.23]\n",
            " [459.59 460.01]\n",
            " [460.06 461.14]\n",
            " ...\n",
            " [471.46 473.26]\n",
            " [437.76 438.  ]\n",
            " [462.55 463.28]]\n"
          ],
          "name": "stdout"
        }
      ]
    },
    {
      "cell_type": "markdown",
      "metadata": {
        "id": "XJIAjIK5RggJ",
        "colab_type": "text"
      },
      "source": [
        "### Random Forest Regression"
      ]
    },
    {
      "cell_type": "code",
      "metadata": {
        "id": "7_-5ohHXRiPu",
        "colab_type": "code",
        "colab": {
          "base_uri": "https://localhost:8080/",
          "height": 136
        },
        "outputId": "06746dd7-308d-48f5-f616-55a6f535be64"
      },
      "source": [
        "from sklearn.ensemble import RandomForestRegressor\n",
        "\n",
        "forest_regressor = RandomForestRegressor(n_estimators=10)\n",
        "forest_regressor.fit(X_train, y_train)"
      ],
      "execution_count": 252,
      "outputs": [
        {
          "output_type": "execute_result",
          "data": {
            "text/plain": [
              "RandomForestRegressor(bootstrap=True, ccp_alpha=0.0, criterion='mse',\n",
              "                      max_depth=None, max_features='auto', max_leaf_nodes=None,\n",
              "                      max_samples=None, min_impurity_decrease=0.0,\n",
              "                      min_impurity_split=None, min_samples_leaf=1,\n",
              "                      min_samples_split=2, min_weight_fraction_leaf=0.0,\n",
              "                      n_estimators=10, n_jobs=None, oob_score=False,\n",
              "                      random_state=None, verbose=0, warm_start=False)"
            ]
          },
          "metadata": {
            "tags": []
          },
          "execution_count": 252
        }
      ]
    },
    {
      "cell_type": "code",
      "metadata": {
        "id": "8J0V5dGeRnpX",
        "colab_type": "code",
        "colab": {
          "base_uri": "https://localhost:8080/",
          "height": 34
        },
        "outputId": "d5504282-2233-498c-8cfe-4f73235e7782"
      },
      "source": [
        "forest_y_pred = forest_regressor.predict(X_test)\n",
        "forest_y_pred"
      ],
      "execution_count": 253,
      "outputs": [
        {
          "output_type": "execute_result",
          "data": {
            "text/plain": [
              "array([434.45, 457.18, 464.17, ..., 470.34, 438.58, 462.04])"
            ]
          },
          "metadata": {
            "tags": []
          },
          "execution_count": 253
        }
      ]
    },
    {
      "cell_type": "code",
      "metadata": {
        "id": "Wk_TWDGycJOp",
        "colab_type": "code",
        "colab": {
          "base_uri": "https://localhost:8080/",
          "height": 136
        },
        "outputId": "cac71cde-4e66-4382-e8df-5fe386ad6811"
      },
      "source": [
        "print(np.concatenate((forest_y_pred.reshape(-1, 1), y_test.reshape(-1, 1)), 1))"
      ],
      "execution_count": 254,
      "outputs": [
        {
          "output_type": "stream",
          "text": [
            "[[434.45 431.23]\n",
            " [457.18 460.01]\n",
            " [464.17 461.14]\n",
            " ...\n",
            " [470.34 473.26]\n",
            " [438.58 438.  ]\n",
            " [462.04 463.28]]\n"
          ],
          "name": "stdout"
        }
      ]
    },
    {
      "cell_type": "markdown",
      "metadata": {
        "id": "G-2-IvJ-iOqr",
        "colab_type": "text"
      },
      "source": [
        "## Evaluating Models performance with R-squared"
      ]
    },
    {
      "cell_type": "markdown",
      "metadata": {
        "id": "-WkSUPWLi8II",
        "colab_type": "text"
      },
      "source": [
        "### Multiple Linear Regression"
      ]
    },
    {
      "cell_type": "code",
      "metadata": {
        "id": "ycgTr4koiQd0",
        "colab_type": "code",
        "colab": {
          "base_uri": "https://localhost:8080/",
          "height": 34
        },
        "outputId": "12076752-977a-4db5-e782-b21024357c6f"
      },
      "source": [
        "from sklearn.metrics import r2_score\n",
        "r2_score(y_test, lin_y_pred)"
      ],
      "execution_count": 255,
      "outputs": [
        {
          "output_type": "execute_result",
          "data": {
            "text/plain": [
              "0.9325315554761302"
            ]
          },
          "metadata": {
            "tags": []
          },
          "execution_count": 255
        }
      ]
    },
    {
      "cell_type": "markdown",
      "metadata": {
        "id": "UktyFhfpjBhZ",
        "colab_type": "text"
      },
      "source": [
        "### Polynomial Regression"
      ]
    },
    {
      "cell_type": "code",
      "metadata": {
        "id": "rssi7NHsjDNl",
        "colab_type": "code",
        "colab": {
          "base_uri": "https://localhost:8080/",
          "height": 34
        },
        "outputId": "05aacf95-9de3-470f-eef9-3e18610c79c1"
      },
      "source": [
        "from sklearn.metrics import r2_score\n",
        "r2_score(y_test, poly_y_pred)"
      ],
      "execution_count": 256,
      "outputs": [
        {
          "output_type": "execute_result",
          "data": {
            "text/plain": [
              "0.9458192606428147"
            ]
          },
          "metadata": {
            "tags": []
          },
          "execution_count": 256
        }
      ]
    },
    {
      "cell_type": "markdown",
      "metadata": {
        "id": "_GPhnLmnjDqe",
        "colab_type": "text"
      },
      "source": [
        "### Support Vector Regression"
      ]
    },
    {
      "cell_type": "code",
      "metadata": {
        "id": "Crbb1i2SjFad",
        "colab_type": "code",
        "colab": {
          "base_uri": "https://localhost:8080/",
          "height": 34
        },
        "outputId": "0ec6e329-2bc8-47d2-dae4-5167040045e7"
      },
      "source": [
        "from sklearn.metrics import r2_score\n",
        "r2_score(y_test, svr_y_pred)"
      ],
      "execution_count": 257,
      "outputs": [
        {
          "output_type": "execute_result",
          "data": {
            "text/plain": [
              "0.9480784049986258"
            ]
          },
          "metadata": {
            "tags": []
          },
          "execution_count": 257
        }
      ]
    },
    {
      "cell_type": "markdown",
      "metadata": {
        "id": "nwaMBouijF-m",
        "colab_type": "text"
      },
      "source": [
        "### Decision Tree Regression"
      ]
    },
    {
      "cell_type": "code",
      "metadata": {
        "id": "typrGRCqjH-h",
        "colab_type": "code",
        "colab": {
          "base_uri": "https://localhost:8080/",
          "height": 34
        },
        "outputId": "637ddeaf-107c-4271-c77a-f74188a4ded0"
      },
      "source": [
        "from sklearn.metrics import r2_score\n",
        "r2_score(y_test, tree_y_pred)"
      ],
      "execution_count": 258,
      "outputs": [
        {
          "output_type": "execute_result",
          "data": {
            "text/plain": [
              "0.9232263974704511"
            ]
          },
          "metadata": {
            "tags": []
          },
          "execution_count": 258
        }
      ]
    },
    {
      "cell_type": "markdown",
      "metadata": {
        "id": "usHt_1zxjIVH",
        "colab_type": "text"
      },
      "source": [
        "### Random Forest Regression"
      ]
    },
    {
      "cell_type": "code",
      "metadata": {
        "id": "A55yZ4HWjKT-",
        "colab_type": "code",
        "colab": {
          "base_uri": "https://localhost:8080/",
          "height": 34
        },
        "outputId": "68c7c4e6-1063-412b-8bda-2eea426972fa"
      },
      "source": [
        "from sklearn.metrics import r2_score\n",
        "r2_score(y_test, forest_y_pred)"
      ],
      "execution_count": 259,
      "outputs": [
        {
          "output_type": "execute_result",
          "data": {
            "text/plain": [
              "0.9621419557679218"
            ]
          },
          "metadata": {
            "tags": []
          },
          "execution_count": 259
        }
      ]
    },
    {
      "cell_type": "markdown",
      "metadata": {
        "id": "N9RUGshKsGt5",
        "colab_type": "text"
      },
      "source": [
        "The best regression model for this problem seems to be Random Forest Regression because its R-squared score is closest to 1"
      ]
    }
  ]
}