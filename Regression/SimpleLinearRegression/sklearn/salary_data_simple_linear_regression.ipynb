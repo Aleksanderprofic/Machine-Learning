{
  "nbformat": 4,
  "nbformat_minor": 0,
  "metadata": {
    "colab": {
      "name": "simple_linear_regression.ipynb",
      "provenance": [],
      "collapsed_sections": [],
      "toc_visible": true,
      "authorship_tag": "ABX9TyPSIza1c5DqYRHvlKiMf2eS",
      "include_colab_link": true
    },
    "kernelspec": {
      "name": "python3",
      "display_name": "Python 3"
    }
  },
  "cells": [
    {
      "cell_type": "markdown",
      "metadata": {
        "id": "view-in-github",
        "colab_type": "text"
      },
      "source": [
        "<a href=\"https://colab.research.google.com/github/Aleksanderprofic/Machine-Learning/blob/master/LinearRegression/SimpleLinearRegression/sklearn/simple_linear_regression.ipynb\" target=\"_parent\"><img src=\"https://colab.research.google.com/assets/colab-badge.svg\" alt=\"Open In Colab\"/></a>"
      ]
    },
    {
      "cell_type": "markdown",
      "metadata": {
        "id": "NrFt-gShvKAW",
        "colab_type": "text"
      },
      "source": [
        "# Simple Linear Regression"
      ]
    },
    {
      "cell_type": "markdown",
      "metadata": {
        "id": "l6-SKpQQv1v-",
        "colab_type": "text"
      },
      "source": [
        "## Loading dataset and visualising data"
      ]
    },
    {
      "cell_type": "markdown",
      "metadata": {
        "id": "9ZB6djCXHq6q",
        "colab_type": "text"
      },
      "source": [
        "### Loading dataset"
      ]
    },
    {
      "cell_type": "code",
      "metadata": {
        "id": "fg7qN8Iuv1S8",
        "colab_type": "code",
        "outputId": "0d6e4e95-ed1b-4701-e38c-b689f579aad8",
        "colab": {
          "base_uri": "https://localhost:8080/",
          "height": 204
        }
      },
      "source": [
        "import numpy as np\n",
        "import pandas as pd\n",
        "import matplotlib.pyplot as plt\n",
        "\n",
        "data = pd.read_csv('Salary_Data.csv')\n",
        "data.head()"
      ],
      "execution_count": 64,
      "outputs": [
        {
          "output_type": "execute_result",
          "data": {
            "text/html": [
              "<div>\n",
              "<style scoped>\n",
              "    .dataframe tbody tr th:only-of-type {\n",
              "        vertical-align: middle;\n",
              "    }\n",
              "\n",
              "    .dataframe tbody tr th {\n",
              "        vertical-align: top;\n",
              "    }\n",
              "\n",
              "    .dataframe thead th {\n",
              "        text-align: right;\n",
              "    }\n",
              "</style>\n",
              "<table border=\"1\" class=\"dataframe\">\n",
              "  <thead>\n",
              "    <tr style=\"text-align: right;\">\n",
              "      <th></th>\n",
              "      <th>YearsExperience</th>\n",
              "      <th>Salary</th>\n",
              "    </tr>\n",
              "  </thead>\n",
              "  <tbody>\n",
              "    <tr>\n",
              "      <th>0</th>\n",
              "      <td>1.1</td>\n",
              "      <td>39343.0</td>\n",
              "    </tr>\n",
              "    <tr>\n",
              "      <th>1</th>\n",
              "      <td>1.3</td>\n",
              "      <td>46205.0</td>\n",
              "    </tr>\n",
              "    <tr>\n",
              "      <th>2</th>\n",
              "      <td>1.5</td>\n",
              "      <td>37731.0</td>\n",
              "    </tr>\n",
              "    <tr>\n",
              "      <th>3</th>\n",
              "      <td>2.0</td>\n",
              "      <td>43525.0</td>\n",
              "    </tr>\n",
              "    <tr>\n",
              "      <th>4</th>\n",
              "      <td>2.2</td>\n",
              "      <td>39891.0</td>\n",
              "    </tr>\n",
              "  </tbody>\n",
              "</table>\n",
              "</div>"
            ],
            "text/plain": [
              "   YearsExperience   Salary\n",
              "0              1.1  39343.0\n",
              "1              1.3  46205.0\n",
              "2              1.5  37731.0\n",
              "3              2.0  43525.0\n",
              "4              2.2  39891.0"
            ]
          },
          "metadata": {
            "tags": []
          },
          "execution_count": 64
        }
      ]
    },
    {
      "cell_type": "markdown",
      "metadata": {
        "id": "8EC99G2_UY_n",
        "colab_type": "text"
      },
      "source": [
        "### Taking care of eventual missing values"
      ]
    },
    {
      "cell_type": "code",
      "metadata": {
        "id": "IGutfCHpUjVG",
        "colab_type": "code",
        "colab": {
          "base_uri": "https://localhost:8080/",
          "height": 51
        },
        "outputId": "090d88b4-3c5a-4772-f0ba-873411c12892"
      },
      "source": [
        "number_of_rows = len(data)\n",
        "\n",
        "for column in data:\n",
        "    column_series = data[column]  \n",
        "    number_of_correct_values = column_series.describe()['count']\n",
        "    number_of_NaNs = number_of_correct_values - number_of_rows\n",
        "    print(f\"Number of missing values in {column}: {number_of_NaNs}\")"
      ],
      "execution_count": 65,
      "outputs": [
        {
          "output_type": "stream",
          "text": [
            "Number of missing values in YearsExperience: 0.0\n",
            "Number of missing values in Salary: 0.0\n"
          ],
          "name": "stdout"
        }
      ]
    },
    {
      "cell_type": "markdown",
      "metadata": {
        "id": "yFCZPkdNWyxX",
        "colab_type": "text"
      },
      "source": [
        "Dataset doesn't contain missing values"
      ]
    },
    {
      "cell_type": "markdown",
      "metadata": {
        "id": "uonPT4MLwKLf",
        "colab_type": "text"
      },
      "source": [
        "### Years of Experience vs Salary"
      ]
    },
    {
      "cell_type": "code",
      "metadata": {
        "id": "zdXm8O0XwSBY",
        "colab_type": "code",
        "outputId": "f492ae31-b6e6-4a65-d969-4bfbc63c9938",
        "colab": {
          "base_uri": "https://localhost:8080/",
          "height": 295
        }
      },
      "source": [
        "plt.scatter(data.YearsExperience, data.Salary, 12)\n",
        "plt.xticks(range(12))\n",
        "plt.title('Years of Experience vs Salary')\n",
        "plt.xlabel('Years of Experience')\n",
        "plt.ylabel('Salary')\n",
        "plt.show()"
      ],
      "execution_count": 66,
      "outputs": [
        {
          "output_type": "display_data",
          "data": {
            "image/png": "[encoded data removed]",
            "text/plain": [
              "<Figure size 432x288 with 1 Axes>"
            ]
          },
          "metadata": {
            "tags": [],
            "needs_background": "light"
          }
        }
      ]
    },
    {
      "cell_type": "code",
      "metadata": {
        "id": "aq5XDThUgAF-",
        "colab_type": "code",
        "colab": {
          "base_uri": "https://localhost:8080/",
          "height": 34
        },
        "outputId": "2d06c8a5-a1a2-47cd-e172-b454bfd8033e"
      },
      "source": [
        "data.YearsExperience.corr(data.Salary)"
      ],
      "execution_count": 67,
      "outputs": [
        {
          "output_type": "execute_result",
          "data": {
            "text/plain": [
              "0.9782416184887599"
            ]
          },
          "metadata": {
            "tags": []
          },
          "execution_count": 67
        }
      ]
    },
    {
      "cell_type": "markdown",
      "metadata": {
        "id": "4I6VmiKL7-Uz",
        "colab_type": "text"
      },
      "source": [
        "We can see that this relationship is linear and correlation is strong"
      ]
    },
    {
      "cell_type": "markdown",
      "metadata": {
        "id": "PzUAMbaWXTbK",
        "colab_type": "text"
      },
      "source": [
        "## Data preprocessing"
      ]
    },
    {
      "cell_type": "markdown",
      "metadata": {
        "id": "5LXobs0XCPiw",
        "colab_type": "text"
      },
      "source": [
        "### Extracting data into dependent and independent variables"
      ]
    },
    {
      "cell_type": "code",
      "metadata": {
        "id": "Z3IQuCRhCP50",
        "colab_type": "code",
        "colab": {}
      },
      "source": [
        "X = data.iloc[:, :-1].values\n",
        "y = data.iloc[:, -1].values"
      ],
      "execution_count": 0,
      "outputs": []
    },
    {
      "cell_type": "markdown",
      "metadata": {
        "id": "lc0AlkokCqPA",
        "colab_type": "text"
      },
      "source": [
        "### Splitting data into the Training set and the Test set"
      ]
    },
    {
      "cell_type": "code",
      "metadata": {
        "id": "Sb6lldVzCqbl",
        "colab_type": "code",
        "colab": {}
      },
      "source": [
        "from sklearn.model_selection import train_test_split\n",
        "X_train, X_test, y_train, y_test = train_test_split(X, y, test_size=0.2)"
      ],
      "execution_count": 0,
      "outputs": []
    },
    {
      "cell_type": "markdown",
      "metadata": {
        "id": "Tf6DNMiaXg_T",
        "colab_type": "text"
      },
      "source": [
        "## Training, predictions and visualisation of the results"
      ]
    },
    {
      "cell_type": "markdown",
      "metadata": {
        "id": "FDjEC1ZhDPG_",
        "colab_type": "text"
      },
      "source": [
        "### Fitting the model to the Training Set"
      ]
    },
    {
      "cell_type": "code",
      "metadata": {
        "id": "bViRqQbADPbT",
        "colab_type": "code",
        "outputId": "2119a96d-567c-4313-9886-5a2bcfab5df4",
        "colab": {
          "base_uri": "https://localhost:8080/",
          "height": 34
        }
      },
      "source": [
        "from sklearn.linear_model import LinearRegression\n",
        "\n",
        "regressor = LinearRegression()\n",
        "regressor.fit(X_train, y_train)"
      ],
      "execution_count": 70,
      "outputs": [
        {
          "output_type": "execute_result",
          "data": {
            "text/plain": [
              "LinearRegression(copy_X=True, fit_intercept=True, n_jobs=None, normalize=False)"
            ]
          },
          "metadata": {
            "tags": []
          },
          "execution_count": 70
        }
      ]
    },
    {
      "cell_type": "markdown",
      "metadata": {
        "id": "wM4W0D6m7wLp",
        "colab_type": "text"
      },
      "source": [
        "### Predicting salaries on the Test Set"
      ]
    },
    {
      "cell_type": "code",
      "metadata": {
        "id": "3g00zFCP7v4v",
        "colab_type": "code",
        "outputId": "df10b1fa-7056-476e-f0f5-ea248e922bfe",
        "colab": {
          "base_uri": "https://localhost:8080/",
          "height": 119
        }
      },
      "source": [
        "y_pred = regressor.predict(X_test)\n",
        "np.set_printoptions(precision=2)\n",
        "\n",
        "print(np.concatenate(\n",
        "    (y_pred.reshape(len(y_pred), 1),\n",
        "     y_test.reshape(len(y_test), 1),\n",
        "     (y_pred - y_test).reshape(len(y_pred), 1)), axis=1))"
      ],
      "execution_count": 71,
      "outputs": [
        {
          "output_type": "stream",
          "text": [
            "[[ 40174.44  37731.     2443.44]\n",
            " [100200.04 101302.    -1101.96]\n",
            " [116144.35 112635.     3509.35]\n",
            " [ 82379.94  93940.   -11560.06]\n",
            " [ 63621.94  56957.     6664.94]\n",
            " [ 89883.14  91738.    -1854.86]]\n"
          ],
          "name": "stdout"
        }
      ]
    },
    {
      "cell_type": "markdown",
      "metadata": {
        "id": "Zb8mMdu1anHP",
        "colab_type": "text"
      },
      "source": [
        "* 1st column - Predicted values\n",
        "* 2nd column - Actual values\n",
        "* 3rd column - Difference between Predicted and Actual values"
      ]
    },
    {
      "cell_type": "markdown",
      "metadata": {
        "id": "n52RrOKu5Blo",
        "colab_type": "text"
      },
      "source": [
        "### Visualising the Training Set results"
      ]
    },
    {
      "cell_type": "code",
      "metadata": {
        "id": "2Zy0AxZw5B4H",
        "colab_type": "code",
        "outputId": "1d155bef-bd33-4b1c-b3d8-f868f9839954",
        "colab": {
          "base_uri": "https://localhost:8080/",
          "height": 295
        }
      },
      "source": [
        "plt.scatter(X_train, y_train, color='red')\n",
        "plt.plot(X_train, regressor.predict(X_train), color='blue')\n",
        "plt.title('Salary vs Years of Experience - Training Set')\n",
        "plt.xlabel('Years of Experience')\n",
        "plt.ylabel('Salary')\n",
        "plt.xticks(range(12))\n",
        "plt.show()"
      ],
      "execution_count": 72,
      "outputs": [
        {
          "output_type": "display_data",
          "data": {
            "image/png": "[encoded data removed]",
            "text/plain": [
              "<Figure size 432x288 with 1 Axes>"
            ]
          },
          "metadata": {
            "tags": [],
            "needs_background": "light"
          }
        }
      ]
    },
    {
      "cell_type": "markdown",
      "metadata": {
        "id": "xkkrnKEj6rqi",
        "colab_type": "text"
      },
      "source": [
        "### Visualising the Test set results"
      ]
    },
    {
      "cell_type": "code",
      "metadata": {
        "id": "28bD9pBK6q95",
        "colab_type": "code",
        "outputId": "a5a2147f-5ece-4192-bf94-c0be688c9a24",
        "colab": {
          "base_uri": "https://localhost:8080/",
          "height": 295
        }
      },
      "source": [
        "plt.scatter(X_test, y_test, color='red')\n",
        "plt.plot(X_train, regressor.predict(X_train), color='blue')\n",
        "plt.title('Salary vs Years of Experience - Test Set')\n",
        "plt.xlabel('Years of Experience')\n",
        "plt.ylabel('Salary')\n",
        "plt.xticks(range(12))\n",
        "plt.show()"
      ],
      "execution_count": 73,
      "outputs": [
        {
          "output_type": "display_data",
          "data": {
            "image/png": "[encoded data removed]",
            "text/plain": [
              "<Figure size 432x288 with 1 Axes>"
            ]
          },
          "metadata": {
            "tags": [],
            "needs_background": "light"
          }
        }
      ]
    }
  ]
}
