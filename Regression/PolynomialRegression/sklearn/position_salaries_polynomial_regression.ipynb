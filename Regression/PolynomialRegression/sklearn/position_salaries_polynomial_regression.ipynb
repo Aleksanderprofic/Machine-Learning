{
  "nbformat": 4,
  "nbformat_minor": 0,
  "metadata": {
    "colab": {
      "name": "sklearn-polynomial-regression.ipynb",
      "provenance": [],
      "collapsed_sections": [],
      "authorship_tag": "ABX9TyOz/4tFAZz4GWWUoJvOPJzp",
      "include_colab_link": true
    },
    "kernelspec": {
      "name": "python3",
      "display_name": "Python 3"
    }
  },
  "cells": [
    {
      "cell_type": "markdown",
      "metadata": {
        "id": "view-in-github",
        "colab_type": "text"
      },
      "source": [
        "<a href=\"https://colab.research.google.com/github/Aleksanderprofic/Machine-Learning/blob/master/LinearRegression/PolynomialRegression/sklearn/sklearn_polynomial_regression.ipynb\" target=\"_parent\"><img src=\"https://colab.research.google.com/assets/colab-badge.svg\" alt=\"Open In Colab\"/></a>"
      ]
    },
    {
      "cell_type": "markdown",
      "metadata": {
        "id": "9JT3u-Nv9kVB",
        "colab_type": "text"
      },
      "source": [
        "# Polynomial Linear Regression <a name=\"plr\"></a>"
      ]
    },
    {
      "cell_type": "markdown",
      "metadata": {
        "id": "Ohm9Bwp42Yqr",
        "colab_type": "text"
      },
      "source": [
        "## Data loading and data visualisation <a name=\"dladv\"></a>\n",
        "\n"
      ]
    },
    {
      "cell_type": "markdown",
      "metadata": {
        "id": "6XusqfjVZzaZ",
        "colab_type": "text"
      },
      "source": [
        "### Data loading <a name=\"dl\"></a>"
      ]
    },
    {
      "cell_type": "code",
      "metadata": {
        "id": "sBB5BOmI4Hdo",
        "colab_type": "code",
        "colab": {
          "base_uri": "https://localhost:8080/",
          "height": 359
        },
        "outputId": "ee908f10-ee40-413e-da6b-6b73d02f4b63"
      },
      "source": [
        "import pandas as pd\n",
        "import matplotlib.pyplot as plt\n",
        "import numpy as np\n",
        "\n",
        "dataset = pd.read_csv('Position_Salaries.csv')\n",
        "dataset"
      ],
      "execution_count": 23,
      "outputs": [
        {
          "output_type": "execute_result",
          "data": {
            "text/html": [
              "<div>\n",
              "<style scoped>\n",
              "    .dataframe tbody tr th:only-of-type {\n",
              "        vertical-align: middle;\n",
              "    }\n",
              "\n",
              "    .dataframe tbody tr th {\n",
              "        vertical-align: top;\n",
              "    }\n",
              "\n",
              "    .dataframe thead th {\n",
              "        text-align: right;\n",
              "    }\n",
              "</style>\n",
              "<table border=\"1\" class=\"dataframe\">\n",
              "  <thead>\n",
              "    <tr style=\"text-align: right;\">\n",
              "      <th></th>\n",
              "      <th>Position</th>\n",
              "      <th>Level</th>\n",
              "      <th>Salary</th>\n",
              "    </tr>\n",
              "  </thead>\n",
              "  <tbody>\n",
              "    <tr>\n",
              "      <th>0</th>\n",
              "      <td>Business Analyst</td>\n",
              "      <td>1</td>\n",
              "      <td>45000</td>\n",
              "    </tr>\n",
              "    <tr>\n",
              "      <th>1</th>\n",
              "      <td>Junior Consultant</td>\n",
              "      <td>2</td>\n",
              "      <td>50000</td>\n",
              "    </tr>\n",
              "    <tr>\n",
              "      <th>2</th>\n",
              "      <td>Senior Consultant</td>\n",
              "      <td>3</td>\n",
              "      <td>60000</td>\n",
              "    </tr>\n",
              "    <tr>\n",
              "      <th>3</th>\n",
              "      <td>Manager</td>\n",
              "      <td>4</td>\n",
              "      <td>80000</td>\n",
              "    </tr>\n",
              "    <tr>\n",
              "      <th>4</th>\n",
              "      <td>Country Manager</td>\n",
              "      <td>5</td>\n",
              "      <td>110000</td>\n",
              "    </tr>\n",
              "    <tr>\n",
              "      <th>5</th>\n",
              "      <td>Region Manager</td>\n",
              "      <td>6</td>\n",
              "      <td>150000</td>\n",
              "    </tr>\n",
              "    <tr>\n",
              "      <th>6</th>\n",
              "      <td>Partner</td>\n",
              "      <td>7</td>\n",
              "      <td>200000</td>\n",
              "    </tr>\n",
              "    <tr>\n",
              "      <th>7</th>\n",
              "      <td>Senior Partner</td>\n",
              "      <td>8</td>\n",
              "      <td>300000</td>\n",
              "    </tr>\n",
              "    <tr>\n",
              "      <th>8</th>\n",
              "      <td>C-level</td>\n",
              "      <td>9</td>\n",
              "      <td>500000</td>\n",
              "    </tr>\n",
              "    <tr>\n",
              "      <th>9</th>\n",
              "      <td>CEO</td>\n",
              "      <td>10</td>\n",
              "      <td>1000000</td>\n",
              "    </tr>\n",
              "  </tbody>\n",
              "</table>\n",
              "</div>"
            ],
            "text/plain": [
              "            Position  Level   Salary\n",
              "0   Business Analyst      1    45000\n",
              "1  Junior Consultant      2    50000\n",
              "2  Senior Consultant      3    60000\n",
              "3            Manager      4    80000\n",
              "4    Country Manager      5   110000\n",
              "5     Region Manager      6   150000\n",
              "6            Partner      7   200000\n",
              "7     Senior Partner      8   300000\n",
              "8            C-level      9   500000\n",
              "9                CEO     10  1000000"
            ]
          },
          "metadata": {
            "tags": []
          },
          "execution_count": 23
        }
      ]
    },
    {
      "cell_type": "markdown",
      "metadata": {
        "id": "eGM2d9P37iui",
        "colab_type": "text"
      },
      "source": [
        "### Data Visualisation"
      ]
    },
    {
      "cell_type": "markdown",
      "metadata": {
        "id": "JwP7gmrl2B2n",
        "colab_type": "text"
      },
      "source": [
        "#### Position Level vs Salary"
      ]
    },
    {
      "cell_type": "code",
      "metadata": {
        "id": "IP7i0PFD2vdL",
        "colab_type": "code",
        "colab": {
          "base_uri": "https://localhost:8080/",
          "height": 295
        },
        "outputId": "693fcac3-2b10-4765-9d33-a1e3c6313d20"
      },
      "source": [
        "plt.plot(dataset.Level, dataset.Salary / 1000)\n",
        "plt.title('Level vs Salary')\n",
        "plt.xlabel('Position Level')\n",
        "plt.yticks(range(0, 1001, 100))\n",
        "plt.xticks(range(1, 11))\n",
        "plt.ylabel('Salary [k]')\n",
        "plt.show()"
      ],
      "execution_count": 24,
      "outputs": [
        {
          "output_type": "display_data",
          "data": {
            "image/png": "[encoded data removed]",
            "text/plain": [
              "<Figure size 432x288 with 1 Axes>"
            ]
          },
          "metadata": {
            "tags": [],
            "needs_background": "light"
          }
        }
      ]
    },
    {
      "cell_type": "code",
      "metadata": {
        "id": "GI0C5EyO4XHM",
        "colab_type": "code",
        "colab": {
          "base_uri": "https://localhost:8080/",
          "height": 34
        },
        "outputId": "b094be43-739c-401c-aea5-928940863c0d"
      },
      "source": [
        "dataset.Level.corr(dataset.Salary)"
      ],
      "execution_count": 25,
      "outputs": [
        {
          "output_type": "execute_result",
          "data": {
            "text/plain": [
              "0.8179494074776199"
            ]
          },
          "metadata": {
            "tags": []
          },
          "execution_count": 25
        }
      ]
    },
    {
      "cell_type": "markdown",
      "metadata": {
        "id": "D39_Pkb3_wVL",
        "colab_type": "text"
      },
      "source": [
        "*Strong Correlation between Level and Salary*"
      ]
    },
    {
      "cell_type": "markdown",
      "metadata": {
        "id": "6-trt6G59pR7",
        "colab_type": "text"
      },
      "source": [
        "## Data preprocessing <a name=\"dp\"></a>"
      ]
    },
    {
      "cell_type": "markdown",
      "metadata": {
        "id": "Yg9h1KJG-0Ut",
        "colab_type": "text"
      },
      "source": [
        "### Extracting dependent and independent variables <a name=\"edaiv\"></a>"
      ]
    },
    {
      "cell_type": "code",
      "metadata": {
        "id": "54kat5hV-1Ea",
        "colab_type": "code",
        "colab": {}
      },
      "source": [
        "X = dataset.iloc[:, 1:-1].values\n",
        "y = dataset.iloc[:, -1].values"
      ],
      "execution_count": 26,
      "outputs": []
    },
    {
      "cell_type": "markdown",
      "metadata": {
        "id": "rl5uYGunVSZ7",
        "colab_type": "text"
      },
      "source": [
        "## Training and results visualisation"
      ]
    },
    {
      "cell_type": "markdown",
      "metadata": {
        "id": "RV_MJfpVAy5x",
        "colab_type": "text"
      },
      "source": [
        "### Training the Linear Regression model on the whole Training set"
      ]
    },
    {
      "cell_type": "code",
      "metadata": {
        "id": "EqZA45SpAzLL",
        "colab_type": "code",
        "colab": {
          "base_uri": "https://localhost:8080/",
          "height": 34
        },
        "outputId": "ee4a0217-d866-4b87-c411-4f22ce1f2d88"
      },
      "source": [
        "from sklearn.linear_model import LinearRegression\n",
        "\n",
        "lin_reg = LinearRegression()\n",
        "lin_reg.fit(X, y)"
      ],
      "execution_count": 27,
      "outputs": [
        {
          "output_type": "execute_result",
          "data": {
            "text/plain": [
              "LinearRegression(copy_X=True, fit_intercept=True, n_jobs=None, normalize=False)"
            ]
          },
          "metadata": {
            "tags": []
          },
          "execution_count": 27
        }
      ]
    },
    {
      "cell_type": "markdown",
      "metadata": {
        "colab_type": "text",
        "id": "ScYU_euKWh_W"
      },
      "source": [
        "### Training the Polynomial Linear Regression model on the whole Training set"
      ]
    },
    {
      "cell_type": "code",
      "metadata": {
        "id": "mOY15szbW9t0",
        "colab_type": "code",
        "colab": {
          "base_uri": "https://localhost:8080/",
          "height": 34
        },
        "outputId": "88f242e1-8242-40cc-bf72-3f802461f101"
      },
      "source": [
        "from sklearn.preprocessing import PolynomialFeatures\n",
        "\n",
        "polynomial_features = PolynomialFeatures(degree=4)\n",
        "X_poly = polynomial_features.fit_transform(X)\n",
        "poly_reg = LinearRegression()\n",
        "poly_reg.fit(X_poly, y)"
      ],
      "execution_count": 97,
      "outputs": [
        {
          "output_type": "execute_result",
          "data": {
            "text/plain": [
              "LinearRegression(copy_X=True, fit_intercept=True, n_jobs=None, normalize=False)"
            ]
          },
          "metadata": {
            "tags": []
          },
          "execution_count": 97
        }
      ]
    },
    {
      "cell_type": "markdown",
      "metadata": {
        "id": "eP8jZUsIVNIQ",
        "colab_type": "text"
      },
      "source": [
        "### Visualising the Linear Regression results"
      ]
    },
    {
      "cell_type": "code",
      "metadata": {
        "id": "VLBBfDiGVdSe",
        "colab_type": "code",
        "colab": {
          "base_uri": "https://localhost:8080/",
          "height": 295
        },
        "outputId": "43ab53d3-1af5-4b61-bdab-ef1381af037a"
      },
      "source": [
        "plt.title('Linear Regression results')\n",
        "plt.xlabel('Position Level')\n",
        "plt.ylabel('Salary [k]')\n",
        "plt.scatter(X, y / 1000, color='red')\n",
        "plt.plot(X, lin_reg.predict(X) / 1000, color='blue')\n",
        "plt.show()"
      ],
      "execution_count": 98,
      "outputs": [
        {
          "output_type": "display_data",
          "data": {
            "image/png": "[encoded data removed]",
            "text/plain": [
              "<Figure size 432x288 with 1 Axes>"
            ]
          },
          "metadata": {
            "tags": [],
            "needs_background": "light"
          }
        }
      ]
    },
    {
      "cell_type": "markdown",
      "metadata": {
        "id": "PfVjDWj1WKKi",
        "colab_type": "text"
      },
      "source": [
        "### Visualising the Polynomial Regression results"
      ]
    },
    {
      "cell_type": "code",
      "metadata": {
        "id": "ZRXbUpkTVnIM",
        "colab_type": "code",
        "colab": {
          "base_uri": "https://localhost:8080/",
          "height": 295
        },
        "outputId": "547dae80-9404-4f51-a051-5dee54255130"
      },
      "source": [
        "plt.title('Polynomial Regression results')\n",
        "plt.xlabel('Position Level')\n",
        "plt.ylabel('Salary [k]')\n",
        "plt.scatter(X, y / 1000, color='red')\n",
        "plt.plot(X, poly_reg.predict(X_poly) / 1000, color='blue')\n",
        "plt.show()"
      ],
      "execution_count": 99,
      "outputs": [
        {
          "output_type": "display_data",
          "data": {
            "image/png": "[encoded data removed]",
            "text/plain": [
              "<Figure size 432x288 with 1 Axes>"
            ]
          },
          "metadata": {
            "tags": [],
            "needs_background": "light"
          }
        }
      ]
    },
    {
      "cell_type": "markdown",
      "metadata": {
        "id": "RjQeYFULbQy6",
        "colab_type": "text"
      },
      "source": [
        "### Visualising the Polynomial Regression results but with smoother curve"
      ]
    },
    {
      "cell_type": "code",
      "metadata": {
        "id": "vhM9vKvHbXVI",
        "colab_type": "code",
        "colab": {
          "base_uri": "https://localhost:8080/",
          "height": 295
        },
        "outputId": "b323f700-6605-4d2e-8baa-c9b611b2b198"
      },
      "source": [
        "X_grid = np.arange(min(X), max(X) + 0.1, 0.1)\n",
        "X_grid = X_grid.reshape(len(X_grid), 1)\n",
        "plt.title('Polynomial Regression results with smoother curve')\n",
        "plt.xlabel('Position Level')\n",
        "plt.ylabel('Salary [k]')\n",
        "plt.scatter(X, y / 1000, color='red')\n",
        "plt.plot(X_grid, poly_reg.predict(polynomial_features.fit_transform(X_grid)) / 1000, color='blue')\n",
        "plt.show()"
      ],
      "execution_count": 100,
      "outputs": [
        {
          "output_type": "display_data",
          "data": {
            "image/png": "[encoded data removed]",
            "text/plain": [
              "<Figure size 432x288 with 1 Axes>"
            ]
          },
          "metadata": {
            "tags": [],
            "needs_background": "light"
          }
        }
      ]
    },
    {
      "cell_type": "markdown",
      "metadata": {
        "id": "-0XT_xrGdaVC",
        "colab_type": "text"
      },
      "source": [
        "### Predicting a new result with Linear Regression"
      ]
    },
    {
      "cell_type": "code",
      "metadata": {
        "id": "BMG6ho7NdfBE",
        "colab_type": "code",
        "colab": {
          "base_uri": "https://localhost:8080/",
          "height": 34
        },
        "outputId": "573e03d6-4da4-4541-8203-8f97de4a18b5"
      },
      "source": [
        "position_level_to_predict = [[6.5]]\n",
        "\n",
        "lin_reg.predict(position_level_to_predict)"
      ],
      "execution_count": 101,
      "outputs": [
        {
          "output_type": "execute_result",
          "data": {
            "text/plain": [
              "array([330378.78787879])"
            ]
          },
          "metadata": {
            "tags": []
          },
          "execution_count": 101
        }
      ]
    },
    {
      "cell_type": "markdown",
      "metadata": {
        "id": "_3Cqu_-Mgvgj",
        "colab_type": "text"
      },
      "source": [
        "We can see that Simple Linear Regression is not that accurate in this scenario"
      ]
    },
    {
      "cell_type": "markdown",
      "metadata": {
        "id": "QHcsKW9iddug",
        "colab_type": "text"
      },
      "source": [
        "### Predicting a new result with Polynomial Regression"
      ]
    },
    {
      "cell_type": "code",
      "metadata": {
        "id": "DTwNm4OVffxT",
        "colab_type": "code",
        "colab": {
          "base_uri": "https://localhost:8080/",
          "height": 34
        },
        "outputId": "6fde6a93-ecfc-4250-d871-c0b7418b6d1d"
      },
      "source": [
        "poly_reg.predict(polynomial_features.fit_transform(position_level_to_predict))"
      ],
      "execution_count": 102,
      "outputs": [
        {
          "output_type": "execute_result",
          "data": {
            "text/plain": [
              "array([158862.45265155])"
            ]
          },
          "metadata": {
            "tags": []
          },
          "execution_count": 102
        }
      ]
    },
    {
      "cell_type": "markdown",
      "metadata": {
        "id": "QxSBbmHBg5Fb",
        "colab_type": "text"
      },
      "source": [
        "Polynomial Regression predicted more accurate result. It is a little bit overfitted but this is good in this case"
      ]
    },
    {
      "cell_type": "markdown",
      "metadata": {
        "id": "7gOXgC6zxGJU",
        "colab_type": "text"
      },
      "source": [
        "### The final equation of Polynomial Linear Regression"
      ]
    },
    {
      "cell_type": "code",
      "metadata": {
        "id": "RakBNBmjxKhI",
        "colab_type": "code",
        "colab": {
          "base_uri": "https://localhost:8080/",
          "height": 85
        },
        "outputId": "1cbec7ef-2268-4797-f063-6a615e96a3e9"
      },
      "source": [
        "print(polynomial_features.get_feature_names())\n",
        "print(poly_reg.coef_)\n",
        "print(poly_reg.intercept_)"
      ],
      "execution_count": 105,
      "outputs": [
        {
          "output_type": "stream",
          "text": [
            "['1', 'x0', 'x0^2', 'x0^3', 'x0^4']\n",
            "[      0.         -211002.33100292   94765.44289063  -15463.28671331\n",
            "     890.15151515]\n",
            "184166.66666719737\n"
          ],
          "name": "stdout"
        }
      ]
    },
    {
      "cell_type": "markdown",
      "metadata": {
        "id": "mMXYYf3IKcnk",
        "colab_type": "text"
      },
      "source": [
        "The equation of our polynomial regression model is:\n",
        "\n",
        "$$\\textrm{Salary} = -211002.33x + 94765.44x^2 -15463.28x^3 + 890.15x^4 + 184166.66 $$"
      ]
    }
  ]
}
