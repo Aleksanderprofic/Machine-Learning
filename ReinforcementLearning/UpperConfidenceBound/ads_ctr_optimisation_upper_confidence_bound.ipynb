{
  "nbformat": 4,
  "nbformat_minor": 0,
  "metadata": {
    "colab": {
      "name": "upper_confidence_bound_reinforcement_learning.ipynb",
      "provenance": [],
      "collapsed_sections": [],
      "toc_visible": true,
      "include_colab_link": true
    },
    "kernelspec": {
      "name": "python3",
      "display_name": "Python 3"
    }
  },
  "cells": [
    {
      "cell_type": "markdown",
      "metadata": {
        "id": "view-in-github",
        "colab_type": "text"
      },
      "source": [
        "<a href=\"https://colab.research.google.com/github/aleksanderprofic/Machine-Learning/blob/master/ReinforcementLearning/UpperConfidenceBound/ads_ctr_optimisation_upper_confidence_bound.ipynb\" target=\"_parent\"><img src=\"https://colab.research.google.com/assets/colab-badge.svg\" alt=\"Open In Colab\"/></a>"
      ]
    },
    {
      "cell_type": "markdown",
      "metadata": {
        "id": "QJdrJJQUv3-k"
      },
      "source": [
        "# Upper Confidence Bound (UCB)"
      ]
    },
    {
      "cell_type": "markdown",
      "metadata": {
        "id": "2XCjepjJwEv-"
      },
      "source": [
        "## Importing the libraries"
      ]
    },
    {
      "cell_type": "code",
      "metadata": {
        "id": "gwtLsmDOfebC"
      },
      "source": [
        "import numpy as np\n",
        "import pandas as pd\n",
        "import matplotlib.pyplot as plt"
      ],
      "execution_count": 35,
      "outputs": []
    },
    {
      "cell_type": "markdown",
      "metadata": {
        "id": "npqlXjaNwYTv"
      },
      "source": [
        "## Importing the dataset"
      ]
    },
    {
      "cell_type": "code",
      "metadata": {
        "colab": {
          "base_uri": "https://localhost:8080/",
          "height": 204
        },
        "id": "JCmS9O9hfwKn",
        "outputId": "802bc78a-c159-4f32-cbd8-1ec0ee0dc30e"
      },
      "source": [
        "dataset = pd.read_csv('Ads_CTR_Optimisation.csv')\n",
        "dataset.head()"
      ],
      "execution_count": 36,
      "outputs": [
        {
          "output_type": "execute_result",
          "data": {
            "text/html": [
              "<div>\n",
              "<style scoped>\n",
              "    .dataframe tbody tr th:only-of-type {\n",
              "        vertical-align: middle;\n",
              "    }\n",
              "\n",
              "    .dataframe tbody tr th {\n",
              "        vertical-align: top;\n",
              "    }\n",
              "\n",
              "    .dataframe thead th {\n",
              "        text-align: right;\n",
              "    }\n",
              "</style>\n",
              "<table border=\"1\" class=\"dataframe\">\n",
              "  <thead>\n",
              "    <tr style=\"text-align: right;\">\n",
              "      <th></th>\n",
              "      <th>Ad 1</th>\n",
              "      <th>Ad 2</th>\n",
              "      <th>Ad 3</th>\n",
              "      <th>Ad 4</th>\n",
              "      <th>Ad 5</th>\n",
              "      <th>Ad 6</th>\n",
              "      <th>Ad 7</th>\n",
              "      <th>Ad 8</th>\n",
              "      <th>Ad 9</th>\n",
              "      <th>Ad 10</th>\n",
              "    </tr>\n",
              "  </thead>\n",
              "  <tbody>\n",
              "    <tr>\n",
              "      <th>0</th>\n",
              "      <td>1</td>\n",
              "      <td>0</td>\n",
              "      <td>0</td>\n",
              "      <td>0</td>\n",
              "      <td>1</td>\n",
              "      <td>0</td>\n",
              "      <td>0</td>\n",
              "      <td>0</td>\n",
              "      <td>1</td>\n",
              "      <td>0</td>\n",
              "    </tr>\n",
              "    <tr>\n",
              "      <th>1</th>\n",
              "      <td>0</td>\n",
              "      <td>0</td>\n",
              "      <td>0</td>\n",
              "      <td>0</td>\n",
              "      <td>0</td>\n",
              "      <td>0</td>\n",
              "      <td>0</td>\n",
              "      <td>0</td>\n",
              "      <td>1</td>\n",
              "      <td>0</td>\n",
              "    </tr>\n",
              "    <tr>\n",
              "      <th>2</th>\n",
              "      <td>0</td>\n",
              "      <td>0</td>\n",
              "      <td>0</td>\n",
              "      <td>0</td>\n",
              "      <td>0</td>\n",
              "      <td>0</td>\n",
              "      <td>0</td>\n",
              "      <td>0</td>\n",
              "      <td>0</td>\n",
              "      <td>0</td>\n",
              "    </tr>\n",
              "    <tr>\n",
              "      <th>3</th>\n",
              "      <td>0</td>\n",
              "      <td>1</td>\n",
              "      <td>0</td>\n",
              "      <td>0</td>\n",
              "      <td>0</td>\n",
              "      <td>0</td>\n",
              "      <td>0</td>\n",
              "      <td>1</td>\n",
              "      <td>0</td>\n",
              "      <td>0</td>\n",
              "    </tr>\n",
              "    <tr>\n",
              "      <th>4</th>\n",
              "      <td>0</td>\n",
              "      <td>0</td>\n",
              "      <td>0</td>\n",
              "      <td>0</td>\n",
              "      <td>0</td>\n",
              "      <td>0</td>\n",
              "      <td>0</td>\n",
              "      <td>0</td>\n",
              "      <td>0</td>\n",
              "      <td>0</td>\n",
              "    </tr>\n",
              "  </tbody>\n",
              "</table>\n",
              "</div>"
            ],
            "text/plain": [
              "   Ad 1  Ad 2  Ad 3  Ad 4  Ad 5  Ad 6  Ad 7  Ad 8  Ad 9  Ad 10\n",
              "0     1     0     0     0     1     0     0     0     1      0\n",
              "1     0     0     0     0     0     0     0     0     1      0\n",
              "2     0     0     0     0     0     0     0     0     0      0\n",
              "3     0     1     0     0     0     0     0     1     0      0\n",
              "4     0     0     0     0     0     0     0     0     0      0"
            ]
          },
          "metadata": {
            "tags": []
          },
          "execution_count": 36
        }
      ]
    },
    {
      "cell_type": "markdown",
      "metadata": {
        "id": "vQK79dGUf2TT"
      },
      "source": [
        "We would like to choose the most profitable ad out of 10 available. \n",
        "\n",
        "We are going to do a simulation where users connect to the web page one by one and we show them 1 out of 10 different ads, which they might or might not react to. \n",
        "\n",
        "Each row shows how particular user would react to different ads:\n",
        "  - 1 - user clicks the ad\n",
        "  - 0 - no reaction"
      ]
    },
    {
      "cell_type": "code",
      "metadata": {
        "colab": {
          "base_uri": "https://localhost:8080/"
        },
        "id": "Hw0uxngyhSXf",
        "outputId": "df0f2edb-dd67-4e13-ca15-c45939b2de07"
      },
      "source": [
        "N = len(dataset)\n",
        "N"
      ],
      "execution_count": 37,
      "outputs": [
        {
          "output_type": "execute_result",
          "data": {
            "text/plain": [
              "10000"
            ]
          },
          "metadata": {
            "tags": []
          },
          "execution_count": 37
        }
      ]
    },
    {
      "cell_type": "markdown",
      "metadata": {
        "id": "9lHyww-shSE8"
      },
      "source": [
        "There are 10k samples of users connecting to the web page"
      ]
    },
    {
      "cell_type": "markdown",
      "metadata": {
        "id": "PaSbots_wfoB"
      },
      "source": [
        "## Implementing UCB"
      ]
    },
    {
      "cell_type": "code",
      "metadata": {
        "id": "hMaK6Iv9hB-l"
      },
      "source": [
        "def ucb_algorithm(N, number_of_ads):\n",
        "  selected_ads = []\n",
        "\n",
        "  number_of_selections = np.zeros(number_of_ads)\n",
        "  sum_of_rewards = np.zeros(number_of_ads)\n",
        "  total_reward = 0\n",
        "\n",
        "  for n in range(N):\n",
        "      ad = 0\n",
        "      max_upper_bound = 0\n",
        "      for i in range(number_of_ads):\n",
        "          if number_of_selections[i] > 0:\n",
        "              average_reward = sum_of_rewards[i] / number_of_selections[i]\n",
        "              delta_i = np.sqrt(1.5 * np.log(n + 1) / number_of_selections[i])\n",
        "              upper_bound = average_reward + delta_i\n",
        "\n",
        "              if max_upper_bound < upper_bound:\n",
        "                  max_upper_bound, ad = upper_bound, i\n",
        "          else:\n",
        "              ad = i\n",
        "              break\n",
        "\n",
        "      selected_ads.append(ad)\n",
        "      number_of_selections[ad] += 1\n",
        "      \n",
        "      reward = dataset.iloc[n, ad]\n",
        "      sum_of_rewards[ad] += reward\n",
        "      total_reward += reward\n",
        "  \n",
        "  return selected_ads, total_reward"
      ],
      "execution_count": 38,
      "outputs": []
    },
    {
      "cell_type": "code",
      "metadata": {
        "id": "LsBfEUQ-87NQ"
      },
      "source": [
        "selected_ads, total_reward = ucb_algorithm(N=N, number_of_ads=dataset.columns.shape[0])"
      ],
      "execution_count": 39,
      "outputs": []
    },
    {
      "cell_type": "markdown",
      "metadata": {
        "id": "AXftWcjDwsYj"
      },
      "source": [
        "## Visualising the results"
      ]
    },
    {
      "cell_type": "markdown",
      "metadata": {
        "id": "ClOKuV4V1hEa"
      },
      "source": [
        "### Plotting the histogram"
      ]
    },
    {
      "cell_type": "code",
      "metadata": {
        "colab": {
          "base_uri": "https://localhost:8080/",
          "height": 295
        },
        "id": "Ln1mI0d11gst",
        "outputId": "d41a74be-3b7a-4a48-a594-23ffab1e1f22"
      },
      "source": [
        "plt.hist(selected_ads, align='mid', bins=np.arange(number_of_ads + 1) - 0.5)\n",
        "plt.title('Histogram of ads selections')\n",
        "plt.xticks(range(number_of_ads))\n",
        "plt.xlabel('Ads')\n",
        "plt.ylabel('Number of ad selections')\n",
        "plt.show()"
      ],
      "execution_count": 40,
      "outputs": [
        {
          "output_type": "display_data",
          "data": {
            "image/png": "[encoded data removed]",
            "text/plain": [
              "<Figure size 432x288 with 1 Axes>"
            ]
          },
          "metadata": {
            "tags": [],
            "needs_background": "light"
          }
        }
      ]
    },
    {
      "cell_type": "code",
      "metadata": {
        "colab": {
          "base_uri": "https://localhost:8080/"
        },
        "id": "ayEFf36k9q03",
        "outputId": "0c53217e-2775-4c57-c836-4952ed78ad6a"
      },
      "source": [
        "total_reward"
      ],
      "execution_count": 41,
      "outputs": [
        {
          "output_type": "execute_result",
          "data": {
            "text/plain": [
              "2178"
            ]
          },
          "metadata": {
            "tags": []
          },
          "execution_count": 41
        }
      ]
    },
    {
      "cell_type": "markdown",
      "metadata": {
        "id": "9LVZNXwJ9ukd"
      },
      "source": [
        "Ads was clicked 2178 out of 10000 times"
      ]
    },
    {
      "cell_type": "markdown",
      "metadata": {
        "id": "5I-_e1JY-AWO"
      },
      "source": [
        "### Finding the optimal number of displayed ads, after which we found the most profitable one"
      ]
    },
    {
      "cell_type": "code",
      "metadata": {
        "id": "N6vkHXU992sb"
      },
      "source": [
        "selected_ads, total_reward = ucb_algorithm(N=1000, number_of_ads=dataset.columns.shape[0])"
      ],
      "execution_count": 56,
      "outputs": []
    },
    {
      "cell_type": "code",
      "metadata": {
        "colab": {
          "base_uri": "https://localhost:8080/",
          "height": 295
        },
        "id": "YKDXrZkb-PrM",
        "outputId": "30e806da-2838-4795-cd75-a843f51afb37"
      },
      "source": [
        "plt.hist(selected_ads, align='mid', bins=np.arange(number_of_ads + 1) - 0.5)\n",
        "plt.title('Histogram of ads selections')\n",
        "plt.xticks(range(number_of_ads))\n",
        "plt.xlabel('Ads')\n",
        "plt.ylabel('Number of ad selections')\n",
        "plt.show()"
      ],
      "execution_count": 57,
      "outputs": [
        {
          "output_type": "display_data",
          "data": {
            "image/png": "[encoded data removed]",
            "text/plain": [
              "<Figure size 432x288 with 1 Axes>"
            ]
          },
          "metadata": {
            "tags": [],
            "needs_background": "light"
          }
        }
      ]
    },
    {
      "cell_type": "code",
      "metadata": {
        "colab": {
          "base_uri": "https://localhost:8080/"
        },
        "id": "BAm6-0n--e7C",
        "outputId": "6055f665-9b50-4206-f644-e96242a8a614"
      },
      "source": [
        "total_reward"
      ],
      "execution_count": 58,
      "outputs": [
        {
          "output_type": "execute_result",
          "data": {
            "text/plain": [
              "155"
            ]
          },
          "metadata": {
            "tags": []
          },
          "execution_count": 58
        }
      ]
    },
    {
      "cell_type": "markdown",
      "metadata": {
        "id": "6YuHsAru-Vyr"
      },
      "source": [
        "After ~1000 rounds we clearly found the optimal ad. \n",
        "\n",
        "Up till this time, ads was clicked 155 out of 1000 times they were displayed, which is 15.5% of the times.\n",
        "\n",
        "For comparison, after 1000 rounds, until the end, there were 9000 ads displayed and 2023 of them were clicked, which is 22.4% of the times."
      ]
    }
  ]
}