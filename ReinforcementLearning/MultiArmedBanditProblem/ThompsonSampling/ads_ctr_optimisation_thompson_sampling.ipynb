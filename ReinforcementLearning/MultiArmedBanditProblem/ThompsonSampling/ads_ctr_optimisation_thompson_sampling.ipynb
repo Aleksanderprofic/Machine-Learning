{
  "nbformat": 4,
  "nbformat_minor": 0,
  "metadata": {
    "colab": {
      "name": "thompson_sampling_reinforcement_learning.ipynb",
      "provenance": [],
      "collapsed_sections": [],
      "toc_visible": true,
      "include_colab_link": true
    },
    "kernelspec": {
      "name": "python3",
      "display_name": "Python 3"
    }
  },
  "cells": [
    {
      "cell_type": "markdown",
      "metadata": {
        "id": "view-in-github",
        "colab_type": "text"
      },
      "source": [
        "<a href=\"https://colab.research.google.com/github/aleksanderprofic/Machine-Learning/blob/master/ReinforcementLearning/MultiArmedBanditProblem/ThompsonSampling/ads_ctr_optimisation_thompson_sampling.ipynb\" target=\"_parent\"><img src=\"https://colab.research.google.com/assets/colab-badge.svg\" alt=\"Open In Colab\"/></a>"
      ]
    },
    {
      "cell_type": "markdown",
      "metadata": {
        "id": "vPKTIRAtx232"
      },
      "source": [
        "# Thompson Sampling"
      ]
    },
    {
      "cell_type": "markdown",
      "metadata": {
        "id": "PqPv9zpAx-EE"
      },
      "source": [
        "## Importing the libraries"
      ]
    },
    {
      "cell_type": "code",
      "metadata": {
        "id": "lozuE-Fhx_QB"
      },
      "source": [
        "import numpy as np\n",
        "import matplotlib.pyplot as plt\n",
        "import pandas as pd"
      ],
      "execution_count": 1,
      "outputs": []
    },
    {
      "cell_type": "markdown",
      "metadata": {
        "id": "iqpVk5HhyGmO"
      },
      "source": [
        "## Importing the dataset"
      ]
    },
    {
      "cell_type": "code",
      "metadata": {
        "id": "kY4zzW4hyNfA",
        "colab": {
          "base_uri": "https://localhost:8080/",
          "height": 204
        },
        "outputId": "5a9c927b-ac93-46eb-945f-4b89ba347bc5"
      },
      "source": [
        "dataset = pd.read_csv('Ads_CTR_Optimisation.csv')\n",
        "dataset.head()"
      ],
      "execution_count": 2,
      "outputs": [
        {
          "output_type": "execute_result",
          "data": {
            "text/html": [
              "<div>\n",
              "<style scoped>\n",
              "    .dataframe tbody tr th:only-of-type {\n",
              "        vertical-align: middle;\n",
              "    }\n",
              "\n",
              "    .dataframe tbody tr th {\n",
              "        vertical-align: top;\n",
              "    }\n",
              "\n",
              "    .dataframe thead th {\n",
              "        text-align: right;\n",
              "    }\n",
              "</style>\n",
              "<table border=\"1\" class=\"dataframe\">\n",
              "  <thead>\n",
              "    <tr style=\"text-align: right;\">\n",
              "      <th></th>\n",
              "      <th>Ad 1</th>\n",
              "      <th>Ad 2</th>\n",
              "      <th>Ad 3</th>\n",
              "      <th>Ad 4</th>\n",
              "      <th>Ad 5</th>\n",
              "      <th>Ad 6</th>\n",
              "      <th>Ad 7</th>\n",
              "      <th>Ad 8</th>\n",
              "      <th>Ad 9</th>\n",
              "      <th>Ad 10</th>\n",
              "    </tr>\n",
              "  </thead>\n",
              "  <tbody>\n",
              "    <tr>\n",
              "      <th>0</th>\n",
              "      <td>1</td>\n",
              "      <td>0</td>\n",
              "      <td>0</td>\n",
              "      <td>0</td>\n",
              "      <td>1</td>\n",
              "      <td>0</td>\n",
              "      <td>0</td>\n",
              "      <td>0</td>\n",
              "      <td>1</td>\n",
              "      <td>0</td>\n",
              "    </tr>\n",
              "    <tr>\n",
              "      <th>1</th>\n",
              "      <td>0</td>\n",
              "      <td>0</td>\n",
              "      <td>0</td>\n",
              "      <td>0</td>\n",
              "      <td>0</td>\n",
              "      <td>0</td>\n",
              "      <td>0</td>\n",
              "      <td>0</td>\n",
              "      <td>1</td>\n",
              "      <td>0</td>\n",
              "    </tr>\n",
              "    <tr>\n",
              "      <th>2</th>\n",
              "      <td>0</td>\n",
              "      <td>0</td>\n",
              "      <td>0</td>\n",
              "      <td>0</td>\n",
              "      <td>0</td>\n",
              "      <td>0</td>\n",
              "      <td>0</td>\n",
              "      <td>0</td>\n",
              "      <td>0</td>\n",
              "      <td>0</td>\n",
              "    </tr>\n",
              "    <tr>\n",
              "      <th>3</th>\n",
              "      <td>0</td>\n",
              "      <td>1</td>\n",
              "      <td>0</td>\n",
              "      <td>0</td>\n",
              "      <td>0</td>\n",
              "      <td>0</td>\n",
              "      <td>0</td>\n",
              "      <td>1</td>\n",
              "      <td>0</td>\n",
              "      <td>0</td>\n",
              "    </tr>\n",
              "    <tr>\n",
              "      <th>4</th>\n",
              "      <td>0</td>\n",
              "      <td>0</td>\n",
              "      <td>0</td>\n",
              "      <td>0</td>\n",
              "      <td>0</td>\n",
              "      <td>0</td>\n",
              "      <td>0</td>\n",
              "      <td>0</td>\n",
              "      <td>0</td>\n",
              "      <td>0</td>\n",
              "    </tr>\n",
              "  </tbody>\n",
              "</table>\n",
              "</div>"
            ],
            "text/plain": [
              "   Ad 1  Ad 2  Ad 3  Ad 4  Ad 5  Ad 6  Ad 7  Ad 8  Ad 9  Ad 10\n",
              "0     1     0     0     0     1     0     0     0     1      0\n",
              "1     0     0     0     0     0     0     0     0     1      0\n",
              "2     0     0     0     0     0     0     0     0     0      0\n",
              "3     0     1     0     0     0     0     0     1     0      0\n",
              "4     0     0     0     0     0     0     0     0     0      0"
            ]
          },
          "metadata": {
            "tags": []
          },
          "execution_count": 2
        }
      ]
    },
    {
      "cell_type": "markdown",
      "metadata": {
        "id": "vQK79dGUf2TT"
      },
      "source": [
        "We would like to choose the most profitable ad out of 10 available. \n",
        "\n",
        "We are going to do a simulation where users connect to the web page one by one and we show them 1 out of 10 different ads, which they might or might not react to. \n",
        "\n",
        "Each row shows how particular user would react to different ads:\n",
        "  - 1 - user clicks the ad\n",
        "  - 0 - no reaction"
      ]
    },
    {
      "cell_type": "code",
      "metadata": {
        "colab": {
          "base_uri": "https://localhost:8080/"
        },
        "id": "Hw0uxngyhSXf",
        "outputId": "c44f9617-5876-4e8f-f538-78439a6528be"
      },
      "source": [
        "len(dataset)"
      ],
      "execution_count": 3,
      "outputs": [
        {
          "output_type": "execute_result",
          "data": {
            "text/plain": [
              "10000"
            ]
          },
          "metadata": {
            "tags": []
          },
          "execution_count": 3
        }
      ]
    },
    {
      "cell_type": "markdown",
      "metadata": {
        "id": "9lHyww-shSE8"
      },
      "source": [
        "There are 10k samples of users connecting to the web page"
      ]
    },
    {
      "cell_type": "markdown",
      "metadata": {
        "id": "WqoXeWOYyQhB"
      },
      "source": [
        "## Implementing Thompson Sampling"
      ]
    },
    {
      "cell_type": "code",
      "metadata": {
        "id": "fwmSCPJ2fhVV"
      },
      "source": [
        "import random\n",
        "\n",
        "def thompson_sampling_algorithm(dataset, number_of_ads):\n",
        "  selected_ads = []\n",
        "  numbers_of_rewards_1 = np.zeros(number_of_ads)\n",
        "  numbers_of_rewards_0 = np.zeros(number_of_ads)\n",
        "  total_reward = 0\n",
        "\n",
        "  for row in dataset.values:\n",
        "    ad = 0\n",
        "    max_random = 0\n",
        "\n",
        "    for i in range(number_of_ads):\n",
        "      random_beta = random.betavariate(numbers_of_rewards_1[i] + 1, numbers_of_rewards_0[i] + 1)\n",
        "\n",
        "      if random_beta > max_random:\n",
        "        max_random, ad = random_beta, i\n",
        "    \n",
        "    selected_ads.append(ad)\n",
        "    reward = row[ad]\n",
        "    if reward == 1:\n",
        "      numbers_of_rewards_1[ad] += 1  \n",
        "    else:\n",
        "      numbers_of_rewards_0[ad] += 1\n",
        "    \n",
        "    total_reward += reward\n",
        "  return selected_ads, total_reward"
      ],
      "execution_count": 4,
      "outputs": []
    },
    {
      "cell_type": "code",
      "metadata": {
        "id": "YvlBbBlsmIpw"
      },
      "source": [
        "number_of_ads = dataset.shape[1]\n",
        "selected_ads, total_reward = thompson_sampling_algorithm(dataset, number_of_ads=number_of_ads)"
      ],
      "execution_count": 5,
      "outputs": []
    },
    {
      "cell_type": "markdown",
      "metadata": {
        "id": "tweWsgTHyXhv"
      },
      "source": [
        "## Visualising the results - Histogram"
      ]
    },
    {
      "cell_type": "code",
      "metadata": {
        "colab": {
          "base_uri": "https://localhost:8080/",
          "height": 295
        },
        "id": "KMNq2G3xgsIU",
        "outputId": "1278be76-04ff-432c-80a4-3dc1c6c825ec"
      },
      "source": [
        "plt.hist(selected_ads, align='mid', bins=np.arange(number_of_ads + 1) - 0.5, edgecolor='black')\n",
        "plt.title('Histogram of ads selections')\n",
        "plt.xticks(range(number_of_ads))\n",
        "plt.xlabel('Ads')\n",
        "plt.ylabel('Number of ads selections')\n",
        "plt.show()"
      ],
      "execution_count": 6,
      "outputs": [
        {
          "output_type": "display_data",
          "data": {
            "image/png": "[encoded data removed]",
            "text/plain": [
              "<Figure size 432x288 with 1 Axes>"
            ]
          },
          "metadata": {
            "tags": [],
            "needs_background": "light"
          }
        }
      ]
    },
    {
      "cell_type": "code",
      "metadata": {
        "colab": {
          "base_uri": "https://localhost:8080/"
        },
        "id": "zQB7UDR8BhBk",
        "outputId": "6f022af1-7d0e-4261-d808-126377177614"
      },
      "source": [
        "total_reward"
      ],
      "execution_count": 7,
      "outputs": [
        {
          "output_type": "execute_result",
          "data": {
            "text/plain": [
              "2613"
            ]
          },
          "metadata": {
            "tags": []
          },
          "execution_count": 7
        }
      ]
    },
    {
      "cell_type": "markdown",
      "metadata": {
        "id": "a4ef0Z3HBt0q"
      },
      "source": [
        "Ads was clicked 2613 out of 10000 times, which is 26.1% of all"
      ]
    },
    {
      "cell_type": "markdown",
      "metadata": {
        "id": "5I-_e1JY-AWO"
      },
      "source": [
        "### Finding the optimal number of displayed ads, after which we found the most profitable one"
      ]
    },
    {
      "cell_type": "code",
      "metadata": {
        "id": "N6vkHXU992sb"
      },
      "source": [
        "selected_ads, total_reward = thompson_sampling_algorithm(dataset.iloc[:500], number_of_ads=number_of_ads)"
      ],
      "execution_count": 11,
      "outputs": []
    },
    {
      "cell_type": "code",
      "metadata": {
        "colab": {
          "base_uri": "https://localhost:8080/",
          "height": 295
        },
        "id": "YKDXrZkb-PrM",
        "outputId": "56e34d62-b661-454b-aaa0-992e16832c8e"
      },
      "source": [
        "plt.hist(selected_ads, bins=np.arange(number_of_ads + 1) - 0.5, edgecolor='black')\n",
        "plt.title('Histogram of ads selections')\n",
        "plt.xticks(range(number_of_ads))\n",
        "plt.xlabel('Ads')\n",
        "plt.ylabel('Number of ads selections')\n",
        "plt.show()"
      ],
      "execution_count": 12,
      "outputs": [
        {
          "output_type": "display_data",
          "data": {
            "image/png": "[encoded data removed]",
            "text/plain": [
              "<Figure size 432x288 with 1 Axes>"
            ]
          },
          "metadata": {
            "tags": [],
            "needs_background": "light"
          }
        }
      ]
    },
    {
      "cell_type": "code",
      "metadata": {
        "colab": {
          "base_uri": "https://localhost:8080/"
        },
        "id": "BAm6-0n--e7C",
        "outputId": "ddcfe192-7b79-4ba7-a18a-ec65b8d5e320"
      },
      "source": [
        "total_reward"
      ],
      "execution_count": 13,
      "outputs": [
        {
          "output_type": "execute_result",
          "data": {
            "text/plain": [
              "93"
            ]
          },
          "metadata": {
            "tags": []
          },
          "execution_count": 13
        }
      ]
    },
    {
      "cell_type": "markdown",
      "metadata": {
        "id": "6YuHsAru-Vyr"
      },
      "source": [
        "After ~500 rounds we clearly found the optimal ad. \n",
        "\n",
        "Up till this time, ads was clicked 93 out of 500 times they were displayed, which is 18.6% of the times.\n",
        "\n",
        "For comparison, starting from 500th round, up till the end, there were 9500 ads displayed and 2520 of them were clicked, which is 26.5% of the times."
      ]
    }
  ]
}