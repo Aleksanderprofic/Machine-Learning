{
  "nbformat": 4,
  "nbformat_minor": 0,
  "metadata": {
    "colab": {
      "name": "social-network-ads-model-selection.ipynb",
      "provenance": [],
      "collapsed_sections": [],
      "toc_visible": true,
      "authorship_tag": "ABX9TyOxJtmYm2nD7noGrd2BB13y",
      "include_colab_link": true
    },
    "kernelspec": {
      "name": "python3",
      "display_name": "Python 3"
    }
  },
  "cells": [
    {
      "cell_type": "markdown",
      "metadata": {
        "id": "view-in-github",
        "colab_type": "text"
      },
      "source": [
        "<a href=\"https://colab.research.google.com/github/aleksanderprofic/Machine-Learning/blob/master/Classification/ModelSelection/social_network_ads_model_selection.ipynb\" target=\"_parent\"><img src=\"https://colab.research.google.com/assets/colab-badge.svg\" alt=\"Open In Colab\"/></a>"
      ]
    },
    {
      "cell_type": "markdown",
      "metadata": {
        "id": "XB4Li99G8YxP"
      },
      "source": [
        "# Classification model selection"
      ]
    },
    {
      "cell_type": "markdown",
      "metadata": {
        "id": "FGMGycwY8a4u"
      },
      "source": [
        "### Selecting the best model for particular problem out of all learned classification models:\n",
        "* Logistic Regression, \n",
        "* KNN, \n",
        "* SVM,\n",
        "* Naive Bayes\n",
        "* Decision Trees,\n",
        "* Random Forests\n"
      ]
    },
    {
      "cell_type": "markdown",
      "metadata": {
        "id": "_jrQ6Hxp9OoI"
      },
      "source": [
        "## Data preprocessing"
      ]
    },
    {
      "cell_type": "code",
      "metadata": {
        "id": "RCN3TVcT79fr",
        "colab": {
          "base_uri": "https://localhost:8080/",
          "height": 204
        },
        "outputId": "ba2f8efe-c33f-40e1-f9f5-174abdc5e590"
      },
      "source": [
        "import pandas as pd\n",
        "import numpy as np\n",
        "\n",
        "dataset = pd.read_csv('Social_Network_Ads.csv')\n",
        "dataset.head()"
      ],
      "execution_count": 164,
      "outputs": [
        {
          "output_type": "execute_result",
          "data": {
            "text/html": [
              "<div>\n",
              "<style scoped>\n",
              "    .dataframe tbody tr th:only-of-type {\n",
              "        vertical-align: middle;\n",
              "    }\n",
              "\n",
              "    .dataframe tbody tr th {\n",
              "        vertical-align: top;\n",
              "    }\n",
              "\n",
              "    .dataframe thead th {\n",
              "        text-align: right;\n",
              "    }\n",
              "</style>\n",
              "<table border=\"1\" class=\"dataframe\">\n",
              "  <thead>\n",
              "    <tr style=\"text-align: right;\">\n",
              "      <th></th>\n",
              "      <th>Age</th>\n",
              "      <th>EstimatedSalary</th>\n",
              "      <th>Purchased</th>\n",
              "    </tr>\n",
              "  </thead>\n",
              "  <tbody>\n",
              "    <tr>\n",
              "      <th>0</th>\n",
              "      <td>19</td>\n",
              "      <td>19000</td>\n",
              "      <td>0</td>\n",
              "    </tr>\n",
              "    <tr>\n",
              "      <th>1</th>\n",
              "      <td>35</td>\n",
              "      <td>20000</td>\n",
              "      <td>0</td>\n",
              "    </tr>\n",
              "    <tr>\n",
              "      <th>2</th>\n",
              "      <td>26</td>\n",
              "      <td>43000</td>\n",
              "      <td>0</td>\n",
              "    </tr>\n",
              "    <tr>\n",
              "      <th>3</th>\n",
              "      <td>27</td>\n",
              "      <td>57000</td>\n",
              "      <td>0</td>\n",
              "    </tr>\n",
              "    <tr>\n",
              "      <th>4</th>\n",
              "      <td>19</td>\n",
              "      <td>76000</td>\n",
              "      <td>0</td>\n",
              "    </tr>\n",
              "  </tbody>\n",
              "</table>\n",
              "</div>"
            ],
            "text/plain": [
              "   Age  EstimatedSalary  Purchased\n",
              "0   19            19000          0\n",
              "1   35            20000          0\n",
              "2   26            43000          0\n",
              "3   27            57000          0\n",
              "4   19            76000          0"
            ]
          },
          "metadata": {
            "tags": []
          },
          "execution_count": 164
        }
      ]
    },
    {
      "cell_type": "markdown",
      "metadata": {
        "id": "6i0-4gv0BChi"
      },
      "source": [
        "### Extracting dependent and independent variables"
      ]
    },
    {
      "cell_type": "code",
      "metadata": {
        "id": "tuq_q8X3A7-A"
      },
      "source": [
        "X = dataset.iloc[:, :-1].values\n",
        "y = dataset.iloc[:, -1].values"
      ],
      "execution_count": 165,
      "outputs": []
    },
    {
      "cell_type": "markdown",
      "metadata": {
        "id": "uxQf51pgDyXV"
      },
      "source": [
        "### Feature Scaling"
      ]
    },
    {
      "cell_type": "code",
      "metadata": {
        "id": "D5VE4MKND7WN"
      },
      "source": [
        "from sklearn.preprocessing import StandardScaler\n",
        "sc = StandardScaler()\n",
        "X = sc.fit_transform(X)"
      ],
      "execution_count": 166,
      "outputs": []
    },
    {
      "cell_type": "markdown",
      "metadata": {
        "id": "mpUmnKEgBsZP"
      },
      "source": [
        "### Splitting dataset into the Training Set and the Test Set "
      ]
    },
    {
      "cell_type": "code",
      "metadata": {
        "id": "-mjeXHKiBtXc"
      },
      "source": [
        "from sklearn.model_selection import train_test_split\n",
        "\n",
        "X_train, X_test, y_train, y_test = train_test_split(X, y, test_size=0.2, random_state=0)"
      ],
      "execution_count": 167,
      "outputs": []
    },
    {
      "cell_type": "markdown",
      "metadata": {
        "id": "1pF9b6LUCUfm"
      },
      "source": [
        "## Training and predictions"
      ]
    },
    {
      "cell_type": "markdown",
      "metadata": {
        "id": "NEAb5RQECyr8"
      },
      "source": [
        "### Logistic Regression"
      ]
    },
    {
      "cell_type": "code",
      "metadata": {
        "id": "9h91bxzGCV3Z"
      },
      "source": [
        "from sklearn.linear_model import LogisticRegression\n",
        "\n",
        "log_regressor = LogisticRegression()\n",
        "log_regressor.fit(X_train, y_train)\n",
        "log_y_pred = log_regressor.predict(X_test)"
      ],
      "execution_count": 168,
      "outputs": []
    },
    {
      "cell_type": "markdown",
      "metadata": {
        "id": "WSSLnCs3FjCV"
      },
      "source": [
        "### KNN"
      ]
    },
    {
      "cell_type": "code",
      "metadata": {
        "id": "R-AutB6yFRRL"
      },
      "source": [
        "from sklearn.neighbors import KNeighborsClassifier\n",
        "\n",
        "knn = KNeighborsClassifier(n_neighbors=6)\n",
        "knn.fit(X_train, y_train)\n",
        "knn_y_pred = knn.predict(X_test)"
      ],
      "execution_count": 169,
      "outputs": []
    },
    {
      "cell_type": "markdown",
      "metadata": {
        "id": "DmQHQaCMFl6R"
      },
      "source": [
        "### SVM"
      ]
    },
    {
      "cell_type": "code",
      "metadata": {
        "id": "vpu1yFw_FmPA"
      },
      "source": [
        "from sklearn.svm import SVC\n",
        "\n",
        "svc = SVC(degree=4)\n",
        "svc.fit(X_train, y_train)\n",
        "svc_y_pred = svc.predict(X_test)"
      ],
      "execution_count": 170,
      "outputs": []
    },
    {
      "cell_type": "markdown",
      "metadata": {
        "id": "zU-890iNFmcg"
      },
      "source": [
        "### Naive Bayes"
      ]
    },
    {
      "cell_type": "code",
      "metadata": {
        "id": "4XM6iqGNFm0v"
      },
      "source": [
        "from sklearn.naive_bayes import GaussianNB\n",
        "\n",
        "nb = GaussianNB()\n",
        "nb.fit(X_train, y_train)\n",
        "nb_y_pred = nb.predict(X_test)"
      ],
      "execution_count": 171,
      "outputs": []
    },
    {
      "cell_type": "markdown",
      "metadata": {
        "id": "ueLfdlsSFqOp"
      },
      "source": [
        "### Decision Tree"
      ]
    },
    {
      "cell_type": "code",
      "metadata": {
        "id": "bgavGTu9Fqd8"
      },
      "source": [
        "from sklearn.tree import DecisionTreeClassifier\n",
        "\n",
        "tree = DecisionTreeClassifier()\n",
        "tree.fit(X_train, y_train)\n",
        "tree_y_pred = tree.predict(X_test)"
      ],
      "execution_count": 172,
      "outputs": []
    },
    {
      "cell_type": "markdown",
      "metadata": {
        "id": "XJIAjIK5RggJ"
      },
      "source": [
        "### Random Forest"
      ]
    },
    {
      "cell_type": "code",
      "metadata": {
        "id": "7_-5ohHXRiPu"
      },
      "source": [
        "from sklearn.ensemble import RandomForestClassifier\n",
        "\n",
        "forest = RandomForestClassifier(n_estimators=10)\n",
        "forest.fit(X_train, y_train)\n",
        "forest_y_pred = forest.predict(X_test)"
      ],
      "execution_count": 173,
      "outputs": []
    },
    {
      "cell_type": "markdown",
      "metadata": {
        "id": "G-2-IvJ-iOqr"
      },
      "source": [
        "## Evaluating Models performance with accuracy score"
      ]
    },
    {
      "cell_type": "markdown",
      "metadata": {
        "id": "-WkSUPWLi8II"
      },
      "source": [
        "### Logistic Regression"
      ]
    },
    {
      "cell_type": "code",
      "metadata": {
        "id": "ycgTr4koiQd0",
        "colab": {
          "base_uri": "https://localhost:8080/"
        },
        "outputId": "d2ac56e9-3d44-4d53-c865-4e811722881a"
      },
      "source": [
        "from sklearn.metrics import accuracy_score, recall_score, confusion_matrix\n",
        "\n",
        "cm = confusion_matrix(y_test, log_y_pred)\n",
        "\n",
        "print(f'Accuracy score: {accuracy_score(log_y_pred, y_test)}')\n",
        "print(f'Confusion matrix: \\n{cm}')"
      ],
      "execution_count": 174,
      "outputs": [
        {
          "output_type": "stream",
          "text": [
            "Accuracy score: 0.925\n",
            "Confusion matrix: \n",
            "[[57  1]\n",
            " [ 5 17]]\n"
          ],
          "name": "stdout"
        }
      ]
    },
    {
      "cell_type": "markdown",
      "metadata": {
        "id": "UktyFhfpjBhZ"
      },
      "source": [
        "### KNN"
      ]
    },
    {
      "cell_type": "code",
      "metadata": {
        "id": "rssi7NHsjDNl",
        "colab": {
          "base_uri": "https://localhost:8080/"
        },
        "outputId": "0a3c83fd-db0a-448d-f1e3-70681f5f6846"
      },
      "source": [
        "from sklearn.metrics import accuracy_score, confusion_matrix\n",
        "\n",
        "cm = confusion_matrix(y_test, knn_y_pred)\n",
        "print(f'Accuracy score: {accuracy_score(knn_y_pred, y_test)}')\n",
        "print(f'Confusion matrix: \\n{cm}')"
      ],
      "execution_count": 175,
      "outputs": [
        {
          "output_type": "stream",
          "text": [
            "Accuracy score: 0.95\n",
            "Confusion matrix: \n",
            "[[55  3]\n",
            " [ 1 21]]\n"
          ],
          "name": "stdout"
        }
      ]
    },
    {
      "cell_type": "markdown",
      "metadata": {
        "id": "_GPhnLmnjDqe"
      },
      "source": [
        "### SVM"
      ]
    },
    {
      "cell_type": "code",
      "metadata": {
        "id": "Crbb1i2SjFad",
        "colab": {
          "base_uri": "https://localhost:8080/"
        },
        "outputId": "93902490-f9ef-4c38-f512-e693557bd83c"
      },
      "source": [
        "from sklearn.metrics import accuracy_score, recall_score, confusion_matrix\n",
        "\n",
        "cm = confusion_matrix(y_test, svc_y_pred)\n",
        "\n",
        "print(f'Accuracy score: {accuracy_score(svc_y_pred, y_test)}')\n",
        "print(f'Confusion matrix: \\n{cm}')"
      ],
      "execution_count": 176,
      "outputs": [
        {
          "output_type": "stream",
          "text": [
            "Accuracy score: 0.95\n",
            "Confusion matrix: \n",
            "[[55  3]\n",
            " [ 1 21]]\n"
          ],
          "name": "stdout"
        }
      ]
    },
    {
      "cell_type": "markdown",
      "metadata": {
        "id": "398n8eOpGYHn"
      },
      "source": [
        "### Naive Bayes"
      ]
    },
    {
      "cell_type": "code",
      "metadata": {
        "colab": {
          "base_uri": "https://localhost:8080/"
        },
        "id": "N8hXSvDJGYYc",
        "outputId": "27b771b1-4784-4792-e41b-dce8882fa2de"
      },
      "source": [
        "from sklearn.metrics import accuracy_score, recall_score, confusion_matrix\n",
        "\n",
        "cm = confusion_matrix(y_test, nb_y_pred)\n",
        "\n",
        "print(f'Accuracy score: {accuracy_score(nb_y_pred, y_test)}')\n",
        "print(f'Confusion matrix: \\n{cm}')"
      ],
      "execution_count": 177,
      "outputs": [
        {
          "output_type": "stream",
          "text": [
            "Accuracy score: 0.9125\n",
            "Confusion matrix: \n",
            "[[55  3]\n",
            " [ 4 18]]\n"
          ],
          "name": "stdout"
        }
      ]
    },
    {
      "cell_type": "markdown",
      "metadata": {
        "id": "nwaMBouijF-m"
      },
      "source": [
        "### Decision Tree"
      ]
    },
    {
      "cell_type": "code",
      "metadata": {
        "id": "typrGRCqjH-h",
        "colab": {
          "base_uri": "https://localhost:8080/"
        },
        "outputId": "af6bf0a2-25f1-4b6b-a23a-3b49b3403b66"
      },
      "source": [
        "from sklearn.metrics import accuracy_score, recall_score, confusion_matrix\n",
        "\n",
        "cm = confusion_matrix(y_test, tree_y_pred)\n",
        "\n",
        "print(f'Accuracy score: {accuracy_score(tree_y_pred, y_test)}')\n",
        "print(f'Confusion matrix: \\n{cm}')"
      ],
      "execution_count": 178,
      "outputs": [
        {
          "output_type": "stream",
          "text": [
            "Accuracy score: 0.9125\n",
            "Confusion matrix: \n",
            "[[54  4]\n",
            " [ 3 19]]\n"
          ],
          "name": "stdout"
        }
      ]
    },
    {
      "cell_type": "markdown",
      "metadata": {
        "id": "usHt_1zxjIVH"
      },
      "source": [
        "### Random Forest"
      ]
    },
    {
      "cell_type": "code",
      "metadata": {
        "id": "A55yZ4HWjKT-",
        "colab": {
          "base_uri": "https://localhost:8080/"
        },
        "outputId": "d557c3f7-e9e2-4eba-b53e-25694295f4aa"
      },
      "source": [
        "from sklearn.metrics import accuracy_score, recall_score, confusion_matrix\n",
        "\n",
        "cm = confusion_matrix(y_test, forest_y_pred)\n",
        "\n",
        "print(f'Accuracy score: {accuracy_score(forest_y_pred, y_test)}')\n",
        "print(f'Confusion matrix: \\n{cm}')"
      ],
      "execution_count": 179,
      "outputs": [
        {
          "output_type": "stream",
          "text": [
            "Accuracy score: 0.9125\n",
            "Confusion matrix: \n",
            "[[56  2]\n",
            " [ 5 17]]\n"
          ],
          "name": "stdout"
        }
      ]
    },
    {
      "cell_type": "markdown",
      "metadata": {
        "id": "N9RUGshKsGt5"
      },
      "source": [
        "The best classification models for this problem seem to be K-Nearest Neighbors or Support Vector Machines because their accuracy scores are closest to 1."
      ]
    }
  ]
}