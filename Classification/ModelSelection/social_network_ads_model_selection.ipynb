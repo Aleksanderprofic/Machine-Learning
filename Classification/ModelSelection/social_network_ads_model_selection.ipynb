{
  "nbformat": 4,
  "nbformat_minor": 0,
  "metadata": {
    "colab": {
      "name": "social-network-ads-model-selection.ipynb",
      "provenance": [],
      "collapsed_sections": [],
      "toc_visible": true,
      "include_colab_link": true
    },
    "kernelspec": {
      "name": "python3",
      "display_name": "Python 3"
    }
  },
  "cells": [
    {
      "cell_type": "markdown",
      "metadata": {
        "id": "view-in-github",
        "colab_type": "text"
      },
      "source": [
        "<a href=\"https://colab.research.google.com/github/aleksanderprofic/Machine-Learning/blob/master/Classification/ModelSelection/social_network_ads_model_selection.ipynb\" target=\"_parent\"><img src=\"https://colab.research.google.com/assets/colab-badge.svg\" alt=\"Open In Colab\"/></a>"
      ]
    },
    {
      "cell_type": "markdown",
      "metadata": {
        "id": "XB4Li99G8YxP"
      },
      "source": [
        "# Classification model selection"
      ]
    },
    {
      "cell_type": "markdown",
      "metadata": {
        "id": "FGMGycwY8a4u"
      },
      "source": [
        "### Selecting the best model for particular problem out of all learned classification models:\n",
        "* Logistic Regression, \n",
        "* K-Nearest Neighbors, \n",
        "* Support Vector Machines,\n",
        "* Naive Bayes\n",
        "* Decision Trees,\n",
        "* Random Forests\n"
      ]
    },
    {
      "cell_type": "markdown",
      "metadata": {
        "id": "_jrQ6Hxp9OoI"
      },
      "source": [
        "## Data preprocessing"
      ]
    },
    {
      "cell_type": "code",
      "metadata": {
        "id": "RCN3TVcT79fr",
        "colab": {
          "base_uri": "https://localhost:8080/",
          "height": 204
        },
        "outputId": "c1f6dab5-5eea-4dc9-9435-6880ade34ce0"
      },
      "source": [
        "import pandas as pd\n",
        "import numpy as np\n",
        "\n",
        "dataset = pd.read_csv('Social_Network_Ads.csv')\n",
        "dataset.head()"
      ],
      "execution_count": 1,
      "outputs": [
        {
          "output_type": "execute_result",
          "data": {
            "text/html": [
              "<div>\n",
              "<style scoped>\n",
              "    .dataframe tbody tr th:only-of-type {\n",
              "        vertical-align: middle;\n",
              "    }\n",
              "\n",
              "    .dataframe tbody tr th {\n",
              "        vertical-align: top;\n",
              "    }\n",
              "\n",
              "    .dataframe thead th {\n",
              "        text-align: right;\n",
              "    }\n",
              "</style>\n",
              "<table border=\"1\" class=\"dataframe\">\n",
              "  <thead>\n",
              "    <tr style=\"text-align: right;\">\n",
              "      <th></th>\n",
              "      <th>Age</th>\n",
              "      <th>EstimatedSalary</th>\n",
              "      <th>Purchased</th>\n",
              "    </tr>\n",
              "  </thead>\n",
              "  <tbody>\n",
              "    <tr>\n",
              "      <th>0</th>\n",
              "      <td>19</td>\n",
              "      <td>19000</td>\n",
              "      <td>0</td>\n",
              "    </tr>\n",
              "    <tr>\n",
              "      <th>1</th>\n",
              "      <td>35</td>\n",
              "      <td>20000</td>\n",
              "      <td>0</td>\n",
              "    </tr>\n",
              "    <tr>\n",
              "      <th>2</th>\n",
              "      <td>26</td>\n",
              "      <td>43000</td>\n",
              "      <td>0</td>\n",
              "    </tr>\n",
              "    <tr>\n",
              "      <th>3</th>\n",
              "      <td>27</td>\n",
              "      <td>57000</td>\n",
              "      <td>0</td>\n",
              "    </tr>\n",
              "    <tr>\n",
              "      <th>4</th>\n",
              "      <td>19</td>\n",
              "      <td>76000</td>\n",
              "      <td>0</td>\n",
              "    </tr>\n",
              "  </tbody>\n",
              "</table>\n",
              "</div>"
            ],
            "text/plain": [
              "   Age  EstimatedSalary  Purchased\n",
              "0   19            19000          0\n",
              "1   35            20000          0\n",
              "2   26            43000          0\n",
              "3   27            57000          0\n",
              "4   19            76000          0"
            ]
          },
          "metadata": {
            "tags": []
          },
          "execution_count": 1
        }
      ]
    },
    {
      "cell_type": "markdown",
      "metadata": {
        "id": "6i0-4gv0BChi"
      },
      "source": [
        "### Extracting dependent and independent variables"
      ]
    },
    {
      "cell_type": "code",
      "metadata": {
        "id": "tuq_q8X3A7-A"
      },
      "source": [
        "X = dataset.iloc[:, :-1].values\n",
        "y = dataset.iloc[:, -1].values"
      ],
      "execution_count": 2,
      "outputs": []
    },
    {
      "cell_type": "markdown",
      "metadata": {
        "id": "uxQf51pgDyXV"
      },
      "source": [
        "### Feature Scaling"
      ]
    },
    {
      "cell_type": "code",
      "metadata": {
        "id": "D5VE4MKND7WN"
      },
      "source": [
        "from sklearn.preprocessing import StandardScaler\n",
        "sc = StandardScaler()\n",
        "X = sc.fit_transform(X)"
      ],
      "execution_count": 3,
      "outputs": []
    },
    {
      "cell_type": "markdown",
      "metadata": {
        "id": "mpUmnKEgBsZP"
      },
      "source": [
        "### Splitting dataset into the Training Set and the Test Set "
      ]
    },
    {
      "cell_type": "code",
      "metadata": {
        "id": "-mjeXHKiBtXc"
      },
      "source": [
        "from sklearn.model_selection import train_test_split\n",
        "\n",
        "X_train, X_test, y_train, y_test = train_test_split(X, y, test_size=0.25)"
      ],
      "execution_count": 5,
      "outputs": []
    },
    {
      "cell_type": "markdown",
      "metadata": {
        "id": "1pF9b6LUCUfm"
      },
      "source": [
        "## Training and predictions"
      ]
    },
    {
      "cell_type": "markdown",
      "metadata": {
        "id": "NEAb5RQECyr8"
      },
      "source": [
        "### Logistic Regression"
      ]
    },
    {
      "cell_type": "code",
      "metadata": {
        "id": "9h91bxzGCV3Z",
        "colab": {
          "base_uri": "https://localhost:8080/"
        },
        "outputId": "6c5de525-e5c8-4260-d1dd-b47235c5afc9"
      },
      "source": [
        "from sklearn.linear_model import LogisticRegression\n",
        "from sklearn.metrics import accuracy_score, recall_score, confusion_matrix, precision_score\n",
        "\n",
        "log_regressor = LogisticRegression()\n",
        "log_regressor.fit(X_train, y_train)\n",
        "log_y_pred = log_regressor.predict(X_test)\n",
        "\n",
        "cm = confusion_matrix(y_test, log_y_pred)\n",
        "\n",
        "print('Accuracy score: {:.2f}%'.format(accuracy_score(y_test, log_y_pred) * 100))\n",
        "print('Recall score: {:.2f}%'.format(recall_score(y_test, log_y_pred) * 100))\n",
        "print(f'Confusion matrix: \\n{cm}')"
      ],
      "execution_count": 7,
      "outputs": [
        {
          "output_type": "stream",
          "text": [
            "Accuracy score: 91.00%\n",
            "Recall score: 82.35%\n",
            "Confusion matrix: \n",
            "[[63  3]\n",
            " [ 6 28]]\n"
          ],
          "name": "stdout"
        }
      ]
    },
    {
      "cell_type": "markdown",
      "metadata": {
        "id": "NPcQlgtaOa21"
      },
      "source": [
        "#### Applying k-fold Cross Validation"
      ]
    },
    {
      "cell_type": "code",
      "metadata": {
        "colab": {
          "base_uri": "https://localhost:8080/"
        },
        "id": "399XWvAtOdAq",
        "outputId": "a31dda51-639b-4e03-d986-bc02745bfb3c"
      },
      "source": [
        "from sklearn.model_selection import cross_val_score\n",
        "\n",
        "accuracies = cross_val_score(estimator=log_regressor, X=X_train, y=y_train, cv=10)\n",
        "print('Mean accuracy: {:.2f}%'.format(accuracies.mean() * 100))\n",
        "print('Standard deviation: {:.2f}%'.format(accuracies.std() * 100))"
      ],
      "execution_count": 8,
      "outputs": [
        {
          "output_type": "stream",
          "text": [
            "Mean accuracy: 82.33%\n",
            "Standard deviation: 5.78%\n"
          ],
          "name": "stdout"
        }
      ]
    },
    {
      "cell_type": "markdown",
      "metadata": {
        "id": "WSSLnCs3FjCV"
      },
      "source": [
        "### K-Nearest Neighbors"
      ]
    },
    {
      "cell_type": "markdown",
      "metadata": {
        "id": "35zg8C_xXhMB"
      },
      "source": [
        "#### Performing Grid Search to find the best hyper parameter"
      ]
    },
    {
      "cell_type": "code",
      "metadata": {
        "id": "R-AutB6yFRRL",
        "colab": {
          "base_uri": "https://localhost:8080/"
        },
        "outputId": "b63d8fec-fa5f-4d16-d47d-9270d07ae821"
      },
      "source": [
        "from sklearn.neighbors import KNeighborsClassifier\n",
        "from sklearn.metrics import accuracy_score, confusion_matrix\n",
        "from sklearn.model_selection import GridSearchCV\n",
        "\n",
        "parameters = [{'n_neighbors': [3,4,5,6,7,10]}]\n",
        "grid_search = GridSearchCV(estimator=KNeighborsClassifier(), param_grid=parameters, scoring='accuracy', n_jobs=-1, cv=10)\n",
        "grid_search.fit(X_train, y_train)\n",
        "\n",
        "print('Best mean accuracy: {:.2f}%'.format(grid_search.best_score_ * 100))\n",
        "print('Standard deviation: {:.2f}%'.format(grid_search.cv_results_['std_test_score'][grid_search.best_index_] * 100))\n",
        "print(f'Best parameter: {grid_search.best_params_}')"
      ],
      "execution_count": 16,
      "outputs": [
        {
          "output_type": "stream",
          "text": [
            "Best mean accuracy: 89.00%\n",
            "Standard deviation: 3.96%\n",
            "Best parameter: {'n_neighbors': 3}\n"
          ],
          "name": "stdout"
        }
      ]
    },
    {
      "cell_type": "code",
      "metadata": {
        "id": "aaH2T55VXfHk",
        "outputId": "355b9dc0-f7db-4b8f-808d-29251403a3d8",
        "colab": {
          "base_uri": "https://localhost:8080/"
        }
      },
      "source": [
        "knn = KNeighborsClassifier(n_neighbors=3)\n",
        "knn.fit(X_train, y_train)\n",
        "knn_y_pred = knn.predict(X_test)\n",
        "\n",
        "cm = confusion_matrix(y_test, knn_y_pred)\n",
        "\n",
        "print('Accuracy score: {:.2f}%'.format(accuracy_score(y_test, knn_y_pred) * 100))\n",
        "print('Recall score: {:.2f}%'.format(recall_score(y_test, knn_y_pred) * 100))\n",
        "print(f'Confusion matrix: \\n{cm}')"
      ],
      "execution_count": 17,
      "outputs": [
        {
          "output_type": "stream",
          "text": [
            "Accuracy score: 94.00%\n",
            "Recall score: 91.18%\n",
            "Confusion matrix: \n",
            "[[63  3]\n",
            " [ 3 31]]\n"
          ],
          "name": "stdout"
        }
      ]
    },
    {
      "cell_type": "markdown",
      "metadata": {
        "id": "DmQHQaCMFl6R"
      },
      "source": [
        "### Support Vector Machines"
      ]
    },
    {
      "cell_type": "markdown",
      "metadata": {
        "id": "TOPleyO7Ywp7"
      },
      "source": [
        "#### Performing Grid Search to find the best hyper parameters"
      ]
    },
    {
      "cell_type": "code",
      "metadata": {
        "colab": {
          "base_uri": "https://localhost:8080/"
        },
        "id": "fhaTGvceYwp8",
        "outputId": "933438d7-fec5-4059-e91c-2427a0a5c089"
      },
      "source": [
        "from sklearn.svm import SVC\n",
        "from sklearn.metrics import accuracy_score, confusion_matrix\n",
        "from sklearn.model_selection import GridSearchCV\n",
        "\n",
        "parameters = [{'C': [0, 0.1, 0.25, 0.5, 0.75, 1], 'kernel': ['rbf'], 'gamma': [0.1, 0.2, 0.3, 0.4, 0.5, 0.6, 0.7, 0.8, 0.9, 'scale']}]\n",
        "grid_search = GridSearchCV(estimator=SVC(), param_grid=parameters, scoring='accuracy', n_jobs=-1, cv=10)\n",
        "grid_search.fit(X_train, y_train)\n",
        "\n",
        "print('Best mean accuracy: {:.2f}%'.format(grid_search.best_score_ * 100))\n",
        "print('Standard deviation: {:.2f}%'.format(grid_search.cv_results_['std_test_score'][grid_search.best_index_] * 100))\n",
        "print(f'Best parameter: {grid_search.best_params_}')"
      ],
      "execution_count": 19,
      "outputs": [
        {
          "output_type": "stream",
          "text": [
            "Best mean accuracy: 89.67%\n",
            "Standard deviation: 3.79%\n",
            "Best parameter: {'C': 1, 'gamma': 0.4, 'kernel': 'rbf'}\n"
          ],
          "name": "stdout"
        }
      ]
    },
    {
      "cell_type": "code",
      "metadata": {
        "id": "vpu1yFw_FmPA",
        "colab": {
          "base_uri": "https://localhost:8080/"
        },
        "outputId": "877cf2d3-1831-4660-a814-5fb252cfc96c"
      },
      "source": [
        "svc = SVC(C=1.0, kernel='rbf', gamma=0.4)\n",
        "svc.fit(X_train, y_train)\n",
        "svc_y_pred = svc.predict(X_test)\n",
        "\n",
        "cm = confusion_matrix(y_test, svc_y_pred)\n",
        "\n",
        "print('Accuracy score: {:.2f}%'.format(accuracy_score(y_test, svc_y_pred) * 100))\n",
        "print('Recall score: {:.2f}%'.format(recall_score(y_test, svc_y_pred) * 100))\n",
        "print(f'Confusion matrix: \\n{cm}')"
      ],
      "execution_count": 20,
      "outputs": [
        {
          "output_type": "stream",
          "text": [
            "Accuracy score: 96.00%\n",
            "Recall score: 94.12%\n",
            "Confusion matrix: \n",
            "[[64  2]\n",
            " [ 2 32]]\n"
          ],
          "name": "stdout"
        }
      ]
    },
    {
      "cell_type": "markdown",
      "metadata": {
        "id": "zU-890iNFmcg"
      },
      "source": [
        "### Naive Bayes"
      ]
    },
    {
      "cell_type": "code",
      "metadata": {
        "id": "4XM6iqGNFm0v",
        "colab": {
          "base_uri": "https://localhost:8080/"
        },
        "outputId": "e68b5fa5-0926-4c96-f683-013201c71069"
      },
      "source": [
        "from sklearn.naive_bayes import GaussianNB\n",
        "\n",
        "nb = GaussianNB()\n",
        "nb.fit(X_train, y_train)\n",
        "nb_y_pred = nb.predict(X_test)\n",
        "\n",
        "cm = confusion_matrix(y_test, nb_y_pred)\n",
        "\n",
        "print('Accuracy score: {:.2f}%'.format(accuracy_score(y_test, nb_y_pred) * 100))\n",
        "print('Recall score: {:.2f}%'.format(recall_score(y_test, nb_y_pred) * 100))\n",
        "print(f'Confusion matrix: \\n{cm}')"
      ],
      "execution_count": 22,
      "outputs": [
        {
          "output_type": "stream",
          "text": [
            "Accuracy score: 94.00%\n",
            "Recall score: 91.18%\n",
            "Confusion matrix: \n",
            "[[63  3]\n",
            " [ 3 31]]\n"
          ],
          "name": "stdout"
        }
      ]
    },
    {
      "cell_type": "markdown",
      "metadata": {
        "id": "PWduMPESQsqH"
      },
      "source": [
        "#### Applying k-fold Cross Validation"
      ]
    },
    {
      "cell_type": "code",
      "metadata": {
        "colab": {
          "base_uri": "https://localhost:8080/"
        },
        "id": "Hi4v3CK4QsqH",
        "outputId": "3f1fde0c-8bd9-48a4-d786-b9bb7b3e1bee"
      },
      "source": [
        "from sklearn.model_selection import cross_val_score\n",
        "\n",
        "accuracies = cross_val_score(estimator=nb, X=X_train, y=y_train, cv=10)\n",
        "print('Mean accuracy: {:.2f}%'.format(accuracies.mean() * 100))\n",
        "print('Standard deviation: {:.2f}%'.format(accuracies.std() * 100))"
      ],
      "execution_count": 23,
      "outputs": [
        {
          "output_type": "stream",
          "text": [
            "Mean accuracy: 87.00%\n",
            "Standard deviation: 5.26%\n"
          ],
          "name": "stdout"
        }
      ]
    },
    {
      "cell_type": "markdown",
      "metadata": {
        "id": "ueLfdlsSFqOp"
      },
      "source": [
        "### Decision Tree"
      ]
    },
    {
      "cell_type": "markdown",
      "metadata": {
        "id": "v3I-CUTaZ28m"
      },
      "source": [
        "#### Performing Grid Search to find the best hyper parameter"
      ]
    },
    {
      "cell_type": "code",
      "metadata": {
        "colab": {
          "base_uri": "https://localhost:8080/"
        },
        "id": "o1QSsPaCZ2ge",
        "outputId": "ecd7d22f-8fd8-4ad7-f0f7-3383f64d8334"
      },
      "source": [
        "from sklearn.tree import DecisionTreeClassifier\n",
        "from sklearn.metrics import accuracy_score, confusion_matrix\n",
        "from sklearn.model_selection import GridSearchCV\n",
        "\n",
        "parameters = [{'criterion': ['gini', 'entropy']}]\n",
        "grid_search = GridSearchCV(estimator=DecisionTreeClassifier(), param_grid=parameters, scoring='accuracy', n_jobs=-1, cv=10)\n",
        "grid_search.fit(X_train, y_train)\n",
        "\n",
        "print('Best mean accuracy: {:.2f}%'.format(grid_search.best_score_ * 100))\n",
        "print('Standard deviation: {:.2f}%'.format(grid_search.cv_results_['std_test_score'][grid_search.best_index_] * 100))\n",
        "print(f'Best parameter: {grid_search.best_params_}')"
      ],
      "execution_count": 25,
      "outputs": [
        {
          "output_type": "stream",
          "text": [
            "Best mean accuracy: 86.00%\n",
            "Standard deviation: 5.33%\n",
            "Best parameter: {'criterion': 'entropy'}\n"
          ],
          "name": "stdout"
        }
      ]
    },
    {
      "cell_type": "code",
      "metadata": {
        "id": "bgavGTu9Fqd8",
        "colab": {
          "base_uri": "https://localhost:8080/"
        },
        "outputId": "98e7b351-bf50-489e-e24b-a0f3f3f37f0c"
      },
      "source": [
        "tree = DecisionTreeClassifier(criterion='entropy')\n",
        "tree.fit(X_train, y_train)\n",
        "tree_y_pred = tree.predict(X_test)\n",
        "\n",
        "cm = confusion_matrix(y_test, tree_y_pred)\n",
        "\n",
        "print('Accuracy score: {:.2f}%'.format(accuracy_score(y_test, tree_y_pred) * 100))\n",
        "print('Recall score: {:.2f}%'.format(recall_score(y_test, tree_y_pred) * 100))\n",
        "print(f'Confusion matrix: \\n{cm}')"
      ],
      "execution_count": 26,
      "outputs": [
        {
          "output_type": "stream",
          "text": [
            "Accuracy score: 89.00%\n",
            "Recall score: 73.53%\n",
            "Confusion matrix: \n",
            "[[64  2]\n",
            " [ 9 25]]\n"
          ],
          "name": "stdout"
        }
      ]
    },
    {
      "cell_type": "markdown",
      "metadata": {
        "id": "XJIAjIK5RggJ"
      },
      "source": [
        "### Random Forest"
      ]
    },
    {
      "cell_type": "markdown",
      "metadata": {
        "id": "brElGfVcaNbL"
      },
      "source": [
        "#### Performing Grid Search to find the best hyper parameters"
      ]
    },
    {
      "cell_type": "code",
      "metadata": {
        "colab": {
          "base_uri": "https://localhost:8080/"
        },
        "id": "i7BOhiPYaNbL",
        "outputId": "856517c5-25a1-4a61-f9c1-49a90f302d5a"
      },
      "source": [
        "from sklearn.ensemble import RandomForestClassifier\n",
        "from sklearn.metrics import accuracy_score, confusion_matrix\n",
        "from sklearn.model_selection import GridSearchCV\n",
        "\n",
        "parameters = [{'n_estimators': [5, 10, 20, 25, 50, 75, 100, 125, 150, 175, 200], 'criterion': ['gini', 'entropy']}]\n",
        "grid_search = GridSearchCV(estimator=RandomForestClassifier(), param_grid=parameters, scoring='accuracy', n_jobs=-1, cv=10)\n",
        "grid_search.fit(X_train, y_train)\n",
        "\n",
        "print('Best mean accuracy: {:.2f}%'.format(grid_search.best_score_ * 100))\n",
        "print('Standard deviation: {:.2f}%'.format(grid_search.cv_results_['std_test_score'][grid_search.best_index_] * 100))\n",
        "print(f'Best parameter: {grid_search.best_params_}')"
      ],
      "execution_count": 29,
      "outputs": [
        {
          "output_type": "stream",
          "text": [
            "Best mean accuracy: 89.33%\n",
            "Standard deviation: 4.42%\n",
            "Best parameter: {'criterion': 'entropy', 'n_estimators': 25}\n"
          ],
          "name": "stdout"
        }
      ]
    },
    {
      "cell_type": "code",
      "metadata": {
        "id": "7_-5ohHXRiPu",
        "colab": {
          "base_uri": "https://localhost:8080/"
        },
        "outputId": "9001d21b-59c6-449f-8e5c-bfc9ce011b93"
      },
      "source": [
        "forest = RandomForestClassifier(criterion='entropy', n_estimators=25)\n",
        "forest.fit(X_train, y_train)\n",
        "forest_y_pred = forest.predict(X_test)\n",
        "\n",
        "cm = confusion_matrix(y_test, forest_y_pred)\n",
        "\n",
        "print('Accuracy score: {:.2f}%'.format(accuracy_score(y_test, forest_y_pred) * 100))\n",
        "print('Recall score: {:.2f}%'.format(recall_score(y_test, forest_y_pred) * 100))\n",
        "print(f'Confusion matrix: \\n{cm}')"
      ],
      "execution_count": 30,
      "outputs": [
        {
          "output_type": "stream",
          "text": [
            "Accuracy score: 92.00%\n",
            "Recall score: 85.29%\n",
            "Confusion matrix: \n",
            "[[63  3]\n",
            " [ 5 29]]\n"
          ],
          "name": "stdout"
        }
      ]
    },
    {
      "cell_type": "markdown",
      "metadata": {
        "id": "N9RUGshKsGt5"
      },
      "source": [
        "The best models for this problem are:\n",
        "1. Support Vector Machines\n",
        "  - Accuracy: 96%\n",
        "  - Recall: 94.12%\n",
        "2. KNearestNeighbors\n",
        "  - Accuracy: 94%\n",
        "  - Recall: 91.18%\n",
        "  - Better training set results than 3rd model\n",
        "3. Naive Bayes\n",
        "  - Accuracy: 94%\n",
        "  - Recall: 91.18%\n"
      ]
    }
  ]
}