{
  "nbformat": 4,
  "nbformat_minor": 0,
  "metadata": {
    "colab": {
      "name": "social-network-ads-model-selection.ipynb",
      "provenance": [],
      "collapsed_sections": [],
      "toc_visible": true,
      "include_colab_link": true
    },
    "kernelspec": {
      "name": "python3",
      "display_name": "Python 3"
    }
  },
  "cells": [
    {
      "cell_type": "markdown",
      "metadata": {
        "id": "view-in-github",
        "colab_type": "text"
      },
      "source": [
        "<a href=\"https://colab.research.google.com/github/aleksanderprofic/Machine-Learning/blob/master/Classification/ModelSelection/social_network_ads_model_selection.ipynb\" target=\"_parent\"><img src=\"https://colab.research.google.com/assets/colab-badge.svg\" alt=\"Open In Colab\"/></a>"
      ]
    },
    {
      "cell_type": "markdown",
      "metadata": {
        "id": "XB4Li99G8YxP"
      },
      "source": [
        "# Classification model selection for Social Network Ads dataset"
      ]
    },
    {
      "cell_type": "markdown",
      "metadata": {
        "id": "FGMGycwY8a4u"
      },
      "source": [
        "### Selecting the best model for particular problem out of all learned classification models:\n",
        "* Logistic Regression, \n",
        "* K-Nearest Neighbors, \n",
        "* Support Vector Machines,\n",
        "* Naive Bayes\n",
        "* Decision Trees,\n",
        "* Random Forests\n",
        "* XGBoost\n"
      ]
    },
    {
      "cell_type": "markdown",
      "metadata": {
        "id": "_jrQ6Hxp9OoI"
      },
      "source": [
        "## Data preprocessing"
      ]
    },
    {
      "cell_type": "code",
      "metadata": {
        "id": "RCN3TVcT79fr",
        "colab": {
          "base_uri": "https://localhost:8080/",
          "height": 204
        },
        "outputId": "27bdfdb5-2652-4aff-ac87-d91a6893ab49"
      },
      "source": [
        "import pandas as pd\n",
        "import numpy as np\n",
        "\n",
        "dataset = pd.read_csv('Social_Network_Ads.csv')\n",
        "dataset.head()"
      ],
      "execution_count": null,
      "outputs": [
        {
          "output_type": "execute_result",
          "data": {
            "text/html": [
              "<div>\n",
              "<style scoped>\n",
              "    .dataframe tbody tr th:only-of-type {\n",
              "        vertical-align: middle;\n",
              "    }\n",
              "\n",
              "    .dataframe tbody tr th {\n",
              "        vertical-align: top;\n",
              "    }\n",
              "\n",
              "    .dataframe thead th {\n",
              "        text-align: right;\n",
              "    }\n",
              "</style>\n",
              "<table border=\"1\" class=\"dataframe\">\n",
              "  <thead>\n",
              "    <tr style=\"text-align: right;\">\n",
              "      <th></th>\n",
              "      <th>Age</th>\n",
              "      <th>EstimatedSalary</th>\n",
              "      <th>Purchased</th>\n",
              "    </tr>\n",
              "  </thead>\n",
              "  <tbody>\n",
              "    <tr>\n",
              "      <th>0</th>\n",
              "      <td>19</td>\n",
              "      <td>19000</td>\n",
              "      <td>0</td>\n",
              "    </tr>\n",
              "    <tr>\n",
              "      <th>1</th>\n",
              "      <td>35</td>\n",
              "      <td>20000</td>\n",
              "      <td>0</td>\n",
              "    </tr>\n",
              "    <tr>\n",
              "      <th>2</th>\n",
              "      <td>26</td>\n",
              "      <td>43000</td>\n",
              "      <td>0</td>\n",
              "    </tr>\n",
              "    <tr>\n",
              "      <th>3</th>\n",
              "      <td>27</td>\n",
              "      <td>57000</td>\n",
              "      <td>0</td>\n",
              "    </tr>\n",
              "    <tr>\n",
              "      <th>4</th>\n",
              "      <td>19</td>\n",
              "      <td>76000</td>\n",
              "      <td>0</td>\n",
              "    </tr>\n",
              "  </tbody>\n",
              "</table>\n",
              "</div>"
            ],
            "text/plain": [
              "   Age  EstimatedSalary  Purchased\n",
              "0   19            19000          0\n",
              "1   35            20000          0\n",
              "2   26            43000          0\n",
              "3   27            57000          0\n",
              "4   19            76000          0"
            ]
          },
          "metadata": {
            "tags": []
          },
          "execution_count": 1
        }
      ]
    },
    {
      "cell_type": "markdown",
      "metadata": {
        "id": "6i0-4gv0BChi"
      },
      "source": [
        "### Extracting dependent and independent variables"
      ]
    },
    {
      "cell_type": "code",
      "metadata": {
        "id": "tuq_q8X3A7-A"
      },
      "source": [
        "X = dataset.iloc[:, :-1].values\n",
        "y = dataset.iloc[:, -1].values"
      ],
      "execution_count": null,
      "outputs": []
    },
    {
      "cell_type": "markdown",
      "metadata": {
        "id": "uxQf51pgDyXV"
      },
      "source": [
        "### Feature Scaling"
      ]
    },
    {
      "cell_type": "code",
      "metadata": {
        "id": "D5VE4MKND7WN"
      },
      "source": [
        "from sklearn.preprocessing import StandardScaler\n",
        "sc = StandardScaler()\n",
        "X = sc.fit_transform(X)"
      ],
      "execution_count": null,
      "outputs": []
    },
    {
      "cell_type": "markdown",
      "metadata": {
        "id": "mpUmnKEgBsZP"
      },
      "source": [
        "### Splitting dataset into the Training Set and the Test Set "
      ]
    },
    {
      "cell_type": "code",
      "metadata": {
        "id": "-mjeXHKiBtXc"
      },
      "source": [
        "from sklearn.model_selection import train_test_split\n",
        "\n",
        "X_train, X_test, y_train, y_test = train_test_split(X, y, test_size=0.25)"
      ],
      "execution_count": null,
      "outputs": []
    },
    {
      "cell_type": "markdown",
      "metadata": {
        "id": "1pF9b6LUCUfm"
      },
      "source": [
        "## Training and predictions"
      ]
    },
    {
      "cell_type": "markdown",
      "metadata": {
        "id": "NEAb5RQECyr8"
      },
      "source": [
        "### Logistic Regression"
      ]
    },
    {
      "cell_type": "code",
      "metadata": {
        "id": "9h91bxzGCV3Z",
        "colab": {
          "base_uri": "https://localhost:8080/"
        },
        "outputId": "9a44547f-6295-40a9-c7c5-73e88377867d"
      },
      "source": [
        "from sklearn.linear_model import LogisticRegression\n",
        "from sklearn.metrics import accuracy_score, recall_score, confusion_matrix\n",
        "\n",
        "log_regressor = LogisticRegression()\n",
        "log_regressor.fit(X_train, y_train)\n",
        "log_y_pred = log_regressor.predict(X_test)\n",
        "\n",
        "cm = confusion_matrix(y_test, log_y_pred)\n",
        "\n",
        "print('Accuracy score: {:.2f}%'.format(accuracy_score(y_test, log_y_pred) * 100))\n",
        "print('Recall score: {:.2f}%'.format(recall_score(y_test, log_y_pred) * 100))\n",
        "print(f'Confusion matrix: \\n{cm}')"
      ],
      "execution_count": null,
      "outputs": [
        {
          "output_type": "stream",
          "text": [
            "Accuracy score: 84.00%\n",
            "Recall score: 61.76%\n",
            "Confusion matrix: \n",
            "[[63  3]\n",
            " [13 21]]\n"
          ],
          "name": "stdout"
        }
      ]
    },
    {
      "cell_type": "markdown",
      "metadata": {
        "id": "NPcQlgtaOa21"
      },
      "source": [
        "#### Applying k-fold Cross Validation"
      ]
    },
    {
      "cell_type": "code",
      "metadata": {
        "colab": {
          "base_uri": "https://localhost:8080/"
        },
        "id": "399XWvAtOdAq",
        "outputId": "05c47578-90d3-4420-be60-2908ebb9cbab"
      },
      "source": [
        "from sklearn.model_selection import cross_val_score\n",
        "\n",
        "accuracies = cross_val_score(estimator=log_regressor, X=X_train, y=y_train, cv=10)\n",
        "print('Mean accuracy: {:.2f}%'.format(accuracies.mean() * 100))\n",
        "print('Standard deviation: {:.2f}%'.format(accuracies.std() * 100))"
      ],
      "execution_count": null,
      "outputs": [
        {
          "output_type": "stream",
          "text": [
            "Mean accuracy: 84.00%\n",
            "Standard deviation: 5.12%\n"
          ],
          "name": "stdout"
        }
      ]
    },
    {
      "cell_type": "markdown",
      "metadata": {
        "id": "WSSLnCs3FjCV"
      },
      "source": [
        "### K-Nearest Neighbors"
      ]
    },
    {
      "cell_type": "markdown",
      "metadata": {
        "id": "35zg8C_xXhMB"
      },
      "source": [
        "#### Performing Grid Search to find the best hyper parameter"
      ]
    },
    {
      "cell_type": "code",
      "metadata": {
        "id": "R-AutB6yFRRL",
        "colab": {
          "base_uri": "https://localhost:8080/"
        },
        "outputId": "3eb40699-86af-4b07-bf28-c91b25fcd773"
      },
      "source": [
        "from sklearn.neighbors import KNeighborsClassifier\n",
        "from sklearn.metrics import accuracy_score, recall_score, confusion_matrix\n",
        "from sklearn.model_selection import GridSearchCV\n",
        "\n",
        "parameters = [{'n_neighbors': [3,4,5,6,7,10]}]\n",
        "grid_search = GridSearchCV(estimator=KNeighborsClassifier(), param_grid=parameters, scoring='accuracy', n_jobs=-1, cv=10)\n",
        "grid_search.fit(X_train, y_train)\n",
        "\n",
        "print('Best mean accuracy: {:.2f}%'.format(grid_search.best_score_ * 100))\n",
        "print('Standard deviation: {:.2f}%'.format(grid_search.cv_results_['std_test_score'][grid_search.best_index_] * 100))\n",
        "print(f'Best parameter: {grid_search.best_params_}')"
      ],
      "execution_count": null,
      "outputs": [
        {
          "output_type": "stream",
          "text": [
            "Best mean accuracy: 89.33%\n",
            "Standard deviation: 6.29%\n",
            "Best parameter: {'n_neighbors': 5}\n"
          ],
          "name": "stdout"
        }
      ]
    },
    {
      "cell_type": "code",
      "metadata": {
        "id": "aaH2T55VXfHk",
        "colab": {
          "base_uri": "https://localhost:8080/"
        },
        "outputId": "081600b7-2984-4964-aee2-066546a491e9"
      },
      "source": [
        "knn = KNeighborsClassifier(n_neighbors=5)\n",
        "knn.fit(X_train, y_train)\n",
        "knn_y_pred = knn.predict(X_test)\n",
        "\n",
        "cm = confusion_matrix(y_test, knn_y_pred)\n",
        "\n",
        "print('Accuracy score: {:.2f}%'.format(accuracy_score(y_test, knn_y_pred) * 100))\n",
        "print('Recall score: {:.2f}%'.format(recall_score(y_test, knn_y_pred) * 100))\n",
        "print(f'Confusion matrix: \\n{cm}')"
      ],
      "execution_count": null,
      "outputs": [
        {
          "output_type": "stream",
          "text": [
            "Accuracy score: 94.00%\n",
            "Recall score: 94.12%\n",
            "Confusion matrix: \n",
            "[[62  4]\n",
            " [ 2 32]]\n"
          ],
          "name": "stdout"
        }
      ]
    },
    {
      "cell_type": "markdown",
      "metadata": {
        "id": "DmQHQaCMFl6R"
      },
      "source": [
        "### Support Vector Machines"
      ]
    },
    {
      "cell_type": "markdown",
      "metadata": {
        "id": "TOPleyO7Ywp7"
      },
      "source": [
        "#### Performing Grid Search to find the best hyper parameters"
      ]
    },
    {
      "cell_type": "code",
      "metadata": {
        "colab": {
          "base_uri": "https://localhost:8080/"
        },
        "id": "fhaTGvceYwp8",
        "outputId": "4ee611a4-8b27-43be-955b-cbb59b00d7a1"
      },
      "source": [
        "from sklearn.svm import SVC\n",
        "from sklearn.metrics import accuracy_score, recall_score, confusion_matrix\n",
        "from sklearn.model_selection import GridSearchCV\n",
        "\n",
        "parameters = [{'C': [0, 0.1, 0.25, 0.5, 0.75, 1], 'kernel': ['rbf'], 'gamma': [0.1, 0.2, 0.3, 0.4, 0.5, 0.6, 0.7, 0.8, 0.9, 'scale']}]\n",
        "grid_search = GridSearchCV(estimator=SVC(), param_grid=parameters, scoring='accuracy', n_jobs=-1, cv=10)\n",
        "grid_search.fit(X_train, y_train)\n",
        "\n",
        "print('Best mean accuracy: {:.2f}%'.format(grid_search.best_score_ * 100))\n",
        "print('Standard deviation: {:.2f}%'.format(grid_search.cv_results_['std_test_score'][grid_search.best_index_] * 100))\n",
        "print(f'Best parameter: {grid_search.best_params_}')"
      ],
      "execution_count": null,
      "outputs": [
        {
          "output_type": "stream",
          "text": [
            "Best mean accuracy: 90.33%\n",
            "Standard deviation: 4.33%\n",
            "Best parameter: {'C': 1, 'gamma': 0.6, 'kernel': 'rbf'}\n"
          ],
          "name": "stdout"
        }
      ]
    },
    {
      "cell_type": "code",
      "metadata": {
        "id": "vpu1yFw_FmPA",
        "colab": {
          "base_uri": "https://localhost:8080/"
        },
        "outputId": "5060976c-2023-4590-debb-d36ce07a564d"
      },
      "source": [
        "svc = SVC(C=1, kernel='rbf', gamma=0.6)\n",
        "svc.fit(X_train, y_train)\n",
        "svc_y_pred = svc.predict(X_test)\n",
        "\n",
        "cm = confusion_matrix(y_test, svc_y_pred)\n",
        "\n",
        "print('Accuracy score: {:.2f}%'.format(accuracy_score(y_test, svc_y_pred) * 100))\n",
        "print('Recall score: {:.2f}%'.format(recall_score(y_test, svc_y_pred) * 100))\n",
        "print(f'Confusion matrix: \\n{cm}')"
      ],
      "execution_count": null,
      "outputs": [
        {
          "output_type": "stream",
          "text": [
            "Accuracy score: 94.00%\n",
            "Recall score: 91.18%\n",
            "Confusion matrix: \n",
            "[[63  3]\n",
            " [ 3 31]]\n"
          ],
          "name": "stdout"
        }
      ]
    },
    {
      "cell_type": "markdown",
      "metadata": {
        "id": "zU-890iNFmcg"
      },
      "source": [
        "### Naive Bayes"
      ]
    },
    {
      "cell_type": "code",
      "metadata": {
        "id": "4XM6iqGNFm0v",
        "colab": {
          "base_uri": "https://localhost:8080/"
        },
        "outputId": "83bd1da4-8628-4fba-eb19-b921e868ed36"
      },
      "source": [
        "from sklearn.naive_bayes import GaussianNB\n",
        "from sklearn.metrics import accuracy_score, recall_score, confusion_matrix\n",
        "\n",
        "nb = GaussianNB()\n",
        "nb.fit(X_train, y_train)\n",
        "nb_y_pred = nb.predict(X_test)\n",
        "\n",
        "cm = confusion_matrix(y_test, nb_y_pred)\n",
        "\n",
        "print('Accuracy score: {:.2f}%'.format(accuracy_score(y_test, nb_y_pred) * 100))\n",
        "print('Recall score: {:.2f}%'.format(recall_score(y_test, nb_y_pred) * 100))\n",
        "print(f'Confusion matrix: \\n{cm}')"
      ],
      "execution_count": null,
      "outputs": [
        {
          "output_type": "stream",
          "text": [
            "Accuracy score: 92.00%\n",
            "Recall score: 82.35%\n",
            "Confusion matrix: \n",
            "[[64  2]\n",
            " [ 6 28]]\n"
          ],
          "name": "stdout"
        }
      ]
    },
    {
      "cell_type": "markdown",
      "metadata": {
        "id": "PWduMPESQsqH"
      },
      "source": [
        "#### Applying k-fold Cross Validation"
      ]
    },
    {
      "cell_type": "code",
      "metadata": {
        "colab": {
          "base_uri": "https://localhost:8080/"
        },
        "id": "Hi4v3CK4QsqH",
        "outputId": "7451666c-6ac5-462e-d341-109038c1e211"
      },
      "source": [
        "from sklearn.model_selection import cross_val_score\n",
        "\n",
        "accuracies = cross_val_score(estimator=nb, X=X_train, y=y_train, cv=10)\n",
        "print('Mean accuracy: {:.2f}%'.format(accuracies.mean() * 100))\n",
        "print('Standard deviation: {:.2f}%'.format(accuracies.std() * 100))"
      ],
      "execution_count": null,
      "outputs": [
        {
          "output_type": "stream",
          "text": [
            "Mean accuracy: 88.67%\n",
            "Standard deviation: 5.81%\n"
          ],
          "name": "stdout"
        }
      ]
    },
    {
      "cell_type": "markdown",
      "metadata": {
        "id": "ueLfdlsSFqOp"
      },
      "source": [
        "### Decision Tree"
      ]
    },
    {
      "cell_type": "markdown",
      "metadata": {
        "id": "v3I-CUTaZ28m"
      },
      "source": [
        "#### Performing Grid Search to find the best hyper parameter"
      ]
    },
    {
      "cell_type": "code",
      "metadata": {
        "colab": {
          "base_uri": "https://localhost:8080/"
        },
        "id": "o1QSsPaCZ2ge",
        "outputId": "b3ed5e20-97db-4d36-aaf7-334d770cc1bd"
      },
      "source": [
        "from sklearn.tree import DecisionTreeClassifier\n",
        "from sklearn.metrics import accuracy_score, recall_score, confusion_matrix\n",
        "from sklearn.model_selection import GridSearchCV\n",
        "\n",
        "parameters = [{'criterion': ['gini', 'entropy']}]\n",
        "grid_search = GridSearchCV(estimator=DecisionTreeClassifier(), param_grid=parameters, scoring='accuracy', n_jobs=-1, cv=10)\n",
        "grid_search.fit(X_train, y_train)\n",
        "\n",
        "print('Best mean accuracy: {:.2f}%'.format(grid_search.best_score_ * 100))\n",
        "print('Standard deviation: {:.2f}%'.format(grid_search.cv_results_['std_test_score'][grid_search.best_index_] * 100))\n",
        "print(f'Best parameter: {grid_search.best_params_}')"
      ],
      "execution_count": null,
      "outputs": [
        {
          "output_type": "stream",
          "text": [
            "Best mean accuracy: 85.00%\n",
            "Standard deviation: 2.69%\n",
            "Best parameter: {'criterion': 'gini'}\n"
          ],
          "name": "stdout"
        }
      ]
    },
    {
      "cell_type": "code",
      "metadata": {
        "id": "bgavGTu9Fqd8",
        "colab": {
          "base_uri": "https://localhost:8080/"
        },
        "outputId": "609d5aa3-ac35-4ab7-850a-8b9deabc3fc7"
      },
      "source": [
        "tree = DecisionTreeClassifier(criterion='gini')\n",
        "tree.fit(X_train, y_train)\n",
        "tree_y_pred = tree.predict(X_test)\n",
        "\n",
        "cm = confusion_matrix(y_test, tree_y_pred)\n",
        "\n",
        "print('Accuracy score: {:.2f}%'.format(accuracy_score(y_test, tree_y_pred) * 100))\n",
        "print('Recall score: {:.2f}%'.format(recall_score(y_test, tree_y_pred) * 100))\n",
        "print(f'Confusion matrix: \\n{cm}')"
      ],
      "execution_count": null,
      "outputs": [
        {
          "output_type": "stream",
          "text": [
            "Accuracy score: 88.00%\n",
            "Recall score: 76.47%\n",
            "Confusion matrix: \n",
            "[[62  4]\n",
            " [ 8 26]]\n"
          ],
          "name": "stdout"
        }
      ]
    },
    {
      "cell_type": "markdown",
      "metadata": {
        "id": "XJIAjIK5RggJ"
      },
      "source": [
        "### Random Forest"
      ]
    },
    {
      "cell_type": "markdown",
      "metadata": {
        "id": "brElGfVcaNbL"
      },
      "source": [
        "#### Performing Grid Search to find the best hyper parameters"
      ]
    },
    {
      "cell_type": "code",
      "metadata": {
        "colab": {
          "base_uri": "https://localhost:8080/"
        },
        "id": "i7BOhiPYaNbL",
        "outputId": "b4519883-436d-4cc2-eae3-753b3eac4b1f"
      },
      "source": [
        "from sklearn.ensemble import RandomForestClassifier\n",
        "from sklearn.metrics import accuracy_score, recall_score, confusion_matrix\n",
        "from sklearn.model_selection import GridSearchCV\n",
        "\n",
        "parameters = [{'n_estimators': [5, 10, 20, 25, 50, 75, 100, 125, 150, 175, 200], 'criterion': ['gini', 'entropy']}]\n",
        "grid_search = GridSearchCV(estimator=RandomForestClassifier(), param_grid=parameters, scoring='accuracy', n_jobs=-1, cv=10)\n",
        "grid_search.fit(X_train, y_train)\n",
        "\n",
        "print('Best mean accuracy: {:.2f}%'.format(grid_search.best_score_ * 100))\n",
        "print('Standard deviation: {:.2f}%'.format(grid_search.cv_results_['std_test_score'][grid_search.best_index_] * 100))\n",
        "print(f'Best parameter: {grid_search.best_params_}')"
      ],
      "execution_count": null,
      "outputs": [
        {
          "output_type": "stream",
          "text": [
            "Best mean accuracy: 88.33%\n",
            "Standard deviation: 5.00%\n",
            "Best parameter: {'criterion': 'gini', 'n_estimators': 10}\n"
          ],
          "name": "stdout"
        }
      ]
    },
    {
      "cell_type": "code",
      "metadata": {
        "id": "7_-5ohHXRiPu",
        "colab": {
          "base_uri": "https://localhost:8080/"
        },
        "outputId": "90609686-fd05-4599-cfe5-8b7bc68a700d"
      },
      "source": [
        "forest = RandomForestClassifier(criterion='gini', n_estimators=10)\n",
        "forest.fit(X_train, y_train)\n",
        "forest_y_pred = forest.predict(X_test)\n",
        "\n",
        "cm = confusion_matrix(y_test, forest_y_pred)\n",
        "\n",
        "print('Accuracy score: {:.2f}%'.format(accuracy_score(y_test, forest_y_pred) * 100))\n",
        "print('Recall score: {:.2f}%'.format(recall_score(y_test, forest_y_pred) * 100))\n",
        "print(f'Confusion matrix: \\n{cm}')"
      ],
      "execution_count": null,
      "outputs": [
        {
          "output_type": "stream",
          "text": [
            "Accuracy score: 89.00%\n",
            "Recall score: 79.41%\n",
            "Confusion matrix: \n",
            "[[62  4]\n",
            " [ 7 27]]\n"
          ],
          "name": "stdout"
        }
      ]
    },
    {
      "cell_type": "markdown",
      "metadata": {
        "id": "ChYaJ8PJKwEu"
      },
      "source": [
        "### XGBoost"
      ]
    },
    {
      "cell_type": "markdown",
      "metadata": {
        "id": "KmzjnerXKwEu"
      },
      "source": [
        "#### Performing Grid Search to find the best hyper parameters"
      ]
    },
    {
      "cell_type": "code",
      "metadata": {
        "colab": {
          "base_uri": "https://localhost:8080/"
        },
        "id": "wh1BGyvHKwEu",
        "outputId": "2ade42ce-d677-4657-9e88-f5daf74acce5"
      },
      "source": [
        "from xgboost import XGBClassifier\n",
        "from sklearn.model_selection import GridSearchCV\n",
        "\n",
        "parameters = [{'n_estimators': [5, 10, 20, 25, 50, 75, 100, 125, 150, 175, 200], \n",
        "               'learning_rate': [0.01, 0.03, 0.05, 0.1, 0.3, 0.5],\n",
        "               'booster': ['gbtree', 'gblinear', 'dart']}]\n",
        "grid_search = GridSearchCV(estimator=XGBClassifier(), param_grid=parameters, scoring='accuracy', n_jobs=-1, cv=10)\n",
        "grid_search.fit(X_train, y_train)\n",
        "\n",
        "print('Best mean accuracy: {:.2f}%'.format(grid_search.best_score_ * 100))\n",
        "print('Standard deviation: {:.2f}%'.format(grid_search.cv_results_['std_test_score'][grid_search.best_index_] * 100))\n",
        "print(f'Best parameter: {grid_search.best_params_}')"
      ],
      "execution_count": null,
      "outputs": [
        {
          "output_type": "stream",
          "text": [
            "Best mean accuracy: 91.33%\n",
            "Standard deviation: 3.40%\n",
            "Best parameter: {'booster': 'gbtree', 'learning_rate': 0.03, 'n_estimators': 75}\n"
          ],
          "name": "stdout"
        }
      ]
    },
    {
      "cell_type": "code",
      "metadata": {
        "colab": {
          "base_uri": "https://localhost:8080/"
        },
        "id": "g1IhFPaXKwEv",
        "outputId": "56e743ad-b854-42f8-a533-241fd8278322"
      },
      "source": [
        "from sklearn.metrics import accuracy_score, recall_score, confusion_matrix\n",
        "\n",
        "xgb_classifier = XGBClassifier(booster='gbtree', learning_rate=0.03, n_estimators=75)\n",
        "xgb_classifier.fit(X_train, y_train)\n",
        "xgb_y_pred = xgb_classifier.predict(X_test)\n",
        "\n",
        "cm = confusion_matrix(y_test, xgb_y_pred)\n",
        "\n",
        "print('Accuracy score: {:.2f}%'.format(accuracy_score(y_test, xgb_y_pred) * 100))\n",
        "print('Recall score: {:.2f}%'.format(recall_score(y_test, xgb_y_pred) * 100))\n",
        "print(f'Confusion matrix: \\n{cm}')"
      ],
      "execution_count": null,
      "outputs": [
        {
          "output_type": "stream",
          "text": [
            "Accuracy score: 94.00%\n",
            "Recall score: 91.18%\n",
            "Confusion matrix: \n",
            "[[63  3]\n",
            " [ 3 31]]\n"
          ],
          "name": "stdout"
        }
      ]
    },
    {
      "cell_type": "markdown",
      "metadata": {
        "id": "N9RUGshKsGt5"
      },
      "source": [
        "These are the best models for this problem:\n",
        "- KNearestNeighbors\n",
        "  - Accuracy: 94%\n",
        "  - Recall: 94.12%\n",
        "  - Accuracy on training set: 89.33%\n",
        "- XGBoost\n",
        "  - Accuracy: 94%\n",
        "  - Recall: 91.18%\n",
        "  - Accuracy on training set: 91.33%\n",
        "- Support Vector Machines\n",
        "  - Accuracy: 94%\n",
        "  - Recall: 91.18%\n",
        "  - Accuracy on training set: 90.33%\n",
        "\n"
      ]
    }
  ]
}