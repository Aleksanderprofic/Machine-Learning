{
  "nbformat": 4,
  "nbformat_minor": 0,
  "metadata": {
    "colab": {
      "name": "tumors-model-selection.ipynb",
      "provenance": [],
      "collapsed_sections": [],
      "toc_visible": true,
      "include_colab_link": true
    },
    "kernelspec": {
      "name": "python3",
      "display_name": "Python 3"
    }
  },
  "cells": [
    {
      "cell_type": "markdown",
      "metadata": {
        "id": "view-in-github",
        "colab_type": "text"
      },
      "source": [
        "<a href=\"https://colab.research.google.com/github/aleksanderprofic/Machine-Learning/blob/master/Classification/ModelSelection/tumors_model_selection.ipynb\" target=\"_parent\"><img src=\"https://colab.research.google.com/assets/colab-badge.svg\" alt=\"Open In Colab\"/></a>"
      ]
    },
    {
      "cell_type": "markdown",
      "metadata": {
        "id": "XB4Li99G8YxP"
      },
      "source": [
        "# Classification model selection for Tumors dataset"
      ]
    },
    {
      "cell_type": "markdown",
      "metadata": {
        "id": "FGMGycwY8a4u"
      },
      "source": [
        "### Selecting the best model for particular problem out of all learned classification models:\n",
        "* Logistic Regression, \n",
        "* K-Nearest Neighbors, \n",
        "* Support Vector Machines,\n",
        "* Naive Bayes\n",
        "* Decision Trees,\n",
        "* Random Forests\n",
        "* XGBoost\n"
      ]
    },
    {
      "cell_type": "markdown",
      "metadata": {
        "id": "_jrQ6Hxp9OoI"
      },
      "source": [
        "## Data preprocessing"
      ]
    },
    {
      "cell_type": "code",
      "metadata": {
        "id": "RCN3TVcT79fr",
        "colab": {
          "base_uri": "https://localhost:8080/",
          "height": 221
        },
        "outputId": "5aaf4112-2552-40a8-81fe-486e9d826c7d"
      },
      "source": [
        "import pandas as pd\n",
        "import numpy as np\n",
        "\n",
        "dataset = pd.read_csv('Tumors.csv')\n",
        "dataset.head()"
      ],
      "execution_count": 1,
      "outputs": [
        {
          "output_type": "execute_result",
          "data": {
            "text/html": [
              "<div>\n",
              "<style scoped>\n",
              "    .dataframe tbody tr th:only-of-type {\n",
              "        vertical-align: middle;\n",
              "    }\n",
              "\n",
              "    .dataframe tbody tr th {\n",
              "        vertical-align: top;\n",
              "    }\n",
              "\n",
              "    .dataframe thead th {\n",
              "        text-align: right;\n",
              "    }\n",
              "</style>\n",
              "<table border=\"1\" class=\"dataframe\">\n",
              "  <thead>\n",
              "    <tr style=\"text-align: right;\">\n",
              "      <th></th>\n",
              "      <th>Sample code number</th>\n",
              "      <th>Clump Thickness</th>\n",
              "      <th>Uniformity of Cell Size</th>\n",
              "      <th>Uniformity of Cell Shape</th>\n",
              "      <th>Marginal Adhesion</th>\n",
              "      <th>Single Epithelial Cell Size</th>\n",
              "      <th>Bare Nuclei</th>\n",
              "      <th>Bland Chromatin</th>\n",
              "      <th>Normal Nucleoli</th>\n",
              "      <th>Mitoses</th>\n",
              "      <th>Class</th>\n",
              "    </tr>\n",
              "  </thead>\n",
              "  <tbody>\n",
              "    <tr>\n",
              "      <th>0</th>\n",
              "      <td>1000025</td>\n",
              "      <td>5</td>\n",
              "      <td>1</td>\n",
              "      <td>1</td>\n",
              "      <td>1</td>\n",
              "      <td>2</td>\n",
              "      <td>1</td>\n",
              "      <td>3</td>\n",
              "      <td>1</td>\n",
              "      <td>1</td>\n",
              "      <td>2</td>\n",
              "    </tr>\n",
              "    <tr>\n",
              "      <th>1</th>\n",
              "      <td>1002945</td>\n",
              "      <td>5</td>\n",
              "      <td>4</td>\n",
              "      <td>4</td>\n",
              "      <td>5</td>\n",
              "      <td>7</td>\n",
              "      <td>10</td>\n",
              "      <td>3</td>\n",
              "      <td>2</td>\n",
              "      <td>1</td>\n",
              "      <td>2</td>\n",
              "    </tr>\n",
              "    <tr>\n",
              "      <th>2</th>\n",
              "      <td>1015425</td>\n",
              "      <td>3</td>\n",
              "      <td>1</td>\n",
              "      <td>1</td>\n",
              "      <td>1</td>\n",
              "      <td>2</td>\n",
              "      <td>2</td>\n",
              "      <td>3</td>\n",
              "      <td>1</td>\n",
              "      <td>1</td>\n",
              "      <td>2</td>\n",
              "    </tr>\n",
              "    <tr>\n",
              "      <th>3</th>\n",
              "      <td>1016277</td>\n",
              "      <td>6</td>\n",
              "      <td>8</td>\n",
              "      <td>8</td>\n",
              "      <td>1</td>\n",
              "      <td>3</td>\n",
              "      <td>4</td>\n",
              "      <td>3</td>\n",
              "      <td>7</td>\n",
              "      <td>1</td>\n",
              "      <td>2</td>\n",
              "    </tr>\n",
              "    <tr>\n",
              "      <th>4</th>\n",
              "      <td>1017023</td>\n",
              "      <td>4</td>\n",
              "      <td>1</td>\n",
              "      <td>1</td>\n",
              "      <td>3</td>\n",
              "      <td>2</td>\n",
              "      <td>1</td>\n",
              "      <td>3</td>\n",
              "      <td>1</td>\n",
              "      <td>1</td>\n",
              "      <td>2</td>\n",
              "    </tr>\n",
              "  </tbody>\n",
              "</table>\n",
              "</div>"
            ],
            "text/plain": [
              "   Sample code number  Clump Thickness  ...  Mitoses  Class\n",
              "0             1000025                5  ...        1      2\n",
              "1             1002945                5  ...        1      2\n",
              "2             1015425                3  ...        1      2\n",
              "3             1016277                6  ...        1      2\n",
              "4             1017023                4  ...        1      2\n",
              "\n",
              "[5 rows x 11 columns]"
            ]
          },
          "metadata": {
            "tags": []
          },
          "execution_count": 1
        }
      ]
    },
    {
      "cell_type": "markdown",
      "metadata": {
        "id": "6i0-4gv0BChi"
      },
      "source": [
        "### Extracting dependent and independent variables"
      ]
    },
    {
      "cell_type": "code",
      "metadata": {
        "id": "tuq_q8X3A7-A"
      },
      "source": [
        "X = dataset.iloc[:, 1:-1].values\n",
        "y = dataset.iloc[:, -1].values"
      ],
      "execution_count": 2,
      "outputs": []
    },
    {
      "cell_type": "markdown",
      "metadata": {
        "id": "uxQf51pgDyXV"
      },
      "source": [
        "### Feature Scaling"
      ]
    },
    {
      "cell_type": "code",
      "metadata": {
        "id": "D5VE4MKND7WN"
      },
      "source": [
        "from sklearn.preprocessing import StandardScaler\n",
        "sc = StandardScaler()\n",
        "X = sc.fit_transform(X)"
      ],
      "execution_count": 3,
      "outputs": []
    },
    {
      "cell_type": "markdown",
      "metadata": {
        "id": "mpUmnKEgBsZP"
      },
      "source": [
        "### Splitting dataset into the Training Set and the Test Set "
      ]
    },
    {
      "cell_type": "code",
      "metadata": {
        "id": "-mjeXHKiBtXc"
      },
      "source": [
        "from sklearn.model_selection import train_test_split\n",
        "\n",
        "X_train, X_test, y_train, y_test = train_test_split(X, y, test_size=0.2)"
      ],
      "execution_count": 4,
      "outputs": []
    },
    {
      "cell_type": "markdown",
      "metadata": {
        "id": "1pF9b6LUCUfm"
      },
      "source": [
        "## Training and predictions"
      ]
    },
    {
      "cell_type": "markdown",
      "metadata": {
        "id": "NEAb5RQECyr8"
      },
      "source": [
        "### Logistic Regression"
      ]
    },
    {
      "cell_type": "code",
      "metadata": {
        "id": "9h91bxzGCV3Z",
        "colab": {
          "base_uri": "https://localhost:8080/"
        },
        "outputId": "1260935a-89c2-4afc-b828-108a960baeeb"
      },
      "source": [
        "from sklearn.linear_model import LogisticRegression\n",
        "from sklearn.metrics import accuracy_score, recall_score, confusion_matrix\n",
        "\n",
        "log_regressor = LogisticRegression()\n",
        "log_regressor.fit(X_train, y_train)\n",
        "log_y_pred = log_regressor.predict(X_test)\n",
        "\n",
        "cm = confusion_matrix(y_test, log_y_pred)\n",
        "\n",
        "print('Accuracy score: {:.2f}%'.format(accuracy_score(y_test, log_y_pred) * 100))\n",
        "print('Recall score: {:.2f}%'.format(recall_score(y_test, log_y_pred, pos_label=4) * 100))\n",
        "print(f'Confusion matrix: \\n{cm}')"
      ],
      "execution_count": 5,
      "outputs": [
        {
          "output_type": "stream",
          "text": [
            "Accuracy score: 97.81%\n",
            "Recall score: 98.11%\n",
            "Confusion matrix: \n",
            "[[82  2]\n",
            " [ 1 52]]\n"
          ],
          "name": "stdout"
        }
      ]
    },
    {
      "cell_type": "markdown",
      "metadata": {
        "id": "NPcQlgtaOa21"
      },
      "source": [
        "#### Applying k-fold Cross Validation"
      ]
    },
    {
      "cell_type": "code",
      "metadata": {
        "colab": {
          "base_uri": "https://localhost:8080/"
        },
        "id": "399XWvAtOdAq",
        "outputId": "107f8cbb-f715-47af-e2d8-ecd700c8e3bb"
      },
      "source": [
        "from sklearn.model_selection import cross_val_score\n",
        "\n",
        "accuracies = cross_val_score(estimator=log_regressor, X=X_train, y=y_train, cv=10)\n",
        "print('Mean accuracy: {:.2f}%'.format(accuracies.mean() * 100))\n",
        "print('Standard deviation: {:.2f}%'.format(accuracies.std() * 100))"
      ],
      "execution_count": 6,
      "outputs": [
        {
          "output_type": "stream",
          "text": [
            "Mean accuracy: 96.53%\n",
            "Standard deviation: 2.86%\n"
          ],
          "name": "stdout"
        }
      ]
    },
    {
      "cell_type": "markdown",
      "metadata": {
        "id": "WSSLnCs3FjCV"
      },
      "source": [
        "### K-Nearest Neighbors"
      ]
    },
    {
      "cell_type": "markdown",
      "metadata": {
        "id": "35zg8C_xXhMB"
      },
      "source": [
        "#### Performing Grid Search to find the best hyper parameter"
      ]
    },
    {
      "cell_type": "code",
      "metadata": {
        "id": "R-AutB6yFRRL",
        "colab": {
          "base_uri": "https://localhost:8080/"
        },
        "outputId": "1acee5bf-fdac-48b0-db8e-5e740441a65f"
      },
      "source": [
        "from sklearn.neighbors import KNeighborsClassifier\n",
        "from sklearn.metrics import accuracy_score, recall_score, confusion_matrix\n",
        "from sklearn.model_selection import GridSearchCV\n",
        "\n",
        "parameters = [{'n_neighbors': [3,4,5,6,7,10]}]\n",
        "grid_search = GridSearchCV(estimator=KNeighborsClassifier(), param_grid=parameters, scoring='accuracy', n_jobs=-1, cv=10)\n",
        "grid_search.fit(X_train, y_train)\n",
        "\n",
        "print('Best mean accuracy: {:.2f}%'.format(grid_search.best_score_ * 100))\n",
        "print('Standard deviation: {:.2f}%'.format(grid_search.cv_results_['std_test_score'][grid_search.best_index_] * 100))\n",
        "print(f'Best parameter: {grid_search.best_params_}')"
      ],
      "execution_count": 7,
      "outputs": [
        {
          "output_type": "stream",
          "text": [
            "Best mean accuracy: 96.90%\n",
            "Standard deviation: 2.44%\n",
            "Best parameter: {'n_neighbors': 7}\n"
          ],
          "name": "stdout"
        }
      ]
    },
    {
      "cell_type": "code",
      "metadata": {
        "id": "aaH2T55VXfHk",
        "colab": {
          "base_uri": "https://localhost:8080/"
        },
        "outputId": "91f09d05-271d-45e1-aae0-b8daf5884633"
      },
      "source": [
        "knn = KNeighborsClassifier(n_neighbors=7)\n",
        "knn.fit(X_train, y_train)\n",
        "knn_y_pred = knn.predict(X_test)\n",
        "\n",
        "cm = confusion_matrix(y_test, knn_y_pred)\n",
        "\n",
        "print('Accuracy score: {:.2f}%'.format(accuracy_score(y_test, knn_y_pred) * 100))\n",
        "print('Recall score: {:.2f}%'.format(recall_score(y_test, knn_y_pred, pos_label=4) * 100))\n",
        "print(f'Confusion matrix: \\n{cm}')"
      ],
      "execution_count": 8,
      "outputs": [
        {
          "output_type": "stream",
          "text": [
            "Accuracy score: 96.35%\n",
            "Recall score: 96.23%\n",
            "Confusion matrix: \n",
            "[[81  3]\n",
            " [ 2 51]]\n"
          ],
          "name": "stdout"
        }
      ]
    },
    {
      "cell_type": "markdown",
      "metadata": {
        "id": "DmQHQaCMFl6R"
      },
      "source": [
        "### Support Vector Machines"
      ]
    },
    {
      "cell_type": "markdown",
      "metadata": {
        "id": "TOPleyO7Ywp7"
      },
      "source": [
        "#### Performing Grid Search to find the best hyper parameters"
      ]
    },
    {
      "cell_type": "code",
      "metadata": {
        "colab": {
          "base_uri": "https://localhost:8080/"
        },
        "id": "fhaTGvceYwp8",
        "outputId": "0e414f26-26fd-487c-ca5d-7454eda31cb6"
      },
      "source": [
        "from sklearn.svm import SVC\n",
        "from sklearn.metrics import accuracy_score, recall_score, confusion_matrix\n",
        "from sklearn.model_selection import GridSearchCV\n",
        "\n",
        "parameters = [{'C': [0, 0.1, 0.25, 0.5, 0.75, 1], 'kernel': ['rbf'], 'gamma': [0.1, 0.2, 0.3, 0.4, 0.5, 0.6, 0.7, 0.8, 0.9, 'scale']}]\n",
        "grid_search = GridSearchCV(estimator=SVC(), param_grid=parameters, scoring='accuracy', n_jobs=-1, cv=10)\n",
        "grid_search.fit(X_train, y_train)\n",
        "\n",
        "print('Best mean accuracy: {:.2f}%'.format(grid_search.best_score_ * 100))\n",
        "print('Standard deviation: {:.2f}%'.format(grid_search.cv_results_['std_test_score'][grid_search.best_index_] * 100))\n",
        "print(f'Best parameter: {grid_search.best_params_}')"
      ],
      "execution_count": 9,
      "outputs": [
        {
          "output_type": "stream",
          "text": [
            "Best mean accuracy: 96.90%\n",
            "Standard deviation: 2.94%\n",
            "Best parameter: {'C': 1, 'gamma': 'scale', 'kernel': 'rbf'}\n"
          ],
          "name": "stdout"
        }
      ]
    },
    {
      "cell_type": "code",
      "metadata": {
        "id": "vpu1yFw_FmPA",
        "colab": {
          "base_uri": "https://localhost:8080/"
        },
        "outputId": "10835d8c-a2c0-4169-92b9-c49f984c62b6"
      },
      "source": [
        "svc = SVC(C=1, kernel='rbf', gamma='scale')\n",
        "svc.fit(X_train, y_train)\n",
        "svc_y_pred = svc.predict(X_test)\n",
        "\n",
        "cm = confusion_matrix(y_test, svc_y_pred)\n",
        "\n",
        "print('Accuracy score: {:.2f}%'.format(accuracy_score(y_test, svc_y_pred) * 100))\n",
        "print('Recall score: {:.2f}%'.format(recall_score(y_test, svc_y_pred, pos_label=4) * 100))\n",
        "print(f'Confusion matrix: \\n{cm}')"
      ],
      "execution_count": 10,
      "outputs": [
        {
          "output_type": "stream",
          "text": [
            "Accuracy score: 97.81%\n",
            "Recall score: 98.11%\n",
            "Confusion matrix: \n",
            "[[82  2]\n",
            " [ 1 52]]\n"
          ],
          "name": "stdout"
        }
      ]
    },
    {
      "cell_type": "markdown",
      "metadata": {
        "id": "zU-890iNFmcg"
      },
      "source": [
        "### Naive Bayes"
      ]
    },
    {
      "cell_type": "code",
      "metadata": {
        "id": "4XM6iqGNFm0v",
        "colab": {
          "base_uri": "https://localhost:8080/"
        },
        "outputId": "23e091d1-896c-42bf-a46e-9c4409042ff0"
      },
      "source": [
        "from sklearn.naive_bayes import GaussianNB\n",
        "from sklearn.metrics import accuracy_score, recall_score, confusion_matrix\n",
        "\n",
        "nb = GaussianNB()\n",
        "nb.fit(X_train, y_train)\n",
        "nb_y_pred = nb.predict(X_test)\n",
        "\n",
        "cm = confusion_matrix(y_test, nb_y_pred)\n",
        "\n",
        "print('Accuracy score: {:.2f}%'.format(accuracy_score(y_test, nb_y_pred) * 100))\n",
        "print('Recall score: {:.2f}%'.format(recall_score(y_test, nb_y_pred, pos_label=4) * 100))\n",
        "print(f'Confusion matrix: \\n{cm}')"
      ],
      "execution_count": 11,
      "outputs": [
        {
          "output_type": "stream",
          "text": [
            "Accuracy score: 94.89%\n",
            "Recall score: 98.11%\n",
            "Confusion matrix: \n",
            "[[78  6]\n",
            " [ 1 52]]\n"
          ],
          "name": "stdout"
        }
      ]
    },
    {
      "cell_type": "markdown",
      "metadata": {
        "id": "PWduMPESQsqH"
      },
      "source": [
        "#### Applying k-fold Cross Validation"
      ]
    },
    {
      "cell_type": "code",
      "metadata": {
        "colab": {
          "base_uri": "https://localhost:8080/"
        },
        "id": "Hi4v3CK4QsqH",
        "outputId": "c29be683-5a9b-4041-cd6b-8e80739448d4"
      },
      "source": [
        "from sklearn.model_selection import cross_val_score\n",
        "\n",
        "accuracies = cross_val_score(estimator=nb, X=X_train, y=y_train, cv=10)\n",
        "print('Mean accuracy: {:.2f}%'.format(accuracies.mean() * 100))\n",
        "print('Standard deviation: {:.2f}%'.format(accuracies.std() * 100))"
      ],
      "execution_count": 12,
      "outputs": [
        {
          "output_type": "stream",
          "text": [
            "Mean accuracy: 96.71%\n",
            "Standard deviation: 2.91%\n"
          ],
          "name": "stdout"
        }
      ]
    },
    {
      "cell_type": "markdown",
      "metadata": {
        "id": "ueLfdlsSFqOp"
      },
      "source": [
        "### Decision Tree"
      ]
    },
    {
      "cell_type": "markdown",
      "metadata": {
        "id": "v3I-CUTaZ28m"
      },
      "source": [
        "#### Performing Grid Search to find the best hyper parameter"
      ]
    },
    {
      "cell_type": "code",
      "metadata": {
        "colab": {
          "base_uri": "https://localhost:8080/"
        },
        "id": "o1QSsPaCZ2ge",
        "outputId": "905499fe-71b9-41ae-8311-e0f01b5a5402"
      },
      "source": [
        "from sklearn.tree import DecisionTreeClassifier\n",
        "from sklearn.metrics import accuracy_score, recall_score, confusion_matrix\n",
        "from sklearn.model_selection import GridSearchCV\n",
        "\n",
        "parameters = [{'criterion': ['gini', 'entropy']}]\n",
        "grid_search = GridSearchCV(estimator=DecisionTreeClassifier(), param_grid=parameters, scoring='accuracy', n_jobs=-1, cv=10)\n",
        "grid_search.fit(X_train, y_train)\n",
        "\n",
        "print('Best mean accuracy: {:.2f}%'.format(grid_search.best_score_ * 100))\n",
        "print('Standard deviation: {:.2f}%'.format(grid_search.cv_results_['std_test_score'][grid_search.best_index_] * 100))\n",
        "print(f'Best parameter: {grid_search.best_params_}')"
      ],
      "execution_count": 13,
      "outputs": [
        {
          "output_type": "stream",
          "text": [
            "Best mean accuracy: 94.70%\n",
            "Standard deviation: 2.88%\n",
            "Best parameter: {'criterion': 'entropy'}\n"
          ],
          "name": "stdout"
        }
      ]
    },
    {
      "cell_type": "code",
      "metadata": {
        "id": "bgavGTu9Fqd8",
        "colab": {
          "base_uri": "https://localhost:8080/"
        },
        "outputId": "ff1f634a-4b80-4ee6-f31c-2a8c91a53f66"
      },
      "source": [
        "tree = DecisionTreeClassifier(criterion='entropy')\n",
        "tree.fit(X_train, y_train)\n",
        "tree_y_pred = tree.predict(X_test)\n",
        "\n",
        "cm = confusion_matrix(y_test, tree_y_pred)\n",
        "\n",
        "print('Accuracy score: {:.2f}%'.format(accuracy_score(y_test, tree_y_pred) * 100))\n",
        "print('Recall score: {:.2f}%'.format(recall_score(y_test, tree_y_pred, pos_label=4) * 100))\n",
        "print(f'Confusion matrix: \\n{cm}')"
      ],
      "execution_count": 14,
      "outputs": [
        {
          "output_type": "stream",
          "text": [
            "Accuracy score: 94.89%\n",
            "Recall score: 92.45%\n",
            "Confusion matrix: \n",
            "[[81  3]\n",
            " [ 4 49]]\n"
          ],
          "name": "stdout"
        }
      ]
    },
    {
      "cell_type": "markdown",
      "metadata": {
        "id": "XJIAjIK5RggJ"
      },
      "source": [
        "### Random Forest"
      ]
    },
    {
      "cell_type": "markdown",
      "metadata": {
        "id": "brElGfVcaNbL"
      },
      "source": [
        "#### Performing Grid Search to find the best hyper parameters"
      ]
    },
    {
      "cell_type": "code",
      "metadata": {
        "colab": {
          "base_uri": "https://localhost:8080/"
        },
        "id": "i7BOhiPYaNbL",
        "outputId": "ea752fc5-4361-4d40-a3e8-39372ffab6b1"
      },
      "source": [
        "from sklearn.ensemble import RandomForestClassifier\n",
        "from sklearn.metrics import accuracy_score, recall_score, confusion_matrix\n",
        "from sklearn.model_selection import GridSearchCV\n",
        "\n",
        "parameters = [{'n_estimators': [5, 10, 20, 25, 50, 75, 100, 125, 150, 175, 200], 'criterion': ['gini', 'entropy']}]\n",
        "grid_search = GridSearchCV(estimator=RandomForestClassifier(), param_grid=parameters, scoring='accuracy', n_jobs=-1, cv=10)\n",
        "grid_search.fit(X_train, y_train)\n",
        "\n",
        "print('Best mean accuracy: {:.2f}%'.format(grid_search.best_score_ * 100))\n",
        "print('Standard deviation: {:.2f}%'.format(grid_search.cv_results_['std_test_score'][grid_search.best_index_] * 100))\n",
        "print(f'Best parameter: {grid_search.best_params_}')"
      ],
      "execution_count": 15,
      "outputs": [
        {
          "output_type": "stream",
          "text": [
            "Best mean accuracy: 97.08%\n",
            "Standard deviation: 2.19%\n",
            "Best parameter: {'criterion': 'gini', 'n_estimators': 10}\n"
          ],
          "name": "stdout"
        }
      ]
    },
    {
      "cell_type": "code",
      "metadata": {
        "id": "7_-5ohHXRiPu",
        "colab": {
          "base_uri": "https://localhost:8080/"
        },
        "outputId": "663fc371-739f-4b46-fe2a-b41e2676526e"
      },
      "source": [
        "forest = RandomForestClassifier(criterion='gini', n_estimators=10)\n",
        "forest.fit(X_train, y_train)\n",
        "forest_y_pred = forest.predict(X_test)\n",
        "\n",
        "cm = confusion_matrix(y_test, forest_y_pred)\n",
        "\n",
        "print('Accuracy score: {:.2f}%'.format(accuracy_score(y_test, forest_y_pred) * 100))\n",
        "print('Recall score: {:.2f}%'.format(recall_score(y_test, forest_y_pred, pos_label=4) * 100))\n",
        "print(f'Confusion matrix: \\n{cm}')"
      ],
      "execution_count": 16,
      "outputs": [
        {
          "output_type": "stream",
          "text": [
            "Accuracy score: 95.62%\n",
            "Recall score: 94.34%\n",
            "Confusion matrix: \n",
            "[[81  3]\n",
            " [ 3 50]]\n"
          ],
          "name": "stdout"
        }
      ]
    },
    {
      "cell_type": "markdown",
      "metadata": {
        "id": "ChYaJ8PJKwEu"
      },
      "source": [
        "### XGBoost"
      ]
    },
    {
      "cell_type": "markdown",
      "metadata": {
        "id": "KmzjnerXKwEu"
      },
      "source": [
        "#### Performing Grid Search to find the best hyper parameters"
      ]
    },
    {
      "cell_type": "code",
      "metadata": {
        "colab": {
          "base_uri": "https://localhost:8080/"
        },
        "id": "wh1BGyvHKwEu",
        "outputId": "5839db25-519b-4628-f43c-73ba35a3f69a"
      },
      "source": [
        "from xgboost import XGBClassifier\n",
        "from sklearn.model_selection import GridSearchCV\n",
        "\n",
        "parameters = [{'n_estimators': [5, 10, 20, 25, 50, 75, 100, 125, 150, 175, 200], \n",
        "               'learning_rate': [0.01, 0.03, 0.05, 0.1, 0.3, 0.5],\n",
        "               'booster': ['gbtree', 'gblinear', 'dart']}]\n",
        "grid_search = GridSearchCV(estimator=XGBClassifier(), param_grid=parameters, scoring='accuracy', n_jobs=-1, cv=10)\n",
        "grid_search.fit(X_train, y_train)\n",
        "\n",
        "print('Best mean accuracy: {:.2f}%'.format(grid_search.best_score_ * 100))\n",
        "print('Standard deviation: {:.2f}%'.format(grid_search.cv_results_['std_test_score'][grid_search.best_index_] * 100))\n",
        "print(f'Best parameter: {grid_search.best_params_}')"
      ],
      "execution_count": 17,
      "outputs": [
        {
          "output_type": "stream",
          "text": [
            "Best mean accuracy: 96.35%\n",
            "Standard deviation: 2.93%\n",
            "Best parameter: {'booster': 'gbtree', 'learning_rate': 0.3, 'n_estimators': 20}\n"
          ],
          "name": "stdout"
        }
      ]
    },
    {
      "cell_type": "code",
      "metadata": {
        "colab": {
          "base_uri": "https://localhost:8080/"
        },
        "id": "g1IhFPaXKwEv",
        "outputId": "13d38d25-885c-4850-96ab-56b4af80d1ce"
      },
      "source": [
        "from sklearn.metrics import accuracy_score, recall_score, confusion_matrix\n",
        "\n",
        "xgb_classifier = XGBClassifier(booster='gbtree', learning_rate=0.3, n_estimators=20)\n",
        "xgb_classifier.fit(X_train, y_train)\n",
        "xgb_y_pred = xgb_classifier.predict(X_test)\n",
        "\n",
        "cm = confusion_matrix(y_test, xgb_y_pred)\n",
        "\n",
        "print('Accuracy score: {:.2f}%'.format(accuracy_score(y_test, xgb_y_pred) * 100))\n",
        "print('Recall score: {:.2f}%'.format(recall_score(y_test, xgb_y_pred, pos_label=4) * 100))\n",
        "print(f'Confusion matrix: \\n{cm}')"
      ],
      "execution_count": 18,
      "outputs": [
        {
          "output_type": "stream",
          "text": [
            "Accuracy score: 97.08%\n",
            "Recall score: 98.11%\n",
            "Confusion matrix: \n",
            "[[81  3]\n",
            " [ 1 52]]\n"
          ],
          "name": "stdout"
        }
      ]
    },
    {
      "cell_type": "markdown",
      "metadata": {
        "id": "N9RUGshKsGt5"
      },
      "source": [
        "Two best model for this problem seem to be:\n",
        "\n",
        "- **Logistic Regression**\n",
        "    - Accuracy: 97.81%\n",
        "    - Recall: 98.11%\n",
        "    - Accuracy on training set: 96.53%\n",
        "    - Standard deviation: 2.86%\n",
        "\n",
        "- **Support Vector Machine**\n",
        "    - Accuracy: 97.81%\n",
        "    - Recall: 98.11%\n",
        "    - Accuracy on training set: 96.9%\n",
        "    - Standard deviation: 2.94%\n",
        "\n",
        "XGBoost is worth mentioning as well, as it got:\n",
        "- Accuracy: 97.08%\n",
        "- Recall: 98.11%\n",
        "- Accuracy on training set: 96.35%\n",
        "- Standard deviation: 2.93%\n",
        "\n"
      ]
    }
  ]
}