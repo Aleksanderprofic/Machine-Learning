{
  "nbformat": 4,
  "nbformat_minor": 0,
  "metadata": {
    "colab": {
      "name": "Social_Network_Ads_DataVisualisation.ipynb",
      "provenance": [],
      "collapsed_sections": [],
      "toc_visible": true,
      "authorship_tag": "ABX9TyNj4lqdGfybr8Hs4Rf/ggRS",
      "include_colab_link": true
    },
    "kernelspec": {
      "name": "python3",
      "display_name": "Python 3"
    }
  },
  "cells": [
    {
      "cell_type": "markdown",
      "metadata": {
        "id": "view-in-github",
        "colab_type": "text"
      },
      "source": [
        "<a href=\"https://colab.research.google.com/github/aleksanderprofic/Machine-Learning/blob/master/Classification/social_network_ads_data_visualisation.ipynb\" target=\"_parent\"><img src=\"https://colab.research.google.com/assets/colab-badge.svg\" alt=\"Open In Colab\"/></a>"
      ]
    },
    {
      "cell_type": "markdown",
      "metadata": {
        "id": "XnAzBM4YwmZT"
      },
      "source": [
        "# Social network ads Data Visualisation"
      ]
    },
    {
      "cell_type": "markdown",
      "metadata": {
        "id": "M9wSZNs9w9f0"
      },
      "source": [
        "### Data loading"
      ]
    },
    {
      "cell_type": "code",
      "metadata": {
        "id": "fvdzq4WUv5Vy",
        "colab": {
          "base_uri": "https://localhost:8080/",
          "height": 204
        },
        "outputId": "17fbe957-36e0-42fb-ab6c-a0560a4ceeba"
      },
      "source": [
        "import pandas as pd\n",
        "import matplotlib.pyplot as plt\n",
        "import numpy as np\n",
        "\n",
        "df = pd.read_csv('Social_Network_Ads.csv')\n",
        "df.head()"
      ],
      "execution_count": 1,
      "outputs": [
        {
          "output_type": "execute_result",
          "data": {
            "text/html": [
              "<div>\n",
              "<style scoped>\n",
              "    .dataframe tbody tr th:only-of-type {\n",
              "        vertical-align: middle;\n",
              "    }\n",
              "\n",
              "    .dataframe tbody tr th {\n",
              "        vertical-align: top;\n",
              "    }\n",
              "\n",
              "    .dataframe thead th {\n",
              "        text-align: right;\n",
              "    }\n",
              "</style>\n",
              "<table border=\"1\" class=\"dataframe\">\n",
              "  <thead>\n",
              "    <tr style=\"text-align: right;\">\n",
              "      <th></th>\n",
              "      <th>Age</th>\n",
              "      <th>EstimatedSalary</th>\n",
              "      <th>Purchased</th>\n",
              "    </tr>\n",
              "  </thead>\n",
              "  <tbody>\n",
              "    <tr>\n",
              "      <th>0</th>\n",
              "      <td>19</td>\n",
              "      <td>19000</td>\n",
              "      <td>0</td>\n",
              "    </tr>\n",
              "    <tr>\n",
              "      <th>1</th>\n",
              "      <td>35</td>\n",
              "      <td>20000</td>\n",
              "      <td>0</td>\n",
              "    </tr>\n",
              "    <tr>\n",
              "      <th>2</th>\n",
              "      <td>26</td>\n",
              "      <td>43000</td>\n",
              "      <td>0</td>\n",
              "    </tr>\n",
              "    <tr>\n",
              "      <th>3</th>\n",
              "      <td>27</td>\n",
              "      <td>57000</td>\n",
              "      <td>0</td>\n",
              "    </tr>\n",
              "    <tr>\n",
              "      <th>4</th>\n",
              "      <td>19</td>\n",
              "      <td>76000</td>\n",
              "      <td>0</td>\n",
              "    </tr>\n",
              "  </tbody>\n",
              "</table>\n",
              "</div>"
            ],
            "text/plain": [
              "   Age  EstimatedSalary  Purchased\n",
              "0   19            19000          0\n",
              "1   35            20000          0\n",
              "2   26            43000          0\n",
              "3   27            57000          0\n",
              "4   19            76000          0"
            ]
          },
          "metadata": {
            "tags": []
          },
          "execution_count": 1
        }
      ]
    },
    {
      "cell_type": "markdown",
      "metadata": {
        "id": "mCWNiC_6_JJp"
      },
      "source": [
        "### Correlations visualisation"
      ]
    },
    {
      "cell_type": "markdown",
      "metadata": {
        "id": "-Q9Ra-Rlw8-u"
      },
      "source": [
        "#### Correlation between Age and Purchased"
      ]
    },
    {
      "cell_type": "code",
      "metadata": {
        "id": "2BJ8CRXHxFSP",
        "colab": {
          "base_uri": "https://localhost:8080/",
          "height": 297
        },
        "outputId": "bf8e3edb-7769-4ef5-92ab-f2a92b42f04b"
      },
      "source": [
        "grouped_df = df.groupby(by='Age')\n",
        "\n",
        "zeros = []\n",
        "ones = []\n",
        "ages = []\n",
        "for age, group in grouped_df:\n",
        "    zeros.append(sum(1 for number in group['Purchased'] if number == 0))\n",
        "    ones.append(sum(1 for number in group['Purchased'] if number == 1))\n",
        "    ages.append(age)\n",
        "\n",
        "\n",
        "plt.bar(ages, zeros, color='r', width=0.4, label='Not purchased')\n",
        "plt.bar([age + 0.4 for age in ages], ones, color='b', width=0.4, label='Purchased')\n",
        "\n",
        "plt.title('Age vs Purchased')\n",
        "plt.xlabel('Age')\n",
        "plt.xticks(np.arange(min(df['Age']), max(df['Age']) + 1, 2))\n",
        "plt.legend()\n",
        "plt.tight_layout()\n",
        "plt.show()"
      ],
      "execution_count": 2,
      "outputs": [
        {
          "output_type": "display_data",
          "data": {
            "image/png": "[encoded data removed]",
            "text/plain": [
              "<Figure size 432x288 with 1 Axes>"
            ]
          },
          "metadata": {
            "tags": [],
            "needs_background": "light"
          }
        }
      ]
    },
    {
      "cell_type": "code",
      "metadata": {
        "id": "erray-k86uZt",
        "colab": {
          "base_uri": "https://localhost:8080/"
        },
        "outputId": "cc02efed-e390-44b6-f21a-f43ccd1b4d1b"
      },
      "source": [
        "df['Age'].corr(df['Purchased'])"
      ],
      "execution_count": 3,
      "outputs": [
        {
          "output_type": "execute_result",
          "data": {
            "text/plain": [
              "0.622454198884529"
            ]
          },
          "metadata": {
            "tags": []
          },
          "execution_count": 3
        }
      ]
    },
    {
      "cell_type": "markdown",
      "metadata": {
        "id": "II4JG4fc66wp"
      },
      "source": [
        "Pretty strong positive correlation between Age and Purchased"
      ]
    },
    {
      "cell_type": "markdown",
      "metadata": {
        "id": "YxxiSjc37K7w"
      },
      "source": [
        "#### Correlation between EstimatedSalary and Purchased"
      ]
    },
    {
      "cell_type": "code",
      "metadata": {
        "id": "K7OYqmeA7O13",
        "colab": {
          "base_uri": "https://localhost:8080/",
          "height": 297
        },
        "outputId": "dbca1624-6ab5-42f9-b506-f996d7138b36"
      },
      "source": [
        "grouped_df = df.groupby(by='EstimatedSalary')\n",
        "zeros = []\n",
        "ones = []\n",
        "salaries = []\n",
        "\n",
        "i = 0\n",
        "temp_zeros = 0\n",
        "temp_ones = 0\n",
        "temp_salary = 0\n",
        "for salary, group in grouped_df:\n",
        "    if i < 4:\n",
        "        temp_zeros += sum(1 for number in group['Purchased'] if number == 0)\n",
        "        temp_ones += sum(1 for number in group['Purchased'] if number == 1)\n",
        "        temp_salary += salary // 1000\n",
        "        i += 1\n",
        "    else:\n",
        "        zeros.append(temp_zeros)\n",
        "        ones.append(temp_ones)\n",
        "        salaries.append(temp_salary // 5)\n",
        "        i = 0\n",
        "        temp_zeros = 0\n",
        "        temp_ones = 0 \n",
        "        temp_salary = 0\n",
        "\n",
        "\n",
        "plt.bar([salary + -1.5 for salary in salaries], zeros, color='r', width=1.5, label='Not purchased', align='edge')\n",
        "plt.bar([salary for salary in salaries], ones, color='b', width=1.5, label='Purchased', align='edge')\n",
        "\n",
        "plt.title('EstimatedSalary vs Purchased')\n",
        "plt.xlabel('EstimatedSalary [k]')\n",
        "plt.legend()\n",
        "plt.tight_layout()\n",
        "plt.show()"
      ],
      "execution_count": 4,
      "outputs": [
        {
          "output_type": "display_data",
          "data": {
            "image/png": "[encoded data removed]",
            "text/plain": [
              "<Figure size 432x288 with 1 Axes>"
            ]
          },
          "metadata": {
            "tags": [],
            "needs_background": "light"
          }
        }
      ]
    },
    {
      "cell_type": "code",
      "metadata": {
        "id": "L1pj7Duz-qls",
        "colab": {
          "base_uri": "https://localhost:8080/"
        },
        "outputId": "f89080aa-92f2-4cae-b720-f405f5ea2752"
      },
      "source": [
        "df['EstimatedSalary'].corr(df['Purchased'])"
      ],
      "execution_count": 5,
      "outputs": [
        {
          "output_type": "execute_result",
          "data": {
            "text/plain": [
              "0.36208302580467927"
            ]
          },
          "metadata": {
            "tags": []
          },
          "execution_count": 5
        }
      ]
    },
    {
      "cell_type": "markdown",
      "metadata": {
        "id": "e4RpITW_-uC7"
      },
      "source": [
        "Weak positive correlation between EstimatedSalary and Purchased"
      ]
    }
  ]
}
