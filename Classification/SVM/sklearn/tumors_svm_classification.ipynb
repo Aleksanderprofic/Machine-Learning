{
  "nbformat": 4,
  "nbformat_minor": 0,
  "metadata": {
    "colab": {
      "name": "tumors_support_vector_machine.ipynb",
      "provenance": [],
      "collapsed_sections": [],
      "toc_visible": true,
      "include_colab_link": true
    },
    "kernelspec": {
      "name": "python3",
      "display_name": "Python 3"
    }
  },
  "cells": [
    {
      "cell_type": "markdown",
      "metadata": {
        "id": "view-in-github",
        "colab_type": "text"
      },
      "source": [
        "<a href=\"https://colab.research.google.com/github/aleksanderprofic/Machine-Learning/blob/master/Classification/SVM/sklearn/tumors_svm_classification.ipynb\" target=\"_parent\"><img src=\"https://colab.research.google.com/assets/colab-badge.svg\" alt=\"Open In Colab\"/></a>"
      ]
    },
    {
      "cell_type": "markdown",
      "metadata": {
        "id": "XnAzBM4YwmZT"
      },
      "source": [
        "# Support Vector Machine (SVM)"
      ]
    },
    {
      "cell_type": "markdown",
      "metadata": {
        "id": "5C0HwYA9xLID"
      },
      "source": [
        "## Data preprocessing"
      ]
    },
    {
      "cell_type": "markdown",
      "metadata": {
        "id": "M9wSZNs9w9f0"
      },
      "source": [
        "### Data loading"
      ]
    },
    {
      "cell_type": "code",
      "metadata": {
        "id": "fvdzq4WUv5Vy",
        "colab": {
          "base_uri": "https://localhost:8080/",
          "height": 221
        },
        "outputId": "03b4afa0-e4d7-4012-dcfe-bd667a73eb71"
      },
      "source": [
        "import pandas as pd\n",
        "import matplotlib.pyplot as plt\n",
        "import numpy as np\n",
        "\n",
        "df = pd.read_csv('Tumors.csv')\n",
        "df.head()"
      ],
      "execution_count": 1,
      "outputs": [
        {
          "output_type": "execute_result",
          "data": {
            "text/html": [
              "<div>\n",
              "<style scoped>\n",
              "    .dataframe tbody tr th:only-of-type {\n",
              "        vertical-align: middle;\n",
              "    }\n",
              "\n",
              "    .dataframe tbody tr th {\n",
              "        vertical-align: top;\n",
              "    }\n",
              "\n",
              "    .dataframe thead th {\n",
              "        text-align: right;\n",
              "    }\n",
              "</style>\n",
              "<table border=\"1\" class=\"dataframe\">\n",
              "  <thead>\n",
              "    <tr style=\"text-align: right;\">\n",
              "      <th></th>\n",
              "      <th>Sample code number</th>\n",
              "      <th>Clump Thickness</th>\n",
              "      <th>Uniformity of Cell Size</th>\n",
              "      <th>Uniformity of Cell Shape</th>\n",
              "      <th>Marginal Adhesion</th>\n",
              "      <th>Single Epithelial Cell Size</th>\n",
              "      <th>Bare Nuclei</th>\n",
              "      <th>Bland Chromatin</th>\n",
              "      <th>Normal Nucleoli</th>\n",
              "      <th>Mitoses</th>\n",
              "      <th>Class</th>\n",
              "    </tr>\n",
              "  </thead>\n",
              "  <tbody>\n",
              "    <tr>\n",
              "      <th>0</th>\n",
              "      <td>1000025</td>\n",
              "      <td>5</td>\n",
              "      <td>1</td>\n",
              "      <td>1</td>\n",
              "      <td>1</td>\n",
              "      <td>2</td>\n",
              "      <td>1</td>\n",
              "      <td>3</td>\n",
              "      <td>1</td>\n",
              "      <td>1</td>\n",
              "      <td>2</td>\n",
              "    </tr>\n",
              "    <tr>\n",
              "      <th>1</th>\n",
              "      <td>1002945</td>\n",
              "      <td>5</td>\n",
              "      <td>4</td>\n",
              "      <td>4</td>\n",
              "      <td>5</td>\n",
              "      <td>7</td>\n",
              "      <td>10</td>\n",
              "      <td>3</td>\n",
              "      <td>2</td>\n",
              "      <td>1</td>\n",
              "      <td>2</td>\n",
              "    </tr>\n",
              "    <tr>\n",
              "      <th>2</th>\n",
              "      <td>1015425</td>\n",
              "      <td>3</td>\n",
              "      <td>1</td>\n",
              "      <td>1</td>\n",
              "      <td>1</td>\n",
              "      <td>2</td>\n",
              "      <td>2</td>\n",
              "      <td>3</td>\n",
              "      <td>1</td>\n",
              "      <td>1</td>\n",
              "      <td>2</td>\n",
              "    </tr>\n",
              "    <tr>\n",
              "      <th>3</th>\n",
              "      <td>1016277</td>\n",
              "      <td>6</td>\n",
              "      <td>8</td>\n",
              "      <td>8</td>\n",
              "      <td>1</td>\n",
              "      <td>3</td>\n",
              "      <td>4</td>\n",
              "      <td>3</td>\n",
              "      <td>7</td>\n",
              "      <td>1</td>\n",
              "      <td>2</td>\n",
              "    </tr>\n",
              "    <tr>\n",
              "      <th>4</th>\n",
              "      <td>1017023</td>\n",
              "      <td>4</td>\n",
              "      <td>1</td>\n",
              "      <td>1</td>\n",
              "      <td>3</td>\n",
              "      <td>2</td>\n",
              "      <td>1</td>\n",
              "      <td>3</td>\n",
              "      <td>1</td>\n",
              "      <td>1</td>\n",
              "      <td>2</td>\n",
              "    </tr>\n",
              "  </tbody>\n",
              "</table>\n",
              "</div>"
            ],
            "text/plain": [
              "   Sample code number  Clump Thickness  ...  Mitoses  Class\n",
              "0             1000025                5  ...        1      2\n",
              "1             1002945                5  ...        1      2\n",
              "2             1015425                3  ...        1      2\n",
              "3             1016277                6  ...        1      2\n",
              "4             1017023                4  ...        1      2\n",
              "\n",
              "[5 rows x 11 columns]"
            ]
          },
          "metadata": {
            "tags": []
          },
          "execution_count": 1
        }
      ]
    },
    {
      "cell_type": "code",
      "metadata": {
        "colab": {
          "base_uri": "https://localhost:8080/"
        },
        "id": "JLBYhBBFrhJa",
        "outputId": "2b8d00da-5b2b-4114-90e6-d6398aa9ca4b"
      },
      "source": [
        "len(df)"
      ],
      "execution_count": 2,
      "outputs": [
        {
          "output_type": "execute_result",
          "data": {
            "text/plain": [
              "683"
            ]
          },
          "metadata": {
            "tags": []
          },
          "execution_count": 2
        }
      ]
    },
    {
      "cell_type": "markdown",
      "metadata": {
        "id": "K3MX_GWpridH"
      },
      "source": [
        "There are 683 samples of data"
      ]
    },
    {
      "cell_type": "markdown",
      "metadata": {
        "id": "KEsONkMY-385"
      },
      "source": [
        "### Data preprocessing"
      ]
    },
    {
      "cell_type": "code",
      "metadata": {
        "id": "pJKdmqcM_UeZ"
      },
      "source": [
        "X = df.iloc[:, 1:-1].values\n",
        "y = df.iloc[:, -1].values"
      ],
      "execution_count": 3,
      "outputs": []
    },
    {
      "cell_type": "markdown",
      "metadata": {
        "id": "TEIDawlMHZZs"
      },
      "source": [
        "#### Splitting the dataset into the Training set and the Test set"
      ]
    },
    {
      "cell_type": "code",
      "metadata": {
        "id": "8ncBl4OaHdeC"
      },
      "source": [
        "from sklearn.model_selection import train_test_split\n",
        "\n",
        "X_train, X_test, y_train, y_test = train_test_split(X, y, test_size=0.2, random_state=0)"
      ],
      "execution_count": 5,
      "outputs": []
    },
    {
      "cell_type": "markdown",
      "metadata": {
        "id": "nte734YtIeuu"
      },
      "source": [
        "#### Feature scaling"
      ]
    },
    {
      "cell_type": "code",
      "metadata": {
        "id": "FOdFi96sIgPn"
      },
      "source": [
        "from sklearn.preprocessing import StandardScaler\n",
        "\n",
        "sc = StandardScaler()\n",
        "\n",
        "X_train = sc.fit_transform(X_train)\n",
        "X_test = sc.transform(X_test)"
      ],
      "execution_count": 6,
      "outputs": []
    },
    {
      "cell_type": "markdown",
      "metadata": {
        "id": "oPrOtD_QMBwU"
      },
      "source": [
        "## Model training and predictions"
      ]
    },
    {
      "cell_type": "markdown",
      "metadata": {
        "id": "L1a7wujTJ-Vb"
      },
      "source": [
        "### Performing Grid Search to find the best hyper parameters for each kernel"
      ]
    },
    {
      "cell_type": "markdown",
      "metadata": {
        "id": "pSeA858IKGkA"
      },
      "source": [
        "#### Linear"
      ]
    },
    {
      "cell_type": "code",
      "metadata": {
        "colab": {
          "base_uri": "https://localhost:8080/"
        },
        "id": "y3foGlyLKMWt",
        "outputId": "77d3c4b7-201f-4ad2-f8bd-001a9f423da4"
      },
      "source": [
        "from sklearn.model_selection import GridSearchCV\n",
        "from sklearn.svm import SVC\n",
        "\n",
        "parameters = [{'C': [0, 0.1, 0.25, 0.5, 0.75, 1], 'kernel': ['linear']}]\n",
        "grid_search = GridSearchCV(estimator=SVC(), param_grid=parameters, scoring='accuracy', n_jobs=-1, cv=10)\n",
        "grid_search.fit(X_train, y_train)\n",
        "print('----- Linear SVM model -----')\n",
        "print('Best mean accuracy: {:.2f}%'.format(grid_search.best_score_ * 100))\n",
        "print('Best Standard deviation: {:.2f}%'.format(grid_search.cv_results_['std_test_score'][grid_search.best_index_] * 100))\n",
        "print(f\"Best parameters: {grid_search.best_params_}\")"
      ],
      "execution_count": 7,
      "outputs": [
        {
          "output_type": "stream",
          "text": [
            "----- Linear SVM model -----\n",
            "Best mean accuracy: 97.07%\n",
            "Best Standard deviation: 2.19%\n",
            "Best parameters: {'C': 0.1, 'kernel': 'linear'}\n"
          ],
          "name": "stdout"
        }
      ]
    },
    {
      "cell_type": "markdown",
      "metadata": {
        "id": "czBm4sVVKIb6"
      },
      "source": [
        "#### Rbf"
      ]
    },
    {
      "cell_type": "code",
      "metadata": {
        "colab": {
          "base_uri": "https://localhost:8080/"
        },
        "id": "Vfau8RkiKcUH",
        "outputId": "3382db96-29db-4c79-b834-07175581c9ef"
      },
      "source": [
        "parameters = [{'C': [0, 0.1, 0.25, 0.5, 0.75, 1], 'kernel': ['rbf'], 'gamma': [0.1, 0.2, 0.3, 0.4, 0.5, 0.6, 0.7, 0.8, 0.9]}]\n",
        "grid_search = GridSearchCV(estimator=SVC(), param_grid=parameters, scoring='accuracy', n_jobs=-1, cv=10)\n",
        "grid_search.fit(X_train, y_train)\n",
        "print('----- Kernel SVM model -----')\n",
        "print('Best mean accuracy: {:.2f}%'.format(grid_search.best_score_ * 100))\n",
        "print('Best Standard deviation: {:.2f}%'.format(grid_search.cv_results_['std_test_score'][grid_search.best_index_] * 100))\n",
        "print(f\"Best parameters: {grid_search.best_params_}\")"
      ],
      "execution_count": 8,
      "outputs": [
        {
          "output_type": "stream",
          "text": [
            "----- Kernel SVM model -----\n",
            "Best mean accuracy: 97.07%\n",
            "Best Standard deviation: 2.34%\n",
            "Best parameters: {'C': 0.75, 'gamma': 0.1, 'kernel': 'rbf'}\n"
          ],
          "name": "stdout"
        }
      ]
    },
    {
      "cell_type": "markdown",
      "metadata": {
        "id": "ETbPPrPGKJls"
      },
      "source": [
        "#### Sigmoid"
      ]
    },
    {
      "cell_type": "code",
      "metadata": {
        "colab": {
          "base_uri": "https://localhost:8080/"
        },
        "id": "2QoWP4cJKjLN",
        "outputId": "9c0e13ad-5af9-4931-deb4-a4f2f305fb1d"
      },
      "source": [
        "parameters = [{'C': [0, 0.1, 0.25, 0.5, 0.75, 1], 'kernel': ['sigmoid'], 'gamma': [0.1, 0.2, 0.3, 0.4, 0.5, 0.6, 0.7, 0.8, 0.9]}]\n",
        "grid_search = GridSearchCV(estimator=SVC(), param_grid=parameters, scoring='accuracy', n_jobs=-1, cv=10)\n",
        "grid_search.fit(X_train, y_train)\n",
        "print('----- Sigmoid SVM model -----')\n",
        "print('Best mean accuracy: {:.2f}%'.format(grid_search.best_score_ * 100))\n",
        "print('Best Standard deviation: {:.2f}%'.format(grid_search.cv_results_['std_test_score'][grid_search.best_index_] * 100))\n",
        "print(f\"Best parameters: {grid_search.best_params_}\")"
      ],
      "execution_count": 9,
      "outputs": [
        {
          "output_type": "stream",
          "text": [
            "----- Sigmoid SVM model -----\n",
            "Best mean accuracy: 97.43%\n",
            "Best Standard deviation: 2.04%\n",
            "Best parameters: {'C': 0.1, 'gamma': 0.1, 'kernel': 'sigmoid'}\n"
          ],
          "name": "stdout"
        }
      ]
    },
    {
      "cell_type": "markdown",
      "metadata": {
        "id": "cnWLxsMNKK4p"
      },
      "source": [
        "#### Poly"
      ]
    },
    {
      "cell_type": "code",
      "metadata": {
        "colab": {
          "base_uri": "https://localhost:8080/"
        },
        "id": "SeAWnftRKkrC",
        "outputId": "45ce6265-fc3d-4986-e309-ad57c63daddb"
      },
      "source": [
        "parameters = [{'C': [0, 0.1, 0.25, 0.5, 0.75, 1], 'kernel': ['poly'], 'gamma': [0.1, 0.2, 0.3, 0.4, 0.5, 0.6, 0.7, 0.8, 0.9], 'degree': [2,3,4,5,6,7]}]\n",
        "grid_search = GridSearchCV(estimator=SVC(), param_grid=parameters, scoring='accuracy', n_jobs=-1, cv=10)\n",
        "grid_search.fit(X_train, y_train)\n",
        "print('----- Poly SVM model -----')\n",
        "print('Best mean accuracy: {:.2f}%'.format(grid_search.best_score_ * 100))\n",
        "print('Best Standard deviation: {:.2f}%'.format(grid_search.cv_results_['std_test_score'][grid_search.best_index_] * 100))\n",
        "print(f\"Best parameters: {grid_search.best_params_}\")"
      ],
      "execution_count": 10,
      "outputs": [
        {
          "output_type": "stream",
          "text": [
            "----- Poly SVM model -----\n",
            "Best mean accuracy: 96.33%\n",
            "Best Standard deviation: 2.45%\n",
            "Best parameters: {'C': 1, 'degree': 3, 'gamma': 0.2, 'kernel': 'poly'}\n"
          ],
          "name": "stdout"
        }
      ]
    },
    {
      "cell_type": "markdown",
      "metadata": {
        "id": "xx5A2gilKKYX"
      },
      "source": [
        "### Training the models on the Training set"
      ]
    },
    {
      "cell_type": "code",
      "metadata": {
        "id": "NixxYPPSKMKa"
      },
      "source": [
        "from sklearn.svm import SVC\n",
        "\n",
        "linear_classifier = SVC(C=0.1, kernel='linear')\n",
        "linear_classifier.fit(X_train, y_train)\n",
        "\n",
        "kernel_classifier = SVC(C=0.75, kernel='rbf', gamma=0.1)\n",
        "kernel_classifier.fit(X_train, y_train)\n",
        "\n",
        "sigmoid_classifier = SVC(C=0.1, kernel='sigmoid', gamma=0.1)\n",
        "sigmoid_classifier.fit(X_train, y_train)\n",
        "\n",
        "poly_classifier = SVC(C=1, kernel='poly', gamma=0.2, degree=3)\n",
        "poly_classifier.fit(X_train, y_train)"
      ],
      "execution_count": null,
      "outputs": []
    },
    {
      "cell_type": "markdown",
      "metadata": {
        "id": "CmYboDbfGOcV"
      },
      "source": [
        "#### Predicting the Test set results"
      ]
    },
    {
      "cell_type": "code",
      "metadata": {
        "id": "7dP61nMtKcTz"
      },
      "source": [
        "linear_y_pred = linear_classifier.predict(X_test)\n",
        "kernel_y_pred = kernel_classifier.predict(X_test)\n",
        "sigmoid_y_pred = sigmoid_classifier.predict(X_test)\n",
        "poly_y_pred = poly_classifier.predict(X_test)"
      ],
      "execution_count": 12,
      "outputs": []
    },
    {
      "cell_type": "markdown",
      "metadata": {
        "id": "gsjYm7t0I0Nl"
      },
      "source": [
        "#### Creating Confusion Matrix"
      ]
    },
    {
      "cell_type": "code",
      "metadata": {
        "id": "nXAK-hlaI2DF",
        "colab": {
          "base_uri": "https://localhost:8080/"
        },
        "outputId": "75c02cb3-6a97-4329-c1df-f967fe0f918b"
      },
      "source": [
        "from sklearn.metrics import confusion_matrix, accuracy_score, recall_score\n",
        "\n",
        "cm = confusion_matrix(y_test, linear_y_pred)\n",
        "print(f'Confusion Matrix for linear model: \\n{cm}')\n",
        "print('Accuracy: {:.2f}%'.format(accuracy_score(y_test, linear_y_pred) * 100))\n",
        "print('Recall: {:.2f}%\\n'.format(recall_score(y_test, linear_y_pred, pos_label=4) * 100))\n",
        "\n",
        "cm = confusion_matrix(y_test, kernel_y_pred)\n",
        "print(f'Confusion Matrix for rbf kernel model: \\n{cm}')\n",
        "print('Accuracy: {:.2f}%'.format(accuracy_score(y_test, kernel_y_pred) * 100))\n",
        "print('Recall: {:.2f}%\\n'.format(recall_score(y_test, kernel_y_pred, pos_label=4) * 100))\n",
        "\n",
        "cm = confusion_matrix(y_test, sigmoid_y_pred)\n",
        "print(f'Confusion Matrix for sigmoid model: \\n{cm}')\n",
        "print('Accuracy: {:.2f}%'.format(accuracy_score(y_test, sigmoid_y_pred) * 100))\n",
        "print('Recall: {:.2f}%\\n'.format(recall_score(y_test, sigmoid_y_pred, pos_label=4) * 100))\n",
        "\n",
        "cm = confusion_matrix(y_test, poly_y_pred)\n",
        "print(f'Confusion Matrix for poly model: \\n{cm}')\n",
        "print('Accuracy: {:.2f}%'.format(accuracy_score(y_test, poly_y_pred) * 100))\n",
        "print('Recall: {:.2f}%\\n'.format(recall_score(y_test, poly_y_pred, pos_label=4) * 100))"
      ],
      "execution_count": 15,
      "outputs": [
        {
          "output_type": "stream",
          "text": [
            "Confusion Matrix for linear model: \n",
            "[[83  4]\n",
            " [ 3 47]]\n",
            "Accuracy: 94.89%\n",
            "Recall: 94.00%\n",
            "\n",
            "Confusion Matrix for rbf kernel model: \n",
            "[[82  5]\n",
            " [ 1 49]]\n",
            "Accuracy: 95.62%\n",
            "Recall: 98.00%\n",
            "\n",
            "Confusion Matrix for sigmoid model: \n",
            "[[84  3]\n",
            " [ 3 47]]\n",
            "Accuracy: 95.62%\n",
            "Recall: 94.00%\n",
            "\n",
            "Confusion Matrix for poly model: \n",
            "[[86  1]\n",
            " [ 4 46]]\n",
            "Accuracy: 96.35%\n",
            "Recall: 92.00%\n",
            "\n"
          ],
          "name": "stdout"
        }
      ]
    },
    {
      "cell_type": "markdown",
      "metadata": {
        "id": "8uSymtpWuKlQ"
      },
      "source": [
        "I would say the best model is rbf kernel SVM, even though it has 6 incorrect predictions, while Poly SVM has 1 less, because we want to maximize the recall score."
      ]
    }
  ]
}