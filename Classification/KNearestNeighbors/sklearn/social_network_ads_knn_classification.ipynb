{
  "nbformat": 4,
  "nbformat_minor": 0,
  "metadata": {
    "colab": {
      "name": "k_nearest_neighbors.ipynb",
      "provenance": [],
      "collapsed_sections": [],
      "toc_visible": true,
      "authorship_tag": "ABX9TyNbncKpTvzNjuivY6P/Jo5E",
      "include_colab_link": true
    },
    "kernelspec": {
      "name": "python3",
      "display_name": "Python 3"
    },
    "accelerator": "GPU"
  },
  "cells": [
    {
      "cell_type": "markdown",
      "metadata": {
        "id": "view-in-github",
        "colab_type": "text"
      },
      "source": [
        "<a href=\"https://colab.research.google.com/github/aleksanderprofic/Machine-Learning/blob/master/Classification/k_nearest_neighbors/sklearn/social_network_ads_knn_classification.ipynb\" target=\"_parent\"><img src=\"https://colab.research.google.com/assets/colab-badge.svg\" alt=\"Open In Colab\"/></a>"
      ]
    },
    {
      "cell_type": "markdown",
      "metadata": {
        "id": "XnAzBM4YwmZT"
      },
      "source": [
        "# K-NN"
      ]
    },
    {
      "cell_type": "markdown",
      "metadata": {
        "id": "5C0HwYA9xLID"
      },
      "source": [
        "## Data preprocessing"
      ]
    },
    {
      "cell_type": "markdown",
      "metadata": {
        "id": "M9wSZNs9w9f0"
      },
      "source": [
        "### Data loading"
      ]
    },
    {
      "cell_type": "code",
      "metadata": {
        "id": "fvdzq4WUv5Vy",
        "colab": {
          "base_uri": "https://localhost:8080/",
          "height": 204
        },
        "outputId": "d8b0e192-13c0-4e62-9c82-4750c60db2e1"
      },
      "source": [
        "import pandas as pd\n",
        "import matplotlib.pyplot as plt\n",
        "import numpy as np\n",
        "\n",
        "df = pd.read_csv('Social_Network_Ads.csv')\n",
        "df.head()"
      ],
      "execution_count": null,
      "outputs": [
        {
          "output_type": "execute_result",
          "data": {
            "text/html": [
              "<div>\n",
              "<style scoped>\n",
              "    .dataframe tbody tr th:only-of-type {\n",
              "        vertical-align: middle;\n",
              "    }\n",
              "\n",
              "    .dataframe tbody tr th {\n",
              "        vertical-align: top;\n",
              "    }\n",
              "\n",
              "    .dataframe thead th {\n",
              "        text-align: right;\n",
              "    }\n",
              "</style>\n",
              "<table border=\"1\" class=\"dataframe\">\n",
              "  <thead>\n",
              "    <tr style=\"text-align: right;\">\n",
              "      <th></th>\n",
              "      <th>Age</th>\n",
              "      <th>EstimatedSalary</th>\n",
              "      <th>Purchased</th>\n",
              "    </tr>\n",
              "  </thead>\n",
              "  <tbody>\n",
              "    <tr>\n",
              "      <th>0</th>\n",
              "      <td>19</td>\n",
              "      <td>19000</td>\n",
              "      <td>0</td>\n",
              "    </tr>\n",
              "    <tr>\n",
              "      <th>1</th>\n",
              "      <td>35</td>\n",
              "      <td>20000</td>\n",
              "      <td>0</td>\n",
              "    </tr>\n",
              "    <tr>\n",
              "      <th>2</th>\n",
              "      <td>26</td>\n",
              "      <td>43000</td>\n",
              "      <td>0</td>\n",
              "    </tr>\n",
              "    <tr>\n",
              "      <th>3</th>\n",
              "      <td>27</td>\n",
              "      <td>57000</td>\n",
              "      <td>0</td>\n",
              "    </tr>\n",
              "    <tr>\n",
              "      <th>4</th>\n",
              "      <td>19</td>\n",
              "      <td>76000</td>\n",
              "      <td>0</td>\n",
              "    </tr>\n",
              "  </tbody>\n",
              "</table>\n",
              "</div>"
            ],
            "text/plain": [
              "   Age  EstimatedSalary  Purchased\n",
              "0   19            19000          0\n",
              "1   35            20000          0\n",
              "2   26            43000          0\n",
              "3   27            57000          0\n",
              "4   19            76000          0"
            ]
          },
          "metadata": {
            "tags": []
          },
          "execution_count": 1
        }
      ]
    },
    {
      "cell_type": "markdown",
      "metadata": {
        "id": "KEsONkMY-385"
      },
      "source": [
        "### Data preprocessing"
      ]
    },
    {
      "cell_type": "code",
      "metadata": {
        "id": "pJKdmqcM_UeZ",
        "colab": {
          "base_uri": "https://localhost:8080/"
        },
        "outputId": "f6cc0226-fc41-4cf2-87dc-0315a714b8bf"
      },
      "source": [
        "X = df.iloc[:, :-1].values\n",
        "y = df.iloc[:, -1].values\n",
        "\n",
        "X.shape"
      ],
      "execution_count": null,
      "outputs": [
        {
          "output_type": "execute_result",
          "data": {
            "text/plain": [
              "(400, 2)"
            ]
          },
          "metadata": {
            "tags": []
          },
          "execution_count": 6
        }
      ]
    },
    {
      "cell_type": "code",
      "metadata": {
        "id": "aAkHC5LyHRA_",
        "colab": {
          "base_uri": "https://localhost:8080/"
        },
        "outputId": "43b7a152-78d9-40e0-8fad-db1fc5474cbf"
      },
      "source": [
        "y.shape"
      ],
      "execution_count": null,
      "outputs": [
        {
          "output_type": "execute_result",
          "data": {
            "text/plain": [
              "(400,)"
            ]
          },
          "metadata": {
            "tags": []
          },
          "execution_count": 7
        }
      ]
    },
    {
      "cell_type": "markdown",
      "metadata": {
        "id": "TEIDawlMHZZs"
      },
      "source": [
        "#### Splitting the dataset into the Training set and the Test set"
      ]
    },
    {
      "cell_type": "code",
      "metadata": {
        "id": "8ncBl4OaHdeC",
        "colab": {
          "base_uri": "https://localhost:8080/"
        },
        "outputId": "19143ea9-6b57-46bf-87fd-135f3b779efc"
      },
      "source": [
        "from sklearn.model_selection import train_test_split\n",
        "\n",
        "X_train, X_test, y_train, y_test = train_test_split(X, y, test_size=0.25, random_state=0)\n",
        "\n",
        "print(X_train.shape, X_test.shape, y_train.shape, y_test.shape)"
      ],
      "execution_count": null,
      "outputs": [
        {
          "output_type": "stream",
          "text": [
            "(300, 2) (100, 2) (300,) (100,)\n"
          ],
          "name": "stdout"
        }
      ]
    },
    {
      "cell_type": "code",
      "metadata": {
        "id": "CylgeguvJS9_",
        "colab": {
          "base_uri": "https://localhost:8080/"
        },
        "outputId": "3345d340-2a27-4753-e5d5-8fc15ac63ded"
      },
      "source": [
        "X_train[:10]"
      ],
      "execution_count": null,
      "outputs": [
        {
          "output_type": "execute_result",
          "data": {
            "text/plain": [
              "array([[    44,  39000],\n",
              "       [    32, 120000],\n",
              "       [    38,  50000],\n",
              "       [    32, 135000],\n",
              "       [    52,  21000],\n",
              "       [    53, 104000],\n",
              "       [    39,  42000],\n",
              "       [    38,  61000],\n",
              "       [    36,  50000],\n",
              "       [    36,  63000]])"
            ]
          },
          "metadata": {
            "tags": []
          },
          "execution_count": 9
        }
      ]
    },
    {
      "cell_type": "code",
      "metadata": {
        "id": "05kpcgwfJXX4",
        "colab": {
          "base_uri": "https://localhost:8080/"
        },
        "outputId": "c42c9fc7-1179-4895-d0c1-f45f0d751470"
      },
      "source": [
        "y_train[:10]"
      ],
      "execution_count": null,
      "outputs": [
        {
          "output_type": "execute_result",
          "data": {
            "text/plain": [
              "array([0, 1, 0, 1, 1, 1, 0, 0, 0, 0])"
            ]
          },
          "metadata": {
            "tags": []
          },
          "execution_count": 10
        }
      ]
    },
    {
      "cell_type": "code",
      "metadata": {
        "id": "Jtk7MZiQJZTU",
        "colab": {
          "base_uri": "https://localhost:8080/"
        },
        "outputId": "11e006b9-9284-4cf8-91e4-3cbc43bc51a5"
      },
      "source": [
        "X_test[:10]"
      ],
      "execution_count": null,
      "outputs": [
        {
          "output_type": "execute_result",
          "data": {
            "text/plain": [
              "array([[    30,  87000],\n",
              "       [    38,  50000],\n",
              "       [    35,  75000],\n",
              "       [    30,  79000],\n",
              "       [    35,  50000],\n",
              "       [    27,  20000],\n",
              "       [    31,  15000],\n",
              "       [    36, 144000],\n",
              "       [    18,  68000],\n",
              "       [    47,  43000]])"
            ]
          },
          "metadata": {
            "tags": []
          },
          "execution_count": 11
        }
      ]
    },
    {
      "cell_type": "code",
      "metadata": {
        "id": "H1xGKeWeJbB0",
        "colab": {
          "base_uri": "https://localhost:8080/"
        },
        "outputId": "af4b1436-8181-4a2c-be5c-91906b27fdf4"
      },
      "source": [
        "y_test[:10]"
      ],
      "execution_count": null,
      "outputs": [
        {
          "output_type": "execute_result",
          "data": {
            "text/plain": [
              "array([0, 0, 0, 0, 0, 0, 0, 1, 0, 0])"
            ]
          },
          "metadata": {
            "tags": []
          },
          "execution_count": 12
        }
      ]
    },
    {
      "cell_type": "markdown",
      "metadata": {
        "id": "nte734YtIeuu"
      },
      "source": [
        "#### Feature scaling"
      ]
    },
    {
      "cell_type": "code",
      "metadata": {
        "id": "FOdFi96sIgPn"
      },
      "source": [
        "from sklearn.preprocessing import StandardScaler\n",
        "\n",
        "sc = StandardScaler()\n",
        "\n",
        "X_train = sc.fit_transform(X_train)\n",
        "X_test = sc.transform(X_test)"
      ],
      "execution_count": null,
      "outputs": []
    },
    {
      "cell_type": "code",
      "metadata": {
        "id": "EW11qeTbJg12",
        "colab": {
          "base_uri": "https://localhost:8080/"
        },
        "outputId": "8cf4f4cd-0b6f-417d-8914-aada2f272e7d"
      },
      "source": [
        "X_train[:10]"
      ],
      "execution_count": null,
      "outputs": [
        {
          "output_type": "execute_result",
          "data": {
            "text/plain": [
              "array([[ 0.58164944, -0.88670699],\n",
              "       [-0.60673761,  1.46173768],\n",
              "       [-0.01254409, -0.5677824 ],\n",
              "       [-0.60673761,  1.89663484],\n",
              "       [ 1.37390747, -1.40858358],\n",
              "       [ 1.47293972,  0.99784738],\n",
              "       [ 0.08648817, -0.79972756],\n",
              "       [-0.01254409, -0.24885782],\n",
              "       [-0.21060859, -0.5677824 ],\n",
              "       [-0.21060859, -0.19087153]])"
            ]
          },
          "metadata": {
            "tags": []
          },
          "execution_count": 14
        }
      ]
    },
    {
      "cell_type": "code",
      "metadata": {
        "id": "Iv5OVKIsJjbR",
        "colab": {
          "base_uri": "https://localhost:8080/"
        },
        "outputId": "98603e9d-2bee-4fa4-b7d8-dc845f485494"
      },
      "source": [
        "X_test[:10]"
      ],
      "execution_count": null,
      "outputs": [
        {
          "output_type": "execute_result",
          "data": {
            "text/plain": [
              "array([[-0.80480212,  0.50496393],\n",
              "       [-0.01254409, -0.5677824 ],\n",
              "       [-0.30964085,  0.1570462 ],\n",
              "       [-0.80480212,  0.27301877],\n",
              "       [-0.30964085, -0.5677824 ],\n",
              "       [-1.10189888, -1.43757673],\n",
              "       [-0.70576986, -1.58254245],\n",
              "       [-0.21060859,  2.15757314],\n",
              "       [-1.99318916, -0.04590581],\n",
              "       [ 0.8787462 , -0.77073441]])"
            ]
          },
          "metadata": {
            "tags": []
          },
          "execution_count": 15
        }
      ]
    },
    {
      "cell_type": "markdown",
      "metadata": {
        "id": "oPrOtD_QMBwU"
      },
      "source": [
        "## Model training and predictions"
      ]
    },
    {
      "cell_type": "markdown",
      "metadata": {
        "id": "xx5A2gilKKYX"
      },
      "source": [
        "### Training the K-NN model on the Training set"
      ]
    },
    {
      "cell_type": "code",
      "metadata": {
        "id": "NixxYPPSKMKa",
        "colab": {
          "base_uri": "https://localhost:8080/"
        },
        "outputId": "6d2d9490-4b58-43ae-cad5-e73153dfd0c2"
      },
      "source": [
        "from sklearn.neighbors import KNeighborsClassifier\n",
        "\n",
        "classifier = KNeighborsClassifier(n_neighbors=5)\n",
        "classifier.fit(X_train, y_train)"
      ],
      "execution_count": null,
      "outputs": [
        {
          "output_type": "execute_result",
          "data": {
            "text/plain": [
              "KNeighborsClassifier(algorithm='auto', leaf_size=30, metric='minkowski',\n",
              "                     metric_params=None, n_jobs=None, n_neighbors=5, p=2,\n",
              "                     weights='uniform')"
            ]
          },
          "metadata": {
            "tags": []
          },
          "execution_count": 16
        }
      ]
    },
    {
      "cell_type": "markdown",
      "metadata": {
        "id": "CmYboDbfGOcV"
      },
      "source": [
        "#### Predicting the Test set results"
      ]
    },
    {
      "cell_type": "code",
      "metadata": {
        "id": "7dP61nMtKcTz",
        "colab": {
          "base_uri": "https://localhost:8080/"
        },
        "outputId": "9568ccd8-78a0-451f-d373-b4578f814f75"
      },
      "source": [
        "y_pred = classifier.predict(X_test)\n",
        "\n",
        "print(f'Predictions|True values:\\n{np.concatenate((y_pred.reshape(-1, 1), y_test.reshape(-1, 1)), axis=1)}')"
      ],
      "execution_count": null,
      "outputs": [
        {
          "output_type": "stream",
          "text": [
            "Predictions|True values:\n",
            "[[0 0]\n",
            " [0 0]\n",
            " [0 0]\n",
            " [0 0]\n",
            " [0 0]\n",
            " [0 0]\n",
            " [0 0]\n",
            " [1 1]\n",
            " [0 0]\n",
            " [1 0]\n",
            " [0 0]\n",
            " [0 0]\n",
            " [0 0]\n",
            " [0 0]\n",
            " [0 0]\n",
            " [1 0]\n",
            " [0 0]\n",
            " [0 0]\n",
            " [1 1]\n",
            " [0 0]\n",
            " [0 0]\n",
            " [1 1]\n",
            " [0 0]\n",
            " [1 1]\n",
            " [0 0]\n",
            " [1 1]\n",
            " [0 0]\n",
            " [0 0]\n",
            " [0 0]\n",
            " [0 0]\n",
            " [0 0]\n",
            " [0 1]\n",
            " [1 1]\n",
            " [0 0]\n",
            " [0 0]\n",
            " [0 0]\n",
            " [0 0]\n",
            " [0 0]\n",
            " [0 0]\n",
            " [1 1]\n",
            " [0 0]\n",
            " [0 0]\n",
            " [0 0]\n",
            " [0 0]\n",
            " [1 1]\n",
            " [0 0]\n",
            " [0 0]\n",
            " [1 1]\n",
            " [0 0]\n",
            " [1 1]\n",
            " [1 1]\n",
            " [0 0]\n",
            " [0 0]\n",
            " [1 0]\n",
            " [1 1]\n",
            " [1 1]\n",
            " [0 0]\n",
            " [0 0]\n",
            " [1 1]\n",
            " [0 0]\n",
            " [0 0]\n",
            " [1 1]\n",
            " [0 0]\n",
            " [1 1]\n",
            " [0 0]\n",
            " [1 1]\n",
            " [0 0]\n",
            " [0 0]\n",
            " [0 0]\n",
            " [0 0]\n",
            " [1 1]\n",
            " [0 0]\n",
            " [0 0]\n",
            " [1 1]\n",
            " [0 0]\n",
            " [0 0]\n",
            " [0 0]\n",
            " [0 0]\n",
            " [1 1]\n",
            " [1 1]\n",
            " [1 1]\n",
            " [1 0]\n",
            " [0 0]\n",
            " [0 0]\n",
            " [1 1]\n",
            " [0 1]\n",
            " [0 0]\n",
            " [1 1]\n",
            " [1 1]\n",
            " [0 0]\n",
            " [0 0]\n",
            " [1 1]\n",
            " [0 0]\n",
            " [0 0]\n",
            " [0 0]\n",
            " [0 1]\n",
            " [0 0]\n",
            " [1 1]\n",
            " [1 1]\n",
            " [1 1]]\n"
          ],
          "name": "stdout"
        }
      ]
    },
    {
      "cell_type": "markdown",
      "metadata": {
        "id": "gsjYm7t0I0Nl"
      },
      "source": [
        "#### Creating Confusion Matrix"
      ]
    },
    {
      "cell_type": "code",
      "metadata": {
        "id": "nXAK-hlaI2DF",
        "colab": {
          "base_uri": "https://localhost:8080/"
        },
        "outputId": "cba2a446-c3c4-4ea8-dbdc-ac9431238a3d"
      },
      "source": [
        "from sklearn.metrics import confusion_matrix, accuracy_score\n",
        "\n",
        "cm = confusion_matrix(y_test, y_pred)\n",
        "print(f'Confusion Matrix: \\n{cm}\\n')\n",
        "print(f'Accuracy: {accuracy_score(y_test, y_pred)}')"
      ],
      "execution_count": null,
      "outputs": [
        {
          "output_type": "stream",
          "text": [
            "Confusion Matrix: \n",
            "[[64  4]\n",
            " [ 3 29]]\n",
            "\n",
            "Accuracy: 0.93\n"
          ],
          "name": "stdout"
        }
      ]
    }
  ]
}
