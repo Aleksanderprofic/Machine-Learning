{
  "nbformat": 4,
  "nbformat_minor": 0,
  "metadata": {
    "colab": {
      "name": "k_nearest_neighbors.ipynb",
      "provenance": [],
      "collapsed_sections": [],
      "toc_visible": true,
      "include_colab_link": true
    },
    "kernelspec": {
      "name": "python3",
      "display_name": "Python 3"
    },
    "accelerator": "GPU"
  },
  "cells": [
    {
      "cell_type": "markdown",
      "metadata": {
        "id": "view-in-github",
        "colab_type": "text"
      },
      "source": [
        "<a href=\"https://colab.research.google.com/github/aleksanderprofic/Machine-Learning/blob/master/Classification/KNearestNeighbors/sklearn/social_network_ads_knn_classification.ipynb\" target=\"_parent\"><img src=\"https://colab.research.google.com/assets/colab-badge.svg\" alt=\"Open In Colab\"/></a>"
      ]
    },
    {
      "cell_type": "markdown",
      "metadata": {
        "id": "XnAzBM4YwmZT"
      },
      "source": [
        "# K-NN"
      ]
    },
    {
      "cell_type": "markdown",
      "metadata": {
        "id": "5C0HwYA9xLID"
      },
      "source": [
        "## Data preprocessing"
      ]
    },
    {
      "cell_type": "markdown",
      "metadata": {
        "id": "M9wSZNs9w9f0"
      },
      "source": [
        "### Data loading"
      ]
    },
    {
      "cell_type": "code",
      "metadata": {
        "id": "fvdzq4WUv5Vy",
        "colab": {
          "base_uri": "https://localhost:8080/",
          "height": 204
        },
        "outputId": "118e968a-ba35-4fbd-e71d-e3f1955e445d"
      },
      "source": [
        "import pandas as pd\n",
        "import matplotlib.pyplot as plt\n",
        "import numpy as np\n",
        "\n",
        "df = pd.read_csv('Social_Network_Ads.csv')\n",
        "df.head()"
      ],
      "execution_count": 1,
      "outputs": [
        {
          "output_type": "execute_result",
          "data": {
            "text/html": [
              "<div>\n",
              "<style scoped>\n",
              "    .dataframe tbody tr th:only-of-type {\n",
              "        vertical-align: middle;\n",
              "    }\n",
              "\n",
              "    .dataframe tbody tr th {\n",
              "        vertical-align: top;\n",
              "    }\n",
              "\n",
              "    .dataframe thead th {\n",
              "        text-align: right;\n",
              "    }\n",
              "</style>\n",
              "<table border=\"1\" class=\"dataframe\">\n",
              "  <thead>\n",
              "    <tr style=\"text-align: right;\">\n",
              "      <th></th>\n",
              "      <th>Age</th>\n",
              "      <th>EstimatedSalary</th>\n",
              "      <th>Purchased</th>\n",
              "    </tr>\n",
              "  </thead>\n",
              "  <tbody>\n",
              "    <tr>\n",
              "      <th>0</th>\n",
              "      <td>19</td>\n",
              "      <td>19000</td>\n",
              "      <td>0</td>\n",
              "    </tr>\n",
              "    <tr>\n",
              "      <th>1</th>\n",
              "      <td>35</td>\n",
              "      <td>20000</td>\n",
              "      <td>0</td>\n",
              "    </tr>\n",
              "    <tr>\n",
              "      <th>2</th>\n",
              "      <td>26</td>\n",
              "      <td>43000</td>\n",
              "      <td>0</td>\n",
              "    </tr>\n",
              "    <tr>\n",
              "      <th>3</th>\n",
              "      <td>27</td>\n",
              "      <td>57000</td>\n",
              "      <td>0</td>\n",
              "    </tr>\n",
              "    <tr>\n",
              "      <th>4</th>\n",
              "      <td>19</td>\n",
              "      <td>76000</td>\n",
              "      <td>0</td>\n",
              "    </tr>\n",
              "  </tbody>\n",
              "</table>\n",
              "</div>"
            ],
            "text/plain": [
              "   Age  EstimatedSalary  Purchased\n",
              "0   19            19000          0\n",
              "1   35            20000          0\n",
              "2   26            43000          0\n",
              "3   27            57000          0\n",
              "4   19            76000          0"
            ]
          },
          "metadata": {
            "tags": []
          },
          "execution_count": 1
        }
      ]
    },
    {
      "cell_type": "markdown",
      "metadata": {
        "id": "KEsONkMY-385"
      },
      "source": [
        "### Data preprocessing"
      ]
    },
    {
      "cell_type": "code",
      "metadata": {
        "id": "pJKdmqcM_UeZ"
      },
      "source": [
        "X = df.iloc[:, :-1].values\n",
        "y = df.iloc[:, -1].values"
      ],
      "execution_count": 2,
      "outputs": []
    },
    {
      "cell_type": "markdown",
      "metadata": {
        "id": "TEIDawlMHZZs"
      },
      "source": [
        "#### Splitting the dataset into the Training set and the Test set"
      ]
    },
    {
      "cell_type": "code",
      "metadata": {
        "id": "8ncBl4OaHdeC"
      },
      "source": [
        "from sklearn.model_selection import train_test_split\n",
        "\n",
        "X_train, X_test, y_train, y_test = train_test_split(X, y, test_size=0.25, random_state=0)"
      ],
      "execution_count": 3,
      "outputs": []
    },
    {
      "cell_type": "markdown",
      "metadata": {
        "id": "nte734YtIeuu"
      },
      "source": [
        "#### Feature scaling"
      ]
    },
    {
      "cell_type": "code",
      "metadata": {
        "id": "FOdFi96sIgPn"
      },
      "source": [
        "from sklearn.preprocessing import StandardScaler\n",
        "\n",
        "sc = StandardScaler()\n",
        "\n",
        "X_train = sc.fit_transform(X_train)\n",
        "X_test = sc.transform(X_test)"
      ],
      "execution_count": 4,
      "outputs": []
    },
    {
      "cell_type": "markdown",
      "metadata": {
        "id": "oPrOtD_QMBwU"
      },
      "source": [
        "## Model training and predictions"
      ]
    },
    {
      "cell_type": "markdown",
      "metadata": {
        "id": "CeRseugJ36F7"
      },
      "source": [
        "### Training"
      ]
    },
    {
      "cell_type": "markdown",
      "metadata": {
        "id": "f0SnDFICh25X"
      },
      "source": [
        "#### Performing Grid Search to find the best hyper parameters"
      ]
    },
    {
      "cell_type": "code",
      "metadata": {
        "id": "cHt04MDRh15j",
        "colab": {
          "base_uri": "https://localhost:8080/"
        },
        "outputId": "952f4b37-a7e2-4884-b2f4-807140d88b15"
      },
      "source": [
        "from sklearn.model_selection import GridSearchCV\n",
        "from sklearn.neighbors import KNeighborsClassifier\n",
        "\n",
        "parameters = [{'n_neighbors': [3, 5, 7, 10, 15]}]\n",
        "grid_search = GridSearchCV(estimator=KNeighborsClassifier(), param_grid=parameters, scoring='accuracy', n_jobs=-1, cv=10)\n",
        "grid_search.fit(X_train, y_train)\n",
        "print(\"Best accuracy: {:.2f}%\".format(grid_search.best_score_ * 100))\n",
        "print(f\"Best parameters: {grid_search.best_params_}\")"
      ],
      "execution_count": 5,
      "outputs": [
        {
          "output_type": "stream",
          "text": [
            "Best accuracy: 90.67%\n",
            "Best parameters: {'n_neighbors': 7}\n"
          ],
          "name": "stdout"
        }
      ]
    },
    {
      "cell_type": "markdown",
      "metadata": {
        "id": "xx5A2gilKKYX"
      },
      "source": [
        "#### Training the K-NN model on the Training set using chosen hyper parameter"
      ]
    },
    {
      "cell_type": "code",
      "metadata": {
        "id": "NixxYPPSKMKa",
        "colab": {
          "base_uri": "https://localhost:8080/"
        },
        "outputId": "d59669fa-fd7e-4e12-9a5f-efdeac6be859"
      },
      "source": [
        "classifier = KNeighborsClassifier(n_neighbors=7)\n",
        "classifier.fit(X_train, y_train)"
      ],
      "execution_count": 6,
      "outputs": [
        {
          "output_type": "execute_result",
          "data": {
            "text/plain": [
              "KNeighborsClassifier(algorithm='auto', leaf_size=30, metric='minkowski',\n",
              "                     metric_params=None, n_jobs=None, n_neighbors=7, p=2,\n",
              "                     weights='uniform')"
            ]
          },
          "metadata": {
            "tags": []
          },
          "execution_count": 6
        }
      ]
    },
    {
      "cell_type": "markdown",
      "metadata": {
        "id": "mqhgwxluWYWy"
      },
      "source": [
        "#### Applying k-fold Cross Validation"
      ]
    },
    {
      "cell_type": "code",
      "metadata": {
        "colab": {
          "base_uri": "https://localhost:8080/"
        },
        "id": "X-HQhCOsWYnc",
        "outputId": "8846fd7e-c1f3-46d8-c4b8-e7d94645af62"
      },
      "source": [
        "from sklearn.model_selection import cross_val_score\n",
        "\n",
        "accuracies = cross_val_score(estimator=classifier, X=X_train, y=y_train, cv=10)\n",
        "print('Mean accuracy: {:.2f}%'.format(accuracies.mean() * 100))\n",
        "print('Standard deviation: {:.2f}%\\n'.format(accuracies.std() * 100))"
      ],
      "execution_count": 7,
      "outputs": [
        {
          "output_type": "stream",
          "text": [
            "Mean accuracy: 90.67%\n",
            "Standard deviation: 6.96%\n",
            "\n"
          ],
          "name": "stdout"
        }
      ]
    },
    {
      "cell_type": "markdown",
      "metadata": {
        "id": "CmYboDbfGOcV"
      },
      "source": [
        "### Predicting the Test set results"
      ]
    },
    {
      "cell_type": "code",
      "metadata": {
        "id": "7dP61nMtKcTz"
      },
      "source": [
        "y_pred = classifier.predict(X_test)"
      ],
      "execution_count": 8,
      "outputs": []
    },
    {
      "cell_type": "markdown",
      "metadata": {
        "id": "gsjYm7t0I0Nl"
      },
      "source": [
        "#### Creating Confusion Matrix"
      ]
    },
    {
      "cell_type": "code",
      "metadata": {
        "id": "nXAK-hlaI2DF",
        "colab": {
          "base_uri": "https://localhost:8080/"
        },
        "outputId": "8a4ec419-4df5-4dd7-d833-0c902c692b50"
      },
      "source": [
        "from sklearn.metrics import confusion_matrix, accuracy_score\n",
        "\n",
        "cm = confusion_matrix(y_test, y_pred)\n",
        "print(f'Confusion Matrix: \\n{cm}\\n')\n",
        "print('Accuracy: {:.2f}%'.format(accuracy_score(y_test, y_pred) * 100))"
      ],
      "execution_count": 9,
      "outputs": [
        {
          "output_type": "stream",
          "text": [
            "Confusion Matrix: \n",
            "[[64  4]\n",
            " [ 3 29]]\n",
            "\n",
            "Accuracy: 93.00%\n"
          ],
          "name": "stdout"
        }
      ]
    }
  ]
}